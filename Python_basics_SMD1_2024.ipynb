{
  "cells": [
    {
      "cell_type": "markdown",
      "metadata": {
        "id": "view-in-github",
        "colab_type": "text"
      },
      "source": [
        "<a href=\"https://colab.research.google.com/github/cparent3/SMD1_2024_25/blob/main/Python_basics_SMD1_2024.ipynb\" target=\"_parent\"><img src=\"https://colab.research.google.com/assets/colab-badge.svg\" alt=\"Open In Colab\"/></a>"
      ]
    },
    {
      "cell_type": "markdown",
      "metadata": {
        "id": "zbJ2fw29OHAX"
      },
      "source": [
        "Notebook prepared by Caroline Parent."
      ]
    },
    {
      "cell_type": "markdown",
      "metadata": {
        "id": "JbVT11Y8CbAu"
      },
      "source": [
        "# Welcome"
      ]
    },
    {
      "cell_type": "markdown",
      "metadata": {
        "id": "kw1B2R_WCU7X"
      },
      "source": [
        "Bienvenue dans ce Notebook ! Nous allons apprendre les bases du langage de programmation Python. \\\n",
        "Pourquoi Python ?\n",
        "Python est un langage avec des constructions syntaxiques simples et lisibles, ce qui le rend facile à apprendre et à utiliser. D'ailleurs, Python est largement utilisé dans la recherche et dans l'industrie : deep learning, analyse de données, création de graphiques, modélisation, contrôle d'instruments... Les possibilités avec Python sont (presque) infinies !"
      ]
    },
    {
      "cell_type": "markdown",
      "metadata": {
        "id": "G-1GNupNYAJE"
      },
      "source": [
        "\n",
        "\n",
        "---\n",
        "\n",
        "\n",
        "# **Séance 1**\n",
        "\n",
        "\n"
      ]
    },
    {
      "cell_type": "markdown",
      "metadata": {
        "id": "YV4sYCn8EPwb"
      },
      "source": [
        "# **Notebooks**"
      ]
    },
    {
      "cell_type": "markdown",
      "metadata": {
        "id": "2HuuwOcQEYQI"
      },
      "source": [
        "Nous utiliserons des notebooks dans Google Colab pour apprendre et coder. Les notebooks sont un excellent moyen de mélanger du code exécutable avec des contenus riches (HTML, images, équations écrites en LaTeX). Colab permet d'exécuter des notebooks sur le cloud gratuitement, sans aucune installation préalable, tout en tirant parti de la puissance des [GPUs](https://en.wikipedia.org/wiki/Graphics_processing_unit)."
      ]
    },
    {
      "cell_type": "markdown",
      "metadata": {
        "id": "t0XmMkPuGGOs"
      },
      "source": [
        "Le document que vous lisez n'est pas une page web statique, mais un environnement interactif appelé notebook, qui vous permet d'écrire et d'exécuter du code. Les notebooks sont composés de ce qu'on appelle des cellules de code, des blocs contenant une ou plusieurs instructions Python. Par exemple, voici une cellule de code qui stocke le résultat d'un calcul (le nombre de secondes dans une journée) dans une variable et affiche sa valeur :"
      ]
    },
    {
      "cell_type": "code",
      "execution_count": null,
      "metadata": {
        "colab": {
          "base_uri": "https://localhost:8080/"
        },
        "id": "qeGAvLq1ALJ4",
        "outputId": "7c576946-860a-4fc0-aa05-c44371f8d851"
      },
      "outputs": [
        {
          "output_type": "execute_result",
          "data": {
            "text/plain": [
              "86400"
            ]
          },
          "metadata": {},
          "execution_count": 1
        }
      ],
      "source": [
        "seconds_in_a_day = 24 * 60 * 60\n",
        "seconds_in_a_day"
      ]
    },
    {
      "cell_type": "markdown",
      "metadata": {
        "id": "njoPs3q1G75-"
      },
      "source": [
        "Cliquez sur le bouton \"play\" pour exécuter la cellule. Vous devriez voir le résultat. Alternativement, vous pouvez également exécuter la cellule en appuyant sur Ctrl + Entrée si vous êtes sous Windows / Linux, ou Commande + Entrée si vous êtes sur un Mac."
      ]
    },
    {
      "cell_type": "markdown",
      "metadata": {
        "id": "NvdYaBgHHdbw"
      },
      "source": [
        "Les variables que vous avez définies dans une cellule peuvent ensuite être utilisées dans d'autres cellules:"
      ]
    },
    {
      "cell_type": "code",
      "execution_count": null,
      "metadata": {
        "colab": {
          "base_uri": "https://localhost:8080/"
        },
        "id": "s1kp5Zv0JBSx",
        "outputId": "a978d778-ef36-482f-e2da-a8c1c7ac0935"
      },
      "outputs": [
        {
          "output_type": "execute_result",
          "data": {
            "text/plain": [
              "604800"
            ]
          },
          "metadata": {},
          "execution_count": 3
        }
      ],
      "source": [
        "seconds_in_a_week = 7 * seconds_in_a_day\n",
        "seconds_in_a_week"
      ]
    },
    {
      "cell_type": "markdown",
      "metadata": {
        "id": "uALfY4q1JFQ0"
      },
      "source": [
        "Notez que l'ordre d'exécution est important. Par exemple, si nous n'exécutons pas la cellule contenant seconds_in_a_day au préalable, la cellule ci-dessus générera une erreur, car elle dépend de cette variable. Pour vous assurer que vous exécutez toutes les cellules dans le bon ordre, vous pouvez également cliquer sur 'Runtime' dans le menu supérieur, puis sur 'Run all'."
      ]
    },
    {
      "cell_type": "markdown",
      "metadata": {
        "id": "HvXs_KaoRWQ9"
      },
      "source": [
        "**Exercice.** Ajoutez une cellule en dessous de cette cellule : cliquez sur cette cellule puis cliquez sur '+ Code'. Dans la nouvelle cellule, calculez le nombre de secondes dans une année en réutilisant la variable `seconds_in_a_day`. Exécutez la nouvelle cellule."
      ]
    },
    {
      "cell_type": "markdown",
      "metadata": {
        "id": "qyLSwlxnJqXX"
      },
      "source": [
        "# **La notion de variable**"
      ]
    },
    {
      "cell_type": "markdown",
      "metadata": {
        "id": "yontemweTAWq"
      },
      "source": [
        "## **Définition**"
      ]
    },
    {
      "cell_type": "markdown",
      "metadata": {
        "id": "aU8lPM4TDvzz"
      },
      "source": [
        "Une variable est une zone de mémoire dans laquelle est stockée une valeur, associée à un nom. Les variables permettent de stocker et manipuler les données du programme.\n"
      ]
    },
    {
      "cell_type": "markdown",
      "metadata": {
        "id": "2crXTRyXsdEZ"
      },
      "source": [
        "## **Créer une variable**\n"
      ]
    },
    {
      "cell_type": "markdown",
      "metadata": {
        "id": "3erUZiecTJa5"
      },
      "source": [
        "Pour définir une variable, on affecte une valeur à un nom avec le caractère `=` ."
      ]
    },
    {
      "cell_type": "code",
      "execution_count": null,
      "metadata": {
        "id": "h-MbfX-bDukF"
      },
      "outputs": [],
      "source": [
        "ma_premiere_variable = 1"
      ]
    },
    {
      "cell_type": "markdown",
      "metadata": {
        "id": "qrkJlH8yEOjm"
      },
      "source": [
        "On peut ensuite appeler cette variable par son nom:"
      ]
    },
    {
      "cell_type": "code",
      "execution_count": null,
      "metadata": {
        "colab": {
          "base_uri": "https://localhost:8080/"
        },
        "id": "kIbWZPppTWDW",
        "outputId": "95fd12dd-05cd-4037-dadd-32e7d9165874"
      },
      "outputs": [
        {
          "output_type": "execute_result",
          "data": {
            "text/plain": [
              "1"
            ]
          },
          "metadata": {},
          "execution_count": 5
        }
      ],
      "source": [
        "ma_premiere_variable"
      ]
    },
    {
      "cell_type": "markdown",
      "metadata": {
        "id": "ze0o23JcGTA6"
      },
      "source": [
        "et on peut changer la valeur de la variable en lui réaffectant une nouvelle valeur:"
      ]
    },
    {
      "cell_type": "code",
      "execution_count": null,
      "metadata": {
        "colab": {
          "base_uri": "https://localhost:8080/"
        },
        "id": "bnoW90SxGShZ",
        "outputId": "e560b192-5908-4abc-b0a6-9a2babef6ee1"
      },
      "outputs": [
        {
          "output_type": "execute_result",
          "data": {
            "text/plain": [
              "45"
            ]
          },
          "metadata": {},
          "execution_count": 6
        }
      ],
      "source": [
        "ma_premiere_variable = 45\n",
        "ma_premiere_variable"
      ]
    },
    {
      "cell_type": "markdown",
      "metadata": {
        "id": "NkL21LHyEW2y"
      },
      "source": [
        "*NB.* Dans un Notebook, il suffit d'écrire le nom d'une variable pour afficher son résultat. Ce n'est pas le cas dans d'autres environnements Python, où il est nécessaire d'utiliser la fonction `print()` pour afficher du texte, des valeurs, etc.\n",
        "`print()` peut être utile dans un notebook lorsque l'on souhaite afficher plusieurs éléments en même temps."
      ]
    },
    {
      "cell_type": "code",
      "execution_count": null,
      "metadata": {
        "colab": {
          "base_uri": "https://localhost:8080/"
        },
        "id": "TCvK4XDOUXgJ",
        "outputId": "4c837472-e440-4694-d5dd-b6047df7f22b"
      },
      "outputs": [
        {
          "data": {
            "text/plain": [
              "2"
            ]
          },
          "execution_count": 32,
          "metadata": {},
          "output_type": "execute_result"
        }
      ],
      "source": [
        "une_deuxième_variable = 2\n",
        "ma_premiere_variable\n",
        "une_deuxième_variable"
      ]
    },
    {
      "cell_type": "code",
      "execution_count": null,
      "metadata": {
        "colab": {
          "base_uri": "https://localhost:8080/"
        },
        "id": "GWE4Nw5bsaR9",
        "outputId": "94e1aab5-7fde-4982-8b7b-7a3c9ade8518"
      },
      "outputs": [
        {
          "name": "stdout",
          "output_type": "stream",
          "text": [
            "1ere variable : 45\n",
            "2eme variable : 2\n"
          ]
        }
      ],
      "source": [
        "print('1ere variable :', ma_premiere_variable)\n",
        "print('2eme variable :', une_deuxième_variable)"
      ]
    },
    {
      "cell_type": "markdown",
      "metadata": {
        "id": "VrYAmfRjFY9p"
      },
      "source": [
        "Il y a quelques **règles pour définir une variable** en Python :\n",
        "*   Les noms de variables peuvent contenir des lettres, des chiffres et des underscores `_`, mais **ne doivent pas contenir d'espaces** et autres caractères spéciaux\n",
        "* Une variable doit **commencer par une lettre**, jamais par un chiffre\n",
        "* Python est **sensible à la casse**, donc `nom` et `Nom` sont des variables différentes\n",
        "* Ne pas utiliser des noms qui sont des mots-clé Python qui ont déjà une signification (`str`, `print`, `for` ...)\n"
      ]
    },
    {
      "cell_type": "markdown",
      "metadata": {
        "id": "_JoqY68ksf70"
      },
      "source": [
        "## **Les types**"
      ]
    },
    {
      "cell_type": "markdown",
      "metadata": {
        "id": "H3KT15qOGmG6"
      },
      "source": [
        "Vous avez probablement remarqué qu'en Python, il n'est pas nécessaire de spécifier le type d'une variable lors de sa création, que ce soit pour du texte, des nombres, etc. Python détermine automatiquement le type en fonction de la valeur qui lui est assignée.\n",
        "\n",
        "Il existe de nombreux types de données natifs en Python, et nous allons explorer quelques-uns d'entre eux ici."
      ]
    },
    {
      "cell_type": "markdown",
      "metadata": {
        "id": "Pzm2k34uHoDe"
      },
      "source": [
        "Tout d'abord, nous avons les **nombres entiers**, appelés *integers* ou *int*, que nous avons déjà vus.\n",
        "\n",
        "Ensuite, il y a les **nombres décimaux**, appelés *float*. Ils sont représentés par des nombres comportant un point décimal."
      ]
    },
    {
      "cell_type": "code",
      "execution_count": null,
      "metadata": {
        "colab": {
          "base_uri": "https://localhost:8080/"
        },
        "id": "I4VsuiZvJb2p",
        "outputId": "759bbe87-8867-4017-bd26-3fa662df87f0"
      },
      "outputs": [
        {
          "data": {
            "text/plain": [
              "1.2"
            ]
          },
          "execution_count": 14,
          "metadata": {},
          "output_type": "execute_result"
        }
      ],
      "source": [
        "decimal = 1.2\n",
        "decimal"
      ]
    },
    {
      "cell_type": "code",
      "execution_count": null,
      "metadata": {
        "colab": {
          "base_uri": "https://localhost:8080/"
        },
        "id": "Y7v6MKmnJjOK",
        "outputId": "d5a68d0e-9b3f-4c83-8677-7b43fdd312f9"
      },
      "outputs": [
        {
          "output_type": "execute_result",
          "data": {
            "text/plain": [
              "2.0"
            ]
          },
          "metadata": {},
          "execution_count": 9
        }
      ],
      "source": [
        "decimal = 2.0\n",
        "decimal"
      ]
    },
    {
      "cell_type": "markdown",
      "metadata": {
        "id": "2fmiODPUJbRG"
      },
      "source": [
        "Il y a également les **chaînes de caractères**, appelées *string* ou *str*. Elles représentent du texte. Pour les définir, il suffit de mettre le texte entre guillemets ; simples `''` ou doubles `\"\"`, peu importe."
      ]
    },
    {
      "cell_type": "code",
      "execution_count": null,
      "metadata": {
        "colab": {
          "base_uri": "https://localhost:8080/",
          "height": 35
        },
        "id": "N0dUqpdDHnZR",
        "outputId": "4bc1967c-fdbf-4ff6-94ed-68ae2760ce29"
      },
      "outputs": [
        {
          "data": {
            "application/vnd.google.colaboratory.intrinsic+json": {
              "type": "string"
            },
            "text/plain": [
              "'Voici une première chaine de caractères.'"
            ]
          },
          "execution_count": 35,
          "metadata": {},
          "output_type": "execute_result"
        }
      ],
      "source": [
        "chaine = 'Voici une première chaine de caractères.'\n",
        "chaine"
      ]
    },
    {
      "cell_type": "code",
      "execution_count": null,
      "metadata": {
        "colab": {
          "base_uri": "https://localhost:8080/",
          "height": 35
        },
        "id": "IV5VadYlJHFB",
        "outputId": "5132c0ad-868b-4004-97e8-b43c4c7724c8"
      },
      "outputs": [
        {
          "data": {
            "application/vnd.google.colaboratory.intrinsic+json": {
              "type": "string"
            },
            "text/plain": [
              "'12'"
            ]
          },
          "execution_count": 42,
          "metadata": {},
          "output_type": "execute_result"
        }
      ],
      "source": [
        "chaine2 = \"12\"\n",
        "chaine2"
      ]
    },
    {
      "cell_type": "markdown",
      "metadata": {
        "id": "IWmZhIKTI9Q0"
      },
      "source": [
        "À noter que l'on peut connaitre le type de la variable avec la fonction `type()` :"
      ]
    },
    {
      "cell_type": "code",
      "execution_count": null,
      "metadata": {
        "colab": {
          "base_uri": "https://localhost:8080/"
        },
        "id": "TqXhdKijKtvL",
        "outputId": "95b7c430-e3e3-4d01-f6c1-a96694c7726c"
      },
      "outputs": [
        {
          "data": {
            "text/plain": [
              "str"
            ]
          },
          "execution_count": 37,
          "metadata": {},
          "output_type": "execute_result"
        }
      ],
      "source": [
        "type(chaine2)"
      ]
    },
    {
      "cell_type": "markdown",
      "metadata": {
        "id": "VU1TAdfAKxzQ"
      },
      "source": [
        "Il existe encore de nombreux autres types en python, comme les **booléen** *bool* et les **listes** que nous aurons le temps de découvrir plus tard. Vous pouvez jetter un oeil à la [documentation Python](https://docs.python.org/fr/3.12/library/stdtypes.html)  pour découvrir les autres."
      ]
    },
    {
      "cell_type": "markdown",
      "metadata": {
        "id": "XfhL3PDmWXhR"
      },
      "source": [
        "**Exercice**\n",
        "Créez vos premières variables de types différents: une variable `nombre_int` qui vaut un nombre entier, une variable `nombre_dec` qui correspond à un nombre décimal, une chaine de caractères..."
      ]
    },
    {
      "cell_type": "code",
      "execution_count": null,
      "metadata": {
        "id": "nZ6JwaRRW2Sg"
      },
      "outputs": [],
      "source": []
    },
    {
      "cell_type": "markdown",
      "metadata": {
        "id": "uwfzSDjmtHZg"
      },
      "source": [
        "## **Opérations de base sur les nombres**"
      ]
    },
    {
      "cell_type": "markdown",
      "metadata": {
        "id": "beF0rBTkI8FP"
      },
      "source": [
        "On peut manipuler les variables numériques avec des opérations de bases : addition, soustraction...\n",
        "Rien de sorcier, voici la synthaxe:\n",
        "*   addition: `a+b`\n",
        "*   soustraction: `a-b`\n",
        "*   multiplication: `a*b`\n",
        "*   division: `a/b`\n",
        "\n",
        "\n",
        "Les puissances se nottent `a**b`. On peut aussi récupérer le quotient d'une division euclidienne: `a//b` ; et son reste: `a%b`."
      ]
    },
    {
      "cell_type": "code",
      "execution_count": null,
      "metadata": {
        "colab": {
          "base_uri": "https://localhost:8080/"
        },
        "id": "l6VOQVDQspT8",
        "outputId": "e265f841-43b2-4c7b-f3f4-6542d4d68302"
      },
      "outputs": [
        {
          "data": {
            "text/plain": [
              "6.428571428571429"
            ]
          },
          "execution_count": 85,
          "metadata": {},
          "output_type": "execute_result"
        }
      ],
      "source": [
        "a = 45\n",
        "b = 7\n",
        "c = a/b\n",
        "c"
      ]
    },
    {
      "cell_type": "markdown",
      "metadata": {
        "id": "MjHvdpzp4VS5"
      },
      "source": [
        "On peut arrondir un nombre décimal en précisant ou non le nombre de chiffres après la virgule avec `round(a)` ou `round(a,n)` :"
      ]
    },
    {
      "cell_type": "code",
      "execution_count": null,
      "metadata": {
        "colab": {
          "base_uri": "https://localhost:8080/"
        },
        "id": "UFBVJQ2c5A71",
        "outputId": "1ac578dd-0285-4d3c-edf6-78b6a7a8ba36"
      },
      "outputs": [
        {
          "data": {
            "text/plain": [
              "6"
            ]
          },
          "execution_count": 86,
          "metadata": {},
          "output_type": "execute_result"
        }
      ],
      "source": [
        "round(c)"
      ]
    },
    {
      "cell_type": "code",
      "execution_count": null,
      "metadata": {
        "colab": {
          "base_uri": "https://localhost:8080/"
        },
        "id": "bbm7IHMy5DK4",
        "outputId": "64f44d38-f73c-4249-80d4-cc41e6d087b0"
      },
      "outputs": [
        {
          "data": {
            "text/plain": [
              "6.43"
            ]
          },
          "execution_count": 87,
          "metadata": {},
          "output_type": "execute_result"
        }
      ],
      "source": [
        "round(c,2)"
      ]
    },
    {
      "cell_type": "markdown",
      "metadata": {
        "id": "pSSnBSUb5Mjd"
      },
      "source": [
        "Et récupérer la valeur absolue avec `abs()` :"
      ]
    },
    {
      "cell_type": "code",
      "execution_count": null,
      "metadata": {
        "colab": {
          "base_uri": "https://localhost:8080/"
        },
        "id": "5AnKbRt-5Wf9",
        "outputId": "f1db79ab-ff7a-4a8f-d048-2c3ab8583465"
      },
      "outputs": [
        {
          "data": {
            "text/plain": [
              "4.3"
            ]
          },
          "execution_count": 88,
          "metadata": {},
          "output_type": "execute_result"
        }
      ],
      "source": [
        "d = -4.3\n",
        "abs(d)"
      ]
    },
    {
      "cell_type": "markdown",
      "metadata": {
        "id": "Kt_zjufHXDbt"
      },
      "source": [
        "**Exercice**\n",
        "Créez deux variables numériques et manipulez les différentes opérations présentées ci-dessus."
      ]
    },
    {
      "cell_type": "code",
      "execution_count": null,
      "metadata": {
        "id": "h-ki48gKXBc1"
      },
      "outputs": [],
      "source": []
    },
    {
      "cell_type": "markdown",
      "metadata": {
        "id": "lz2XGlzNRqXk"
      },
      "source": [
        "**Exercice** Prédisez le résultat des instructions suivantes, puis vérifiez en tappant les instructions dans une ligne de code:\\\n",
        "`15%3` \\\n",
        "`45/2` \\\n",
        "`'A'*2` \\\n",
        "`(1+2)**3` \\\n",
        "`'A'+'B'` \\\n",
        "`round(23/2)` \\\n",
        "`str(25)*2` \\\n",
        "`str(4) * int(\"3\")` \\\n"
      ]
    },
    {
      "cell_type": "code",
      "execution_count": null,
      "metadata": {
        "id": "_J_My2chSrQw"
      },
      "outputs": [],
      "source": []
    },
    {
      "cell_type": "markdown",
      "metadata": {
        "id": "n8DjY98hsqGS"
      },
      "source": [
        "# **Les listes**"
      ]
    },
    {
      "cell_type": "markdown",
      "metadata": {
        "id": "Zr_R-8jfLDRb"
      },
      "source": [
        "En Python, **une liste est une collection ordonnée et modifiable d'éléments**. Elle peut contenir des types de données variés, comme des nombres, des chaînes de caractères, voire d'autres listes. Les éléments d'une liste sont placés entre crochets `[]` et séparés par des virgules."
      ]
    },
    {
      "cell_type": "markdown",
      "metadata": {
        "id": "CcISeOjYeF5g"
      },
      "source": [
        "## **Création et manipulation de listes**"
      ]
    },
    {
      "cell_type": "markdown",
      "metadata": {
        "id": "Qj2SRd-eXNJm"
      },
      "source": [
        "On peut initialiser une liste vide :"
      ]
    },
    {
      "cell_type": "code",
      "execution_count": null,
      "metadata": {
        "colab": {
          "base_uri": "https://localhost:8080/"
        },
        "id": "pH6aPbaIXQkG",
        "outputId": "d52a4760-5c6d-4376-c5e5-419e16b697e7"
      },
      "outputs": [
        {
          "data": {
            "text/plain": [
              "[]"
            ]
          },
          "execution_count": 70,
          "metadata": {},
          "output_type": "execute_result"
        }
      ],
      "source": [
        "ma_liste = []\n",
        "ma_liste"
      ]
    },
    {
      "cell_type": "markdown",
      "metadata": {
        "id": "H5vOgfwUXVty"
      },
      "source": [
        "Ou avec quelques éléments :"
      ]
    },
    {
      "cell_type": "code",
      "execution_count": null,
      "metadata": {
        "colab": {
          "base_uri": "https://localhost:8080/"
        },
        "id": "JxJjzPGbMCzj",
        "outputId": "25d4d4b7-ca0a-42c6-cfc1-3555040624a8"
      },
      "outputs": [
        {
          "data": {
            "text/plain": [
              "[1, 2, 3, 4, 5, 6, 7, 8, 9]"
            ]
          },
          "execution_count": 71,
          "metadata": {},
          "output_type": "execute_result"
        }
      ],
      "source": [
        "ma_liste = [1,2,3,4,5,6,7,8,9]\n",
        "ma_liste"
      ]
    },
    {
      "cell_type": "markdown",
      "metadata": {
        "id": "r8hx1JrmMLH9"
      },
      "source": [
        "Les listes peuvent contenir des éléments de différents types :"
      ]
    },
    {
      "cell_type": "code",
      "execution_count": null,
      "metadata": {
        "id": "yxTkZ1lKMKVQ"
      },
      "outputs": [],
      "source": [
        "autre_liste = ['arbre', 12, [1,2]]"
      ]
    },
    {
      "cell_type": "markdown",
      "metadata": {
        "id": "AijpS2GnZyqO"
      },
      "source": [
        "Les éléments d'une liste sont indexés de 0 à N-1. On peut donc accéder aux éléments de la liste par leurs indices :"
      ]
    },
    {
      "cell_type": "code",
      "execution_count": null,
      "metadata": {
        "colab": {
          "base_uri": "https://localhost:8080/"
        },
        "id": "pyFxyZPVYpG_",
        "outputId": "727ea071-40e0-4c00-fa08-744637f0e3d9"
      },
      "outputs": [
        {
          "data": {
            "text/plain": [
              "3"
            ]
          },
          "execution_count": 43,
          "metadata": {},
          "output_type": "execute_result"
        }
      ],
      "source": [
        "ma_liste[2]"
      ]
    },
    {
      "cell_type": "markdown",
      "metadata": {
        "id": "hPMrIDYsdgMP"
      },
      "source": [
        "Nous pouvons accéder à des \"tranches\" ou *slices* d'une liste en utilisant `ma_liste[i:j]` où `i` est le début de la tranche et `j` la fin de la tranche. Par exemple:"
      ]
    },
    {
      "cell_type": "code",
      "execution_count": null,
      "metadata": {
        "colab": {
          "base_uri": "https://localhost:8080/"
        },
        "id": "Ichf9p0gd7tJ",
        "outputId": "428ab7d9-3b3e-4cdf-c284-7c77dc8f5e44"
      },
      "outputs": [
        {
          "data": {
            "text/plain": [
              "[2, 3, 4, 5]"
            ]
          },
          "execution_count": 44,
          "metadata": {},
          "output_type": "execute_result"
        }
      ],
      "source": [
        "ma_liste[1:5]"
      ]
    },
    {
      "cell_type": "markdown",
      "metadata": {
        "id": "KMbzH4tzQ9rI"
      },
      "source": [
        "Omettre le second indice signifie que la tranche s'étendra jusqu'à la fin de la liste."
      ]
    },
    {
      "cell_type": "code",
      "execution_count": null,
      "metadata": {
        "colab": {
          "base_uri": "https://localhost:8080/"
        },
        "id": "O7wCthKnREKV",
        "outputId": "b676f95e-41b3-4a9a-937b-bb70c783d702"
      },
      "outputs": [
        {
          "data": {
            "text/plain": [
              "[3, 4, 5, 6, 7, 8, 9]"
            ]
          },
          "execution_count": 45,
          "metadata": {},
          "output_type": "execute_result"
        }
      ],
      "source": [
        "ma_liste[2:]"
      ]
    },
    {
      "cell_type": "markdown",
      "metadata": {
        "id": "ndXh0VJCat6M"
      },
      "source": [
        "On peut accèder au dernier élément d'une liste avec `ma_liste[-1]` :"
      ]
    },
    {
      "cell_type": "code",
      "execution_count": null,
      "metadata": {
        "colab": {
          "base_uri": "https://localhost:8080/"
        },
        "id": "koEOAcBOatTf",
        "outputId": "ebab316a-020e-4967-cd78-e7465db52ad8"
      },
      "outputs": [
        {
          "data": {
            "text/plain": [
              "9"
            ]
          },
          "execution_count": 46,
          "metadata": {},
          "output_type": "execute_result"
        }
      ],
      "source": [
        "ma_liste[-1]"
      ]
    },
    {
      "cell_type": "markdown",
      "metadata": {
        "id": "64IV5y4GpOBg"
      },
      "source": [
        "Et ne prendre que certains éléments de la liste avec un pas :"
      ]
    },
    {
      "cell_type": "code",
      "execution_count": null,
      "metadata": {
        "colab": {
          "base_uri": "https://localhost:8080/"
        },
        "id": "Yj9j89BtpGRq",
        "outputId": "9f81419b-a572-48ee-8fd4-5fc29a475a60"
      },
      "outputs": [
        {
          "data": {
            "text/plain": [
              "[1, 3, 5, 7, 9]"
            ]
          },
          "execution_count": 47,
          "metadata": {},
          "output_type": "execute_result"
        }
      ],
      "source": [
        "ma_liste[::2]"
      ]
    },
    {
      "cell_type": "markdown",
      "metadata": {
        "id": "TXDhhysfpXRL"
      },
      "source": [
        "À noter un comportement qui peut paraitre étrange en Pyhton lorsqu'on copie une liste avec `=` :"
      ]
    },
    {
      "cell_type": "code",
      "execution_count": null,
      "metadata": {
        "colab": {
          "base_uri": "https://localhost:8080/"
        },
        "id": "FiQDfH6opoZQ",
        "outputId": "fa801177-c87d-4d43-c451-bc04f7567311"
      },
      "outputs": [
        {
          "data": {
            "text/plain": [
              "[1, 2, 3, 'a', 5]"
            ]
          },
          "execution_count": 48,
          "metadata": {},
          "output_type": "execute_result"
        }
      ],
      "source": [
        "L1 = [1,2,3,4,5]\n",
        "L2 = L1\n",
        "L2[3] = 'a'\n",
        "L2"
      ]
    },
    {
      "cell_type": "code",
      "execution_count": null,
      "metadata": {
        "colab": {
          "base_uri": "https://localhost:8080/"
        },
        "id": "ZhKifoDdpz9l",
        "outputId": "1b1f5bdc-17a8-4cf4-e25a-389b238a9f27"
      },
      "outputs": [
        {
          "data": {
            "text/plain": [
              "[1, 2, 3, 'a', 5]"
            ]
          },
          "execution_count": 49,
          "metadata": {},
          "output_type": "execute_result"
        }
      ],
      "source": [
        "L1"
      ]
    },
    {
      "cell_type": "markdown",
      "metadata": {
        "id": "ySGXjyMmpznb"
      },
      "source": [
        "Nous n'avons pas explicitement modifié `L1`, pourtant nous pouvons voir qu'elle a été modifiée. Cela est dû au fait que `L1` et `L2` font référence au même objet en mémoire. Par conséquent, lorsque nous modifions `L2`, nous modifions également l'objet partagé, et donc `L1` est également affecté.\n",
        "Si on a besoin de copier une liste sans affecter l'originale, ou pourra utiliser `L[:]`:"
      ]
    },
    {
      "cell_type": "code",
      "execution_count": null,
      "metadata": {
        "colab": {
          "base_uri": "https://localhost:8080/"
        },
        "id": "MIwBVihgqyXI",
        "outputId": "52e0fb14-2cbc-47b6-9c56-e8f35d773f73"
      },
      "outputs": [
        {
          "data": {
            "text/plain": [
              "[1, 2, 3, 'a', 5]"
            ]
          },
          "execution_count": 50,
          "metadata": {},
          "output_type": "execute_result"
        }
      ],
      "source": [
        "L1 = [1,2,3,4,5]\n",
        "L2 = L1[:]\n",
        "L2[3] = 'a'\n",
        "L2"
      ]
    },
    {
      "cell_type": "code",
      "execution_count": null,
      "metadata": {
        "colab": {
          "base_uri": "https://localhost:8080/"
        },
        "id": "HZPud_dFy4dw",
        "outputId": "cccaa334-347b-4870-b577-e098c0d00e94"
      },
      "outputs": [
        {
          "data": {
            "text/plain": [
              "[1, 2, 3, 4, 5]"
            ]
          },
          "execution_count": 51,
          "metadata": {},
          "output_type": "execute_result"
        }
      ],
      "source": [
        "L1"
      ]
    },
    {
      "cell_type": "markdown",
      "metadata": {
        "id": "TgnamMjnXsTj"
      },
      "source": [
        "**Exercice**\n",
        "1.   Créez une liste contennant des chiffres de 1 à 10\n",
        "2.   Récupérez la tranche de la liste contenant les chiffres de 2 à 6\n",
        "3.   Affichez les éléments de la liste impairs du plus grand au plus petit\n",
        "4.   Remplacez 9 par 'neuf'\n"
      ]
    },
    {
      "cell_type": "code",
      "execution_count": null,
      "metadata": {
        "id": "wm_5G7RHXrou"
      },
      "outputs": [],
      "source": []
    },
    {
      "cell_type": "markdown",
      "metadata": {
        "id": "Fc83mxtXq8t3"
      },
      "source": [
        "## **Quelques opérations sur les listes**\n",
        "Nous allons voir maintenant quelques fonctions et méthodes de listes qui peuvent s'avérer utiles."
      ]
    },
    {
      "cell_type": "markdown",
      "metadata": {
        "id": "Fwv2bk-ry_tI"
      },
      "source": [
        "*Attention !* On ne peut pas utiliser des opération mathématiques sur des listes de nombres. L'addition de liste va concaténer les listes, la multiplication également, les autres vont soulever une erreur. Nous verrons plus tard un autre type, les `array`, qui sont beaucoup plus adaptées aux manipulations mathématiques de séquences d'objet."
      ]
    },
    {
      "cell_type": "markdown",
      "metadata": {
        "id": "5u05Dj7yqyCJ"
      },
      "source": [
        "Les listes ont une taille dynamique, on peut ajouter des éléments à une liste en concaténat deux liste avec `+` avec la méthode `.append()`"
      ]
    },
    {
      "cell_type": "code",
      "execution_count": null,
      "metadata": {
        "colab": {
          "base_uri": "https://localhost:8080/"
        },
        "id": "MhugwrCZsJhm",
        "outputId": "86023ae3-cfe3-4956-b6c3-f6bc05497e4e"
      },
      "outputs": [
        {
          "data": {
            "text/plain": [
              "[1, 2, 3, 4, 5, 6, 7, 8, 9, 89]"
            ]
          },
          "execution_count": 57,
          "metadata": {},
          "output_type": "execute_result"
        }
      ],
      "source": [
        "ma_liste = [1,2,3,4,5,6,7,8,9]\n",
        "ma_liste + [89]"
      ]
    },
    {
      "cell_type": "markdown",
      "metadata": {
        "id": "7bMfh86qsF1S"
      },
      "source": [
        "Ceci est équivalent à :"
      ]
    },
    {
      "cell_type": "code",
      "execution_count": null,
      "metadata": {
        "colab": {
          "base_uri": "https://localhost:8080/"
        },
        "id": "QFTNqiYiXxAh",
        "outputId": "e697f5a7-b50a-4e45-8817-201a71380a18"
      },
      "outputs": [
        {
          "data": {
            "text/plain": [
              "[1, 2, 3, 4, 5, 6, 7, 8, 9, 89]"
            ]
          },
          "execution_count": 58,
          "metadata": {},
          "output_type": "execute_result"
        }
      ],
      "source": [
        "ma_liste = [1,2,3,4,5,6,7,8,9]\n",
        "ma_liste.append(89)\n",
        "ma_liste"
      ]
    },
    {
      "cell_type": "markdown",
      "metadata": {
        "id": "c8091ZGdsUaY"
      },
      "source": [
        "On préfèrera la méthode `.append()` pour plus de lisibilité."
      ]
    },
    {
      "cell_type": "markdown",
      "metadata": {
        "id": "HNYffDJCsbpq"
      },
      "source": [
        "On peut accéder à la taille d'une liste avec la fonction `len()`:"
      ]
    },
    {
      "cell_type": "code",
      "execution_count": null,
      "metadata": {
        "colab": {
          "base_uri": "https://localhost:8080/"
        },
        "id": "zBuSWU11shTm",
        "outputId": "0a5dafd2-8cb2-492d-adec-a26ad071c15a"
      },
      "outputs": [
        {
          "data": {
            "text/plain": [
              "10"
            ]
          },
          "execution_count": 17,
          "metadata": {},
          "output_type": "execute_result"
        }
      ],
      "source": [
        "len(ma_liste)"
      ]
    },
    {
      "cell_type": "markdown",
      "metadata": {
        "id": "yJpmchUssmC8"
      },
      "source": [
        "Et savoir si un élément se trouve dans une liste avec `in` :"
      ]
    },
    {
      "cell_type": "code",
      "execution_count": null,
      "metadata": {
        "colab": {
          "base_uri": "https://localhost:8080/"
        },
        "id": "a_P5NCi-efvb",
        "outputId": "793c6ac4-f0bd-43fb-e5dd-3d4885828850"
      },
      "outputs": [
        {
          "data": {
            "text/plain": [
              "True"
            ]
          },
          "execution_count": 18,
          "metadata": {},
          "output_type": "execute_result"
        }
      ],
      "source": [
        "5 in ma_liste"
      ]
    },
    {
      "cell_type": "markdown",
      "metadata": {
        "id": "5JfEHLgic0un"
      },
      "source": [
        "Vous vouvez voir que `in` renvoie `True` ou `False`: il s'agit de variables booléennes !"
      ]
    },
    {
      "cell_type": "markdown",
      "metadata": {
        "id": "LKGtPrWf0s4q"
      },
      "source": [
        "Il existe beaucoup de fonctions natives en Python pour vous aider à manipuler les listes : `min(list)`, `max(list)`..."
      ]
    },
    {
      "cell_type": "code",
      "execution_count": null,
      "metadata": {
        "colab": {
          "base_uri": "https://localhost:8080/"
        },
        "id": "AZoEaQ5Z0sK_",
        "outputId": "c45fd3af-e2fb-4dba-b70c-8a8723d6cbdd"
      },
      "outputs": [
        {
          "data": {
            "text/plain": [
              "89"
            ]
          },
          "execution_count": 19,
          "metadata": {},
          "output_type": "execute_result"
        }
      ],
      "source": [
        "max(ma_liste)"
      ]
    },
    {
      "cell_type": "markdown",
      "metadata": {
        "id": "63B-AMEzdMrY"
      },
      "source": [
        "On peut également supprimer les éléments d'une liste avec `.remove()` et `del`, insérer un élément à un indice précis avec `.insert()`, compter les occurences avec `.count()`... Beaucoup d'outils sont disponibles, n'hésitez pas à chercher ce qu'il vous faut dans les [documentations](https://docs.python.org/fr/3/tutorial/datastructures.html) disponibles."
      ]
    },
    {
      "cell_type": "markdown",
      "metadata": {
        "id": "SOwjrTIjebpT"
      },
      "source": [
        "Pour trier une liste, on utilise la méthode `.sort()` ou la fonction `sorted()`"
      ]
    },
    {
      "cell_type": "code",
      "execution_count": null,
      "metadata": {
        "colab": {
          "base_uri": "https://localhost:8080/"
        },
        "id": "AiiN4I8oeaxV",
        "outputId": "66ad1dcb-404d-4698-aa0b-459f55779db3"
      },
      "outputs": [
        {
          "data": {
            "text/plain": [
              "[0, 1, 2, 3, 4, 6, 9, 12, 15, 24]"
            ]
          },
          "execution_count": 71,
          "metadata": {},
          "output_type": "execute_result"
        }
      ],
      "source": [
        "ma_liste_melange = [4, 6, 2, 0, 3, 9, 24, 12, 1, 15]\n",
        "ma_liste_melange.sort()\n",
        "ma_liste_melange"
      ]
    },
    {
      "cell_type": "code",
      "execution_count": null,
      "metadata": {
        "colab": {
          "base_uri": "https://localhost:8080/"
        },
        "id": "4tlSwVoafCyh",
        "outputId": "924f0055-b688-44d5-f4ea-3dfcd4266b53"
      },
      "outputs": [
        {
          "data": {
            "text/plain": [
              "[0, 1, 2, 3, 4, 6, 9, 12, 15, 24]"
            ]
          },
          "execution_count": 72,
          "metadata": {},
          "output_type": "execute_result"
        }
      ],
      "source": [
        "ma_liste_melange = [4, 6, 2, 0, 3, 9, 24, 12, 1, 15]\n",
        "ma_liste_ordonnee = sorted(ma_liste_melange)\n",
        "ma_liste_ordonnee"
      ]
    },
    {
      "cell_type": "markdown",
      "metadata": {
        "id": "kzDrPYbvby78"
      },
      "source": [
        "**Exercice**\n",
        "1.   Créez une liste\n",
        "2.   Ajoutez un élément à cette liste avec `.append()`\n",
        "3.   Cherchez la valeur maximum de cette liste\n",
        "4.   Cherchez si `'arbre'` est dans cette liste"
      ]
    },
    {
      "cell_type": "code",
      "execution_count": null,
      "metadata": {
        "id": "ZizboUGpThjV"
      },
      "outputs": [],
      "source": []
    },
    {
      "cell_type": "markdown",
      "metadata": {
        "id": "U4cAU3wnTh5o"
      },
      "source": [
        "**Exercice**\n",
        "1.   Créez une liste qui contient les 7 jours de la semaine\n",
        "2.   Récupérez les jours de semaine d'une part, ceux du week-end d'autre part\n",
        "3.   Récupérez les dernier jours de la semaine de deux manières différentes\n",
        "4.   Affichez les jours de la semaine dans l'ordre opposé"
      ]
    },
    {
      "cell_type": "markdown",
      "metadata": {
        "id": "lwidSL3fTCTr"
      },
      "source": [
        "**Exercice** En une seule ligne de code, afficher le nombre de nombres pairs dans l'intervalle `[2:2000]`"
      ]
    },
    {
      "cell_type": "code",
      "execution_count": null,
      "metadata": {
        "id": "8frUBgVygZp4"
      },
      "outputs": [],
      "source": []
    },
    {
      "cell_type": "markdown",
      "metadata": {
        "id": "qJ8jGbR0J76o"
      },
      "source": [
        "## **Fonctions, méthodes, quésako ?**"
      ]
    },
    {
      "cell_type": "markdown",
      "metadata": {
        "id": "DovytQJVfLn4"
      },
      "source": [
        "Notez que depuis le début de ce cours, nous parlons de *méthodes* et de *fonctions*. Bien que les deux permettent d'exécuter des actions prédéfinies, il existe quelques différences importantes. Prenons comme exemple la méthode `.sort()` et la fonction `sorted()`, qui permettent chacune de trier nos listes.\n",
        "\n",
        "*   `.sort()` est une **méthode de liste**. Sa syntaxe est la suivante : *liste.sort(arguments)*. Ici, la liste sur laquelle on applique la méthode est placée avant le point, et les éventuels arguments (par exemple, l'ordre de tri) sont indiqués entre les parenthèses.\n",
        "*   En revanche, `sorted()` est une **fonction** avec la syntaxe suivante : *sorted(liste, arguments)*. Elle prend la liste à trier comme 1er argument, suivie d'éventuels autres arguments.\n",
        "\n",
        "La différence clé entre ces deux concepts est que :\n",
        "*    Une méthode comme `.sort()` modifie directement l'objet sur lequel elle est appliquée (dans ce cas, la liste originale est triée *in place*).\n",
        "*    Une fonction comme `sorted()` renvoie un nouvel objet, sans modifier l'original. Si vous souhaitez conserver le résultat, il est nécessaire de l'assigner à une nouvelle variable ou de remplacer l'ancienne.\n",
        "\n",
        "Enfin, une autre différence est que les méthodes sont spécifiques à une classe ou un type d'objet (par exemple, les méthodes des listes ne fonctionnent que sur des listes). En revanche, les fonctions comme `sorted()` peuvent, en principe, être utilisées avec différents types d'objets, tant qu'ils respectent les exigences de la fonction."
      ]
    },
    {
      "cell_type": "markdown",
      "metadata": {
        "id": "hnOTuUEfhy7d"
      },
      "source": [
        "## **Quelques mots sur les *string***"
      ]
    },
    {
      "cell_type": "markdown",
      "metadata": {
        "id": "zz2eIFpFt8JC"
      },
      "source": [
        "À noter que les *string* se comportent de manière assez similaires à des listes : on peut accéder au n-ième caractère avec `chaine[i]`, concaténer des chaines (pour le coup on utilisera volontier l'addition), etc...\n",
        "On ne va pas développer ici la manipulation de chaines de caractères plus en détail, en science on les utilise principalement pour la mise en forme, sauvegarder les noms de fichiers ...\n",
        "\n",
        "Vous pouvez jeter un oeil aux *f-strings*, que vous allez probablement retrouver souvent des codes. Les *f-strings* permettent de mettre en forme des chaines de caractères de manière plus élégante qu'avec la concaténation.\n",
        "La syntaxe est la suivante:"
      ]
    },
    {
      "cell_type": "code",
      "execution_count": null,
      "metadata": {
        "colab": {
          "base_uri": "https://localhost:8080/"
        },
        "id": "tsfstZoWvDvF",
        "outputId": "6f10a1e6-0b0f-489e-cdcf-29822f67c588"
      },
      "outputs": [
        {
          "name": "stdout",
          "output_type": "stream",
          "text": [
            "Il fait 25°C à 15h à Bordeaux.\n",
            "Il fait 25°C à 15h à Bordeaux.\n"
          ]
        }
      ],
      "source": [
        "temp = 25\n",
        "heure = 15\n",
        "ville = 'Bordeaux'*\n",
        "\n",
        "print('Il fait ' + str(temp) + '°C à ' + str(heure) + 'h à ' + str(ville) + '.')\n",
        "print(f'Il fait {temp}°C à {heure}h à {ville}.')"
      ]
    },
    {
      "cell_type": "markdown",
      "metadata": {
        "id": "e9W9KF-bgiaU"
      },
      "source": [
        "**Exercice** Affichez de deux manières différentes la chaine de caractère suivante : `'L'activité X génère X de tonnes de CO2 par an, soit X% des émissions mondiales'`"
      ]
    },
    {
      "cell_type": "code",
      "execution_count": null,
      "metadata": {
        "colab": {
          "base_uri": "https://localhost:8080/",
          "height": 35
        },
        "id": "pZQtl4_4hYtY",
        "outputId": "4fd06412-a0c1-4b17-d075-3b89485cb784"
      },
      "outputs": [
        {
          "data": {
            "application/vnd.google.colaboratory.intrinsic+json": {
              "type": "string"
            },
            "text/plain": [
              "'L\"activité trafic aerien génère 1000000000.0 de tonnes de CO2 par an, soit 3% des émissions mondiales'"
            ]
          },
          "execution_count": 75,
          "metadata": {},
          "output_type": "execute_result"
        }
      ],
      "source": [
        "activite = 'trafic aerien'\n",
        "co2 = 1e9\n",
        "prct = 3\n",
        "\n",
        "f'L\"activité {activite} génère {co2} de tonnes de CO2 par an, soit {prct}% des émissions mondiales'\n"
      ]
    },
    {
      "cell_type": "markdown",
      "metadata": {
        "id": "XylS5zG8vDDf"
      },
      "source": [
        "J'attire égallement votre attention sur un autre type dont nous n'allons pas discuter ici, **les dictionnaires** ou *dicts*.\n",
        "Les dictionnaires permettent d'associer une clé ou *key* à une ou des valeurs. Ils sont définits avec des accolades: `dico = {'key1': value1, 'key2': value2}`"
      ]
    },
    {
      "cell_type": "code",
      "execution_count": null,
      "metadata": {
        "colab": {
          "base_uri": "https://localhost:8080/"
        },
        "id": "sZDN60WCvzP3",
        "outputId": "17017edd-3d04-4fc5-8921-e6afd95cb3aa"
      },
      "outputs": [
        {
          "data": {
            "text/plain": [
              "{'bouleau': 154, 'platane': 78, 'tilleul': 19}"
            ]
          },
          "execution_count": 69,
          "metadata": {},
          "output_type": "execute_result"
        }
      ],
      "source": [
        "mon_dict = {'bouleau': 154, 'platane' : 78, 'tilleul': 19}\n",
        "mon_dict"
      ]
    },
    {
      "cell_type": "markdown",
      "metadata": {
        "id": "Xl2__XWJssCQ"
      },
      "source": [
        "# **Boucles et comparaisons**"
      ]
    },
    {
      "cell_type": "markdown",
      "metadata": {
        "id": "W7y-5yx5Q-zy"
      },
      "source": [
        "## **Le conditionnel `if`, `else`**"
      ]
    },
    {
      "cell_type": "markdown",
      "metadata": {
        "id": "oaUdRs0s1ysV"
      },
      "source": [
        "Comme leur nom l'indique, les conditionnels permettent d'exécuter du code en fonction du fait qu'une condition soit vraie ou fausse. Comme dans d'autres langages, Python prend en charge `if` et `else`, mais `else if` est abrégé en `elif`, comme le montre l'exemple ci-dessous :"
      ]
    },
    {
      "cell_type": "code",
      "execution_count": null,
      "metadata": {
        "colab": {
          "base_uri": "https://localhost:8080/"
        },
        "id": "xC_DMZjofoYZ",
        "outputId": "81e9635c-9dc1-4b7a-9c88-38ccf0f17ae4"
      },
      "outputs": [
        {
          "name": "stdout",
          "output_type": "stream",
          "text": [
            "negatif\n"
          ]
        }
      ],
      "source": [
        "variable = -5\n",
        "if variable < 0:\n",
        "  print(\"negatif\")\n",
        "elif variable == 0:\n",
        "  print(\"nul\")\n",
        "else: # variable > 0\n",
        "  print(\"positif\")"
      ]
    },
    {
      "cell_type": "markdown",
      "metadata": {
        "id": "PJb-L6fGfSJK"
      },
      "source": [
        "Voici les principaux opérateurs de comparaison utilisés pour les conditions :\n",
        "*   `==` égal à\n",
        "*   `!=` différent de\n",
        "*   `>` strictement supérieur à\n",
        "*   `>=` supérieur ou égal à\n",
        "*    `<` inférieur à\n",
        "*    `>=` inférieur ou égal à"
      ]
    },
    {
      "cell_type": "markdown",
      "metadata": {
        "id": "KDusuSHEhOHc"
      },
      "source": [
        "On peut également faire des tests multiples pour tester plusieurs conditions avec des opérateurs booléens `or` et `and` :"
      ]
    },
    {
      "cell_type": "code",
      "execution_count": null,
      "metadata": {
        "colab": {
          "base_uri": "https://localhost:8080/"
        },
        "id": "BRdBw11CiHnc",
        "outputId": "23a69bbc-64aa-4e37-d10b-c97282f25120"
      },
      "outputs": [
        {
          "name": "stdout",
          "output_type": "stream",
          "text": [
            "Multiple de 3 et de 2\n"
          ]
        }
      ],
      "source": [
        "val = 6\n",
        "\n",
        "if val%3 == 0 and val%2 == 0:\n",
        "  print('Multiple de 3 et de 2')\n",
        "elif val%3 == 0 or val%2 == 0:\n",
        "  print('Multiple soit de 3 soit de 2')"
      ]
    },
    {
      "cell_type": "markdown",
      "metadata": {
        "id": "qTkQ2F_jy8wz"
      },
      "source": [
        "*NB.* Contrairement à d'autres langages, les blocs de code sont délimités par l'indentation. Ici, nous utilisons une indentation de 2 espaces, mais de nombreux programmeurs utilisent également une indentation de 4 espaces. Les deux sont acceptables, tant que vous restez cohérent dans tout votre code."
      ]
    },
    {
      "cell_type": "markdown",
      "metadata": {
        "id": "UUTKl0kBlf9-"
      },
      "source": [
        "**Exercice**\n",
        "Ecrivez un programme qui affiche la mention obtenue selon la note:\n",
        "*   Si la note est entre 16 at 20, mention 'Très bien'\n",
        "*   Si la note est entre 14 et 16, mention 'Bien'\n",
        "*   Si la note est entre 12 et 14, mention 'Assez bien'\n",
        "*   Si la note est en dessous de 12, 'Pas de mention'\n",
        "*   Vous pouvez également gérer les cas non pris en charge ici en affichant un message d'erreur si la note est négative ou supérieure à 20.\n"
      ]
    },
    {
      "cell_type": "code",
      "execution_count": null,
      "metadata": {
        "id": "msOabWduUNKL"
      },
      "outputs": [],
      "source": []
    },
    {
      "cell_type": "markdown",
      "metadata": {
        "id": "clWaFCzBMfkv"
      },
      "source": [
        "## **Les boucles ou *loops***"
      ]
    },
    {
      "cell_type": "markdown",
      "metadata": {
        "id": "_A5doqhTivWe"
      },
      "source": [
        "En programmation, nous sommes souvent amenés à répéter un même bloc d'instructions plusieurs fois. Les boucles permettent de réaliser cette tâche de manière compacte. Il existe deux types principaux de boucles : les boucles `while` et les boucles `for`."
      ]
    },
    {
      "cell_type": "markdown",
      "metadata": {
        "id": "YN8lwTxQkGEa"
      },
      "source": [
        "### La boucle `while`"
      ]
    },
    {
      "cell_type": "markdown",
      "metadata": {
        "id": "WMcdeWmMkxlp"
      },
      "source": [
        "Une série d’instructions est exécutée tant qu’une condition est vraie.\\\n",
        "Il faut trois éléments pour faire tourner une boucle while:\n",
        "*   Initialiser la variable d'itération\n",
        "*   Tester la variable d'itération\n",
        "*   Mettre à jour la variable d'itération\n",
        "\n"
      ]
    },
    {
      "cell_type": "code",
      "execution_count": null,
      "metadata": {
        "colab": {
          "base_uri": "https://localhost:8080/"
        },
        "id": "gnL3MlmpmC79",
        "outputId": "56ec7e4b-5702-48e8-b308-b6879824c4fb"
      },
      "outputs": [
        {
          "name": "stdout",
          "output_type": "stream",
          "text": [
            "1\n",
            "2\n",
            "3\n",
            "4\n",
            "5\n",
            "6\n",
            "7\n",
            "8\n",
            "9\n"
          ]
        }
      ],
      "source": [
        "i = 1      # Initialisation de la variable d'itération\n",
        "while i < 10:   # Test de la variable\n",
        "  print(i)\n",
        "  i += 1          # Mise à jour de la variable"
      ]
    },
    {
      "cell_type": "markdown",
      "metadata": {
        "id": "wtbAdwSPmcyY"
      },
      "source": [
        "*NB.* Il faut faire attention au test et à l'incrémentation utilisée: si la variable n'est pas mise à jour ou la condition ne peux jamais être atteinte, la boucle va tourner à l'infini. Dans ce cas là, une seule solution: interrompre  l'exécution.\n",
        "\n",
        "*NB.* Notez la synthaxe pour incrémenter `i`: il s'agit simplement d'une forme plus compacte de `i = i + 1`. Cette notation peut être dérivée avec d'autres opérateurs et valeurs d'incrémentation, par exemple `i *= 3` qui multiplira la valeur de `i` par 3 à chaque itération."
      ]
    },
    {
      "cell_type": "markdown",
      "metadata": {
        "id": "7u06bimYnOQ_"
      },
      "source": [
        "**Exercice**\n",
        "Ecrire un programme qui utilise une boucle `while` pour calculer la somme des nombres de 1 à 100 et affiche le résultat."
      ]
    },
    {
      "cell_type": "code",
      "execution_count": null,
      "metadata": {
        "colab": {
          "base_uri": "https://localhost:8080/"
        },
        "id": "gg3udjw8n4FK",
        "outputId": "a2741442-5086-4c3b-fbad-1ba467172b26"
      },
      "outputs": [
        {
          "name": "stdout",
          "output_type": "stream",
          "text": [
            "5050\n"
          ]
        }
      ],
      "source": [
        "i = 0\n",
        "somme = 0\n",
        "\n",
        "while i <= 100:\n",
        "  somme += i\n",
        "  i += 1\n",
        "\n",
        "print(somme)"
      ]
    },
    {
      "cell_type": "markdown",
      "metadata": {
        "id": "8mEI_ocfkSvZ"
      },
      "source": [
        "### La boucle `for`"
      ]
    },
    {
      "cell_type": "markdown",
      "metadata": {
        "id": "f6XAttqcntc4"
      },
      "source": [
        "Dans une boucle `for`, on itère sur une séquence (une liste, une chaine de caractères, des nombres...)."
      ]
    },
    {
      "cell_type": "markdown",
      "metadata": {
        "id": "k6G2eeVJs9FQ"
      },
      "source": [
        "On peut par exemple itérer sur les éléments d'une liste:"
      ]
    },
    {
      "cell_type": "code",
      "execution_count": null,
      "metadata": {
        "colab": {
          "base_uri": "https://localhost:8080/"
        },
        "id": "2QObx5mckMcI",
        "outputId": "0db26a08-01c5-4145-9bde-0d92bbfca42b"
      },
      "outputs": [
        {
          "name": "stdout",
          "output_type": "stream",
          "text": [
            "eau\n",
            "air\n",
            "sol\n",
            "énergie\n"
          ]
        }
      ],
      "source": [
        "ma_liste = ['eau', 'air', 'sol', 'énergie']\n",
        "for elem in ma_liste:\n",
        "  print(elem)"
      ]
    },
    {
      "cell_type": "markdown",
      "metadata": {
        "id": "oEZoCgMMt0cr"
      },
      "source": [
        "On peut aussi itèrer sur les indices d'une liste, en combinant `len()` et `range()` qui permet de générer une séquence de nombre sur une plage donnée:"
      ]
    },
    {
      "cell_type": "code",
      "execution_count": null,
      "metadata": {
        "colab": {
          "base_uri": "https://localhost:8080/"
        },
        "id": "uLmLKBPltpDN",
        "outputId": "9123e70a-c2fb-487e-a177-6ed61404d3e5"
      },
      "outputs": [
        {
          "name": "stdout",
          "output_type": "stream",
          "text": [
            "0\n",
            "1\n",
            "2\n",
            "3\n",
            "4\n"
          ]
        }
      ],
      "source": [
        "for i in range(5):\n",
        "  print(i)"
      ]
    },
    {
      "cell_type": "code",
      "execution_count": null,
      "metadata": {
        "colab": {
          "base_uri": "https://localhost:8080/"
        },
        "id": "Ge3ce1ucw2Kz",
        "outputId": "82ce4f11-1e52-456d-9a26-24de678b5011"
      },
      "outputs": [
        {
          "name": "stdout",
          "output_type": "stream",
          "text": [
            "Indice : 0\n",
            "Element : eau\n",
            "Indice : 1\n",
            "Element : air\n",
            "Indice : 2\n",
            "Element : sol\n",
            "Indice : 3\n",
            "Element : énergie\n"
          ]
        }
      ],
      "source": [
        "for i in range(len(ma_liste)):\n",
        "  print('Indice :', i)\n",
        "  print('Element :', ma_liste[i])"
      ]
    },
    {
      "cell_type": "markdown",
      "metadata": {
        "id": "0b48MbSKiify"
      },
      "source": [
        "**Exercice** Ecrire un programme qui utilise une boucle `for` pour calculer la somme des nombres de 1 à 100 et affiche le résultat."
      ]
    },
    {
      "cell_type": "code",
      "execution_count": null,
      "metadata": {
        "id": "T9ze4rYgjIcz"
      },
      "outputs": [],
      "source": []
    },
    {
      "cell_type": "markdown",
      "metadata": {
        "id": "bMSHfQL7UY3N"
      },
      "source": [
        "**Exercice** Ecrire un programme qui calcule la moyenne de la liste `L = [14, 16, 87, -45, 2]`"
      ]
    },
    {
      "cell_type": "markdown",
      "metadata": {
        "id": "cq-2C-Exo6bp"
      },
      "source": [
        "*NB.* On utlise plus fréquemment la boucle `for` que la boucle `while` pour le genre de problème présenté ci-dessus, où la boucle `for` permet un code plus compact et lisible.\n",
        "La boucle `while` est utilisée lorsque l'on ne connait pas à l'avance le nombre d'itérations qui sera nécessaire à la résolution du problème, par exemple, à partir de quel nombre la somme des entiers consécutifs de 1 à N dépasse 5000?"
      ]
    },
    {
      "cell_type": "code",
      "execution_count": null,
      "metadata": {
        "colab": {
          "base_uri": "https://localhost:8080/"
        },
        "id": "D-iA47RJp2mi",
        "outputId": "1be56320-1a6b-4d39-8c13-194a336809e8"
      },
      "outputs": [
        {
          "name": "stdout",
          "output_type": "stream",
          "text": [
            "100\n"
          ]
        }
      ],
      "source": [
        "somme = 0\n",
        "i = 0\n",
        "\n",
        "while somme < 5000:\n",
        "  somme += i\n",
        "  i += 1\n",
        "print(i-1)"
      ]
    },
    {
      "cell_type": "markdown",
      "metadata": {
        "id": "IqAt8k-rV8Gj"
      },
      "source": [
        "### Création de liste par itération"
      ]
    },
    {
      "cell_type": "markdown",
      "metadata": {
        "id": "w0peZs7vWD9C"
      },
      "source": [
        "On peut maintenant imaginer comment créer des listes par itération, en combinant une boucle `for` à la méthode `.append()`:"
      ]
    },
    {
      "cell_type": "code",
      "execution_count": null,
      "metadata": {
        "colab": {
          "base_uri": "https://localhost:8080/"
        },
        "id": "yAO1olrtWSAQ",
        "outputId": "68d5da0e-1237-4e28-83a2-a63926ca88ac"
      },
      "outputs": [
        {
          "data": {
            "text/plain": [
              "[0, 1, 4, 9, 16, 25, 36, 49, 64, 81, 100]"
            ]
          },
          "execution_count": 66,
          "metadata": {},
          "output_type": "execute_result"
        }
      ],
      "source": [
        "l = []\n",
        "\n",
        "for i in range(11):\n",
        "  l.append(i**2)\n",
        "\n",
        "l"
      ]
    },
    {
      "cell_type": "markdown",
      "metadata": {
        "id": "6zuIOo8dWcxz"
      },
      "source": [
        "On a créé une liste contenant tous les carrés des nombres entre 0 et 10.\\\n",
        "Une manière équivalente de faire cela est d'utiliser la **compréhension de liste**, une méthode qui permet de générer des listes rapidement."
      ]
    },
    {
      "cell_type": "code",
      "execution_count": null,
      "metadata": {
        "colab": {
          "base_uri": "https://localhost:8080/"
        },
        "id": "23c_s2KuWxoX",
        "outputId": "d8aa01f7-f07b-4616-a566-1d112b4563c0"
      },
      "outputs": [
        {
          "data": {
            "text/plain": [
              "[0, 1, 4, 9, 16, 25, 36, 49, 64, 81, 100]"
            ]
          },
          "execution_count": 65,
          "metadata": {},
          "output_type": "execute_result"
        }
      ],
      "source": [
        "l = [i**2 for i in range(11)]\n",
        "l"
      ]
    },
    {
      "cell_type": "markdown",
      "metadata": {
        "id": "0DOmnxhvXI-y"
      },
      "source": [
        "Et on peut même ajouter des conditions:\n"
      ]
    },
    {
      "cell_type": "code",
      "execution_count": null,
      "metadata": {
        "colab": {
          "base_uri": "https://localhost:8080/"
        },
        "id": "fHiTeCGEXJgk",
        "outputId": "a3c0a394-ecce-42fb-d8c7-46af27b817e8"
      },
      "outputs": [
        {
          "name": "stdout",
          "output_type": "stream",
          "text": [
            "[0, 4, 16, 36, 64, 100]\n",
            "[0, 4, 16, 36, 64, 100]\n"
          ]
        }
      ],
      "source": [
        "l = []\n",
        "\n",
        "for i in range(11):\n",
        "  if i%2 == 0:\n",
        "    l.append(i**2)\n",
        "print(l)\n",
        "\n",
        "l2 = [i**2 for i in range(11) if i%2 == 0]\n",
        "print(l2)"
      ]
    },
    {
      "cell_type": "markdown",
      "metadata": {
        "id": "P6DYJ_I7XZjd"
      },
      "source": [
        "Vous pouvez voir ici le potentiel de cette métode pour créer une liste en une seule ligne de code."
      ]
    },
    {
      "cell_type": "markdown",
      "metadata": {
        "id": "V16wbwlOlJdW"
      },
      "source": [
        "**Exercice** Créez une liste qui contient tous les mutiples de 7 compris entre 0 et 120 de deux manières différentes (boucle `for`et compréhension de liste)"
      ]
    },
    {
      "cell_type": "markdown",
      "metadata": {
        "id": "jrQbCnn5M_91"
      },
      "source": [
        "*NB.* Il est possible d'itérer sur deux liste de même taille en simultanné avec l'utilisation de `zip()`:"
      ]
    },
    {
      "cell_type": "code",
      "execution_count": null,
      "metadata": {
        "colab": {
          "base_uri": "https://localhost:8080/"
        },
        "id": "ZJAdJZ1eNOxU",
        "outputId": "0aa9fa24-ed6d-4f47-9fb6-92edfe3dcf52"
      },
      "outputs": [
        {
          "name": "stdout",
          "output_type": "stream",
          "text": [
            "Patient: Alice, Âge: 30 ans, Pression artérielle: 120 mmHg.\n",
            "Patient: Bob, Âge: 45 ans, Pression artérielle: 135 mmHg.\n",
            "Patient: Charlie, Âge: 29 ans, Pression artérielle: 110 mmHg.\n",
            "Patient: David, Âge: 54 ans, Pression artérielle: 145 mmHg.\n"
          ]
        }
      ],
      "source": [
        "patients = ['Alice', 'Bob', 'Charlie', 'David']\n",
        "ages = [30, 45, 29, 54]\n",
        "pression_art = [120, 135, 110, 145]\n",
        "\n",
        "for patient, age, pression in zip(patients, ages, pression_art):\n",
        "    print(f\"Patient: {patient}, Âge: {age} ans, Pression artérielle: {pression} mmHg.\")"
      ]
    },
    {
      "cell_type": "markdown",
      "metadata": {
        "id": "N9OjCfVxqIhb"
      },
      "source": [
        "# **Exercices**"
      ]
    },
    {
      "cell_type": "markdown",
      "metadata": {
        "id": "fOqtz0ewMq0N"
      },
      "source": [
        "### **Exercice 1** ADN complémentaire\n",
        "\n",
        "Ecrire un code Python qui renvoie la séquence d'ADN complémentaire à celle donnée.\n",
        "Rappel: A <-> T, C <-> G."
      ]
    },
    {
      "cell_type": "code",
      "execution_count": null,
      "metadata": {
        "colab": {
          "base_uri": "https://localhost:8080/"
        },
        "id": "DdijhDsAOZNX",
        "outputId": "92ab9af1-4a09-49a1-b1fd-3028a558e076"
      },
      "outputs": [
        {
          "name": "stdout",
          "output_type": "stream",
          "text": [
            "séquence ['A', 'C', 'G', 'T', 'A', 'T', 'G', 'C', 'A', 'G', 'T', 'C', 'A', 'T', 'G']\n",
            "complémentaire []\n"
          ]
        }
      ],
      "source": [
        "seq = ['A', 'C', 'G', 'T', 'A', 'T', 'G', 'C', 'A', 'G', 'T', 'C', 'A', 'T', 'G']\n",
        "\n",
        "comp = []\n",
        "\n",
        "print('séquence', seq)\n",
        "print('complémentaire', comp)"
      ]
    },
    {
      "cell_type": "markdown",
      "metadata": {
        "id": "a2MZFwMLqRa0"
      },
      "source": [
        "### **Exercice 2** Résolution équation du 2nd degré\n",
        "Ecrire un programme qui lit des nombres entiers réels $a$, $b$ et $c$ et qui affiche la résolution de l'équation $ax^2 + bx + c = 0$. Distinguez les cas où $Δ > 0$, $Δ < 0$ et $Δ = 0$. \\\n",
        "*NB*: les nombres complexs se notent  `j`: `2 + 3j`, ce qui correspond à $2 + 3 i$.\n"
      ]
    },
    {
      "cell_type": "code",
      "execution_count": null,
      "metadata": {
        "id": "lzeBh2ijMqlI"
      },
      "outputs": [],
      "source": [
        "a = 3\n",
        "b = 5\n",
        "c = 2\n"
      ]
    },
    {
      "cell_type": "markdown",
      "metadata": {
        "id": "_jBrxMs2PLrl"
      },
      "source": [
        "### **Exercice 3** Nombre premier?\n",
        "Ecrire un code qui indique si un nombre entier est un nombre premier. Par exemple, pour `n = 15`, le programme affichera `15 n'est pas un nombre premier`, et pour `n = 7`, le programme affichera `7 est un nombre premier`."
      ]
    },
    {
      "cell_type": "code",
      "execution_count": null,
      "metadata": {
        "id": "OToEJ4lHPK6B"
      },
      "outputs": [],
      "source": []
    },
    {
      "cell_type": "markdown",
      "metadata": {
        "id": "Qwm6Dga2Uscx"
      },
      "source": [
        "### **Exercice 4**\n",
        "Avec les fonctions `list()` et `range()`, créez la liste entiers contenant les nombres entiers pairs de 2 à 20 inclus. Calculez ensuite le produit des nombres consécutifs deux à deux de entiers en utilisant une boucle."
      ]
    },
    {
      "cell_type": "code",
      "execution_count": null,
      "metadata": {
        "colab": {
          "base_uri": "https://localhost:8080/"
        },
        "id": "rVt1lvLeUr0w",
        "outputId": "181bfc9b-d5aa-4f93-a4ad-da1d00885a50"
      },
      "outputs": [
        {
          "name": "stdout",
          "output_type": "stream",
          "text": [
            "[2, 4, 6, 8, 10, 12, 14, 16, 18, 20]\n",
            "8\n",
            "24\n",
            "48\n",
            "80\n",
            "120\n",
            "168\n",
            "224\n",
            "288\n",
            "360\n"
          ]
        }
      ],
      "source": [
        "L = list(range(2,21,2))\n",
        "print(L)\n",
        "for i in range(len(L)-1):\n",
        "  print(L[i]*L[i+1])\n"
      ]
    },
    {
      "cell_type": "markdown",
      "metadata": {
        "id": "4-SrlI21Vz1l"
      },
      "source": [
        "### **Exercice 5**\n",
        "Ecrire un programme qui supprime toutes les répétitions d'éléments de la liste `L = [0, 5, 8, 0, 4, 6, 9, 0, 1, 4, 3, 5, 1, 7]`"
      ]
    },
    {
      "cell_type": "code",
      "execution_count": null,
      "metadata": {
        "colab": {
          "base_uri": "https://localhost:8080/"
        },
        "id": "DZN3tDydV0L9",
        "outputId": "28fca514-f339-42f3-9933-7f773b72be5b"
      },
      "outputs": [
        {
          "data": {
            "text/plain": [
              "[0, 5, 8, 4, 6, 9, 1, 3, 7]"
            ]
          },
          "execution_count": 125,
          "metadata": {},
          "output_type": "execute_result"
        }
      ],
      "source": [
        "L = [0, 5, 8, 0, 4, 6, 9, 0, 1, 4, 3, 5, 1, 7]\n",
        "new_L = []\n",
        "for i in L:\n",
        "  if i not in new_L:\n",
        "    new_L.append(i)\n",
        "new_L"
      ]
    },
    {
      "cell_type": "markdown",
      "metadata": {
        "id": "Jt3dmPNMj9Rj"
      },
      "source": [
        "\n",
        "\n",
        "---\n",
        "# **Séance 2**"
      ]
    },
    {
      "cell_type": "markdown",
      "metadata": {
        "id": "bNYTQj92tMo8"
      },
      "source": [
        "# **Les fonctions**"
      ]
    },
    {
      "cell_type": "markdown",
      "metadata": {
        "id": "zD5puFZo1zba"
      },
      "source": [
        "## **Définition**"
      ]
    },
    {
      "cell_type": "markdown",
      "metadata": {
        "id": "csOUdreEr23U"
      },
      "source": [
        "Nous avons déjà rencontré plusieurs fonctions dans ce cours, telles que `min()`, `sorted()`, `print()` ou `range()`. Ces fonctions, qui sont intégrées à Python, permettent d'**exécuter des actions spécifiques**. Elles fonctionnent toutes de manière similaire : vous passez zéro, une ou plusieurs valeurs entre parenthèses, appelées **arguments**. Ensuite, la fonction exécute son action et peut renvoyer un nouvel objet en résultat.\n",
        "\n",
        "L'utilisation des fonctions est particulièrement bénéfique, car elle permet d'**éviter la répétition de lignes de code**. En organisant le code en blocs logiques, les fonctions rendent celui-ci plus lisible et maintenable.\n",
        "\n",
        "À présent, nous allons explorer comment créer nos propres fonctions !"
      ]
    },
    {
      "cell_type": "markdown",
      "metadata": {
        "id": "BijpjG3dthzb"
      },
      "source": [
        "Pour définir une fonction, on utilise le mot-cle `def` suivi du nom de la fonction. Les éventuels arguements sont placés entre parenthèses, séparés par une virgule. On utlise les deux points et l'indentation, comme dans les boucles `for` et `if`, pour séparer le corps de la fonction du reste du code. Le mot-clé `return`, placé à la fin mais toujours dans le bloc d'indentation, permet de définir quelle variable est renvoyée par la fonction.\n",
        "\n",
        "\n",
        "```\n",
        "def nom_fonction(argument1, argument2):\n",
        "  ...\n",
        "  return X\n",
        "```\n",
        "\n",
        "\n",
        "\n"
      ]
    },
    {
      "cell_type": "code",
      "execution_count": null,
      "metadata": {
        "colab": {
          "base_uri": "https://localhost:8080/"
        },
        "id": "Z85E2THo1ceO",
        "outputId": "6fb7816d-9a79-40f3-c0a9-2a35dae0e970"
      },
      "outputs": [
        {
          "data": {
            "text/plain": [
              "25"
            ]
          },
          "execution_count": 86,
          "metadata": {},
          "output_type": "execute_result"
        }
      ],
      "source": [
        "def carre(x):\n",
        "  x_carre = x**2\n",
        "  return x_carre\n",
        "\n",
        "carre(5)"
      ]
    },
    {
      "cell_type": "markdown",
      "metadata": {
        "id": "GKvwujROveZs"
      },
      "source": [
        "On peut avoir des fonctions qui ne prennent pas d'argument ou/et qui ne renvoient rien:"
      ]
    },
    {
      "cell_type": "code",
      "execution_count": null,
      "metadata": {
        "colab": {
          "base_uri": "https://localhost:8080/"
        },
        "id": "4e0P2qkWvshv",
        "outputId": "a5c687f9-2772-4e31-a813-6bd469d93b0e"
      },
      "outputs": [
        {
          "name": "stdout",
          "output_type": "stream",
          "text": [
            "Bonjour !\n"
          ]
        }
      ],
      "source": [
        "def hi():\n",
        "  print('Bonjour !')\n",
        "\n",
        "hi()"
      ]
    },
    {
      "cell_type": "markdown",
      "metadata": {
        "id": "TGNgCwQywStu"
      },
      "source": [
        "Nous pouvons renvoyer plusieurs objets, ou plus exactement une séquence d'objet, ou *tuple* (et oui, encore un nouveau type !). \\\n",
        "C'est assez intuitif, il suffit de séparer les objets à renvoyer par des virgules après `return`:"
      ]
    },
    {
      "cell_type": "code",
      "execution_count": null,
      "metadata": {
        "colab": {
          "base_uri": "https://localhost:8080/"
        },
        "id": "smyU03y0wyFJ",
        "outputId": "83a34bde-b5c4-4420-e776-256f4d8dfc72"
      },
      "outputs": [
        {
          "data": {
            "text/plain": [
              "(8, 2)"
            ]
          },
          "execution_count": 88,
          "metadata": {},
          "output_type": "execute_result"
        }
      ],
      "source": [
        "def somme_diff(a,b):\n",
        "  somme = a + b\n",
        "  diff = a - b\n",
        "  return somme, diff\n",
        "\n",
        "somme_diff(5,3)"
      ]
    },
    {
      "cell_type": "markdown",
      "metadata": {
        "id": "ACVE7rPiw-BS"
      },
      "source": [
        "On peut ensuite récupérer chaque résultat dans une variable indépendante si cela est plus pratique:"
      ]
    },
    {
      "cell_type": "code",
      "execution_count": null,
      "metadata": {
        "colab": {
          "base_uri": "https://localhost:8080/"
        },
        "id": "4Z8XSwdew-KT",
        "outputId": "427c9d4a-624f-4518-9cf3-97c9b9533722"
      },
      "outputs": [
        {
          "name": "stdout",
          "output_type": "stream",
          "text": [
            "8\n",
            "2\n"
          ]
        }
      ],
      "source": [
        "somme, diff = somme_diff(5,3)\n",
        "print(somme)\n",
        "print(diff)"
      ]
    },
    {
      "cell_type": "markdown",
      "metadata": {
        "id": "hbigZbL0xZ9j"
      },
      "source": [
        " Notez qu'il faut toujours passer le nombre d'arguments que la fonction attend, sinon cela génère une erreur."
      ]
    },
    {
      "cell_type": "markdown",
      "metadata": {
        "id": "fsm_zob86Ne7"
      },
      "source": [
        "## **Les arguments positionnels et arguments par mot-clé**"
      ]
    },
    {
      "cell_type": "markdown",
      "metadata": {
        "id": "XSBFrito3S2A"
      },
      "source": [
        "Les arguments de fonction peuvent être passés de différentes manières, principalement sous forme **d'arguments positionnels** et **d'arguments mot-clés**.\n",
        "\n",
        "Les **arguments positionnels**, `fonction(arg1, arg2)`, comme ceux que nous avons utilisés jusqu'à présent, sont passés à la fonction en fonction de leur position dans la définition de la fonction. L'ordre des arguments est donc crucial. Ils doivent systèmatiquement être précisés lors de l'appel d'une fonction.\n",
        "\n",
        "Les **arguments mot-clés**, en revanche, ont une valeur spécifiée à la création de la fonction: `fonction(arg1=val1, arg2=val2)`. Cela permet de définir une valeur 'par défault' pour certains arguments, il n'est donc pas nécessaire de le préciser au moment d'appeler la fonction (il prendront alors la valeur définie par défault), mais ils peuvent tout de même être modifiés.\n"
      ]
    },
    {
      "cell_type": "markdown",
      "metadata": {
        "id": "BA4NtseU5li3"
      },
      "source": [
        "Lorsqu'il y a un mélange d’arguments positionnels et par mot-clé, on place toujours les arguements positionnels en premier. On peut passer les arguments par mot-clé dans un ordre arbitraire à partir du moment où on précise leur\n",
        "nom."
      ]
    },
    {
      "cell_type": "code",
      "execution_count": null,
      "metadata": {
        "colab": {
          "base_uri": "https://localhost:8080/"
        },
        "id": "tq5QmpkL5lKQ",
        "outputId": "5c981297-bb16-45d9-a5d5-4c618bdbe15d"
      },
      "outputs": [
        {
          "data": {
            "text/plain": [
              "25"
            ]
          },
          "execution_count": 90,
          "metadata": {},
          "output_type": "execute_result"
        }
      ],
      "source": [
        "def puissance(x, p=2):\n",
        "  return x**p\n",
        "\n",
        "puissance(5)"
      ]
    },
    {
      "cell_type": "code",
      "execution_count": null,
      "metadata": {
        "colab": {
          "base_uri": "https://localhost:8080/"
        },
        "id": "RDbRPtZH5sPz",
        "outputId": "17137641-06aa-4321-e9a2-bb5219136638"
      },
      "outputs": [
        {
          "data": {
            "text/plain": [
              "64"
            ]
          },
          "execution_count": 92,
          "metadata": {},
          "output_type": "execute_result"
        }
      ],
      "source": [
        "puissance(4, p=3)"
      ]
    },
    {
      "cell_type": "code",
      "execution_count": null,
      "metadata": {
        "colab": {
          "base_uri": "https://localhost:8080/"
        },
        "id": "AKSpCFbf9rhM",
        "outputId": "5960c678-b4c6-47d0-b594-a75b02edb7be"
      },
      "outputs": [
        {
          "name": "stdout",
          "output_type": "stream",
          "text": [
            "1 1 1\n",
            "1 2 3\n",
            "4 5 6\n",
            "1 5 1\n"
          ]
        }
      ],
      "source": [
        "def fct(a=1, b=1, c=1):\n",
        "  print(a, b, c)\n",
        "\n",
        "fct()\n",
        "fct(b=2, c=3, a=1)\n",
        "fct(4,5,6)\n",
        "fct(b = 5)"
      ]
    },
    {
      "cell_type": "markdown",
      "metadata": {
        "id": "YaaJN_fc_Tan"
      },
      "source": [
        "## **Variables locales VS variables globales**\n",
        "\n",
        "Pour bien manipuler les fonctions, il est important de comprendre la différence entre les **variables dites locales et celles dites globales**.\n",
        "\n",
        "Une **variable locale** est définie à l'intérieur d'une fonction. Sa portée est limitée à cette fonction, elle n'est donc pas accessible en dehors de cette fonction.\n",
        "\n",
        "Une **variable globale** est définie dans le programme principal. Elle est accessible depuis n'importe quelle fonction et dans tout le programme."
      ]
    },
    {
      "cell_type": "code",
      "execution_count": null,
      "metadata": {
        "colab": {
          "base_uri": "https://localhost:8080/"
        },
        "id": "jXW4S8HHAhKh",
        "outputId": "3b3ca2cf-d3be-4846-8dc5-562b103f2743"
      },
      "outputs": [
        {
          "name": "stdout",
          "output_type": "stream",
          "text": [
            "6\n"
          ]
        }
      ],
      "source": [
        "def somme(a,b):\n",
        "  # Corps de la fonction: a, b et s sont des variables locales\n",
        "  s = a + b\n",
        "  print(s)\n",
        "\n",
        "# Programme pricipal: c et d sont des variables globales\n",
        "c = 4\n",
        "d = 2\n",
        "somme(c, d)\n"
      ]
    },
    {
      "cell_type": "markdown",
      "metadata": {
        "id": "ubi5SYxtBFcD"
      },
      "source": [
        "On peut visualiser les variables en mémoire, dans le volet *Variables* ou {x}, en haut à gauche de l'écran. Vous verrez alors toutes les variables globales, accessibles depuis tout le programme. Les variables locales ne sont elles pas répertoriées."
      ]
    },
    {
      "cell_type": "code",
      "execution_count": null,
      "metadata": {
        "colab": {
          "base_uri": "https://localhost:8080/"
        },
        "id": "orXSAyFVAS-u",
        "outputId": "a66cfd16-5866-41ba-92e9-fdb6d5b8115e"
      },
      "outputs": [
        {
          "name": "stdout",
          "output_type": "stream",
          "text": [
            "10\n"
          ]
        }
      ],
      "source": [
        "def fonction():\n",
        "  var_locale = 10\n",
        "  print(var_locale)\n",
        "\n",
        "fonction()\n",
        "print(var_locale)"
      ]
    },
    {
      "cell_type": "markdown",
      "metadata": {
        "id": "5Ol2FhVSBzCf"
      },
      "source": [
        "*NB.* Si une variable locale a le même nom qu'une variable globale, la variable locale prendra le pas sur la variable globale à l'intérieur de la fonction.\n",
        "\n",
        "*NB.* Si vous souhaitez modifier une variable globale à l'intérieur d'une fonction, vous pouvez utiliser le mot-clé `global`, mais nous déconseillons cette pratique."
      ]
    },
    {
      "cell_type": "markdown",
      "metadata": {
        "id": "TeHE-pdVC9BB"
      },
      "source": [
        "## **Bonnes pratiques**"
      ]
    },
    {
      "cell_type": "markdown",
      "metadata": {
        "id": "AjZWD9K3CiCu"
      },
      "source": [
        "Gardez en têtes ces quelques règles quand vous manipulez des fonctions:\n",
        "\n",
        "\n",
        "*   1 fonction = 1 action !\n",
        "*   Attention à ne pas modifier vos variables globales dans vos fonctions, en particulier les listes\n"
      ]
    },
    {
      "cell_type": "code",
      "execution_count": null,
      "metadata": {
        "colab": {
          "base_uri": "https://localhost:8080/"
        },
        "id": "9e3ASc4SDi8X",
        "outputId": "919e421b-04ef-4d5d-927f-5823e644753c"
      },
      "outputs": [
        {
          "name": "stdout",
          "output_type": "stream",
          "text": [
            "[1, 2, 3, 4]\n"
          ]
        }
      ],
      "source": [
        "def fct(liste):\n",
        "  liste.append(4)\n",
        "\n",
        "ma_liste = [1,2,3]\n",
        "fct(ma_liste)\n",
        "print(ma_liste)"
      ]
    },
    {
      "cell_type": "code",
      "execution_count": null,
      "metadata": {
        "colab": {
          "base_uri": "https://localhost:8080/"
        },
        "id": "f2xZX8etEEJK",
        "outputId": "df20ad9f-56d6-476c-9265-787025514171"
      },
      "outputs": [
        {
          "name": "stdout",
          "output_type": "stream",
          "text": [
            "[1, 2, 3]\n"
          ]
        }
      ],
      "source": [
        "def fct_bonne_pratique(liste):\n",
        "  liste2 = liste[:]\n",
        "  liste2.append(4)\n",
        "  return liste2\n",
        "\n",
        "ma_liste = [1,2,3]\n",
        "nouvelle_liste = fct_bonne_pratique(ma_liste)\n",
        "print(ma_liste)"
      ]
    },
    {
      "cell_type": "markdown",
      "metadata": {
        "id": "4Ztq0EVsCXfZ"
      },
      "source": [
        "# **Exercices**\n",
        "Nous allons mettre en pratique ce que nous avont appris !"
      ]
    },
    {
      "cell_type": "markdown",
      "metadata": {
        "id": "04c4YyxDCa1P"
      },
      "source": [
        "### **Exercice 1**\n",
        "Ecrivez une fonction qui calcule le factoriel d'un nombre `n`."
      ]
    },
    {
      "cell_type": "code",
      "execution_count": null,
      "metadata": {
        "colab": {
          "base_uri": "https://localhost:8080/"
        },
        "id": "oUnYtzigXX2V",
        "outputId": "1a558502-ebc1-49b3-f8d3-ec9e015b4ae2"
      },
      "outputs": [
        {
          "data": {
            "text/plain": [
              "120"
            ]
          },
          "execution_count": 126,
          "metadata": {},
          "output_type": "execute_result"
        }
      ],
      "source": [
        "def factoriel(n):\n",
        "  fact = 1\n",
        "  for i in range(1,n+1):\n",
        "    fact *= i\n",
        "  return fact\n",
        "\n",
        "factoriel(5)"
      ]
    },
    {
      "cell_type": "markdown",
      "metadata": {
        "id": "p4k7v9hdXYCE"
      },
      "source": [
        "### **Exercice 2** ADN again\n",
        "Créez une fonction qui prend en argument une séquence d'ADN et qui retourne sa séquence complémentaire."
      ]
    },
    {
      "cell_type": "code",
      "execution_count": null,
      "metadata": {
        "id": "sdYM4fwVZIpz"
      },
      "outputs": [],
      "source": []
    },
    {
      "cell_type": "markdown",
      "metadata": {
        "id": "NcRyLJRtZJv0"
      },
      "source": [
        "### **Exercice 3** PGCD\n",
        "Ecrivez une fonction `calcul_pgcd(a, b)` qui prend deux nombres entiers positifs `a` et `b` en arguments et renvoie leur Plus Grand Commun Diviseur (PGCD).\n",
        "\n",
        "Méthode de l'algorithme d'Euclide:\n",
        "*  Si `b = 0`, alors le PGCD est `a`\n",
        "*  Sinon, remplacez `a` par `b` et `b` par le reste de la division de a par b, puis répétez\n",
        "*  Assurez vous que le programme fonctionne quelque soit `a` et `b` entiers positifs\n",
        "\n",
        "Résulats attendus:\n",
        "*  si `a = 48` et `b = 18`, `PGCD = 6`\n",
        "*  si `a = 36` et `b = 24`, `PGCD = 12`"
      ]
    },
    {
      "cell_type": "code",
      "execution_count": null,
      "metadata": {
        "colab": {
          "base_uri": "https://localhost:8080/"
        },
        "id": "Q7xZXaZzXy4o",
        "outputId": "b8378e9d-6f84-465f-b1f2-dbe5170ef6c9"
      },
      "outputs": [
        {
          "name": "stdout",
          "output_type": "stream",
          "text": [
            "6\n"
          ]
        }
      ],
      "source": [
        "def calcul_pgcd(a, b):\n",
        "    while b != 0:\n",
        "        a, b = b, a % b\n",
        "    return a\n",
        "\n",
        "print(calcul_pgcd(18, 48))"
      ]
    },
    {
      "cell_type": "markdown",
      "metadata": {
        "id": "GRCRph7NXytJ"
      },
      "source": [
        "### **Exercice 4** Fonction récursive\n",
        "Ecrivez une fonction qui calcule la somme des nombres de 0 à n de manière récursive (i.e. en appelant la fonction dans le corps de la fonction)."
      ]
    },
    {
      "cell_type": "code",
      "execution_count": null,
      "metadata": {
        "colab": {
          "base_uri": "https://localhost:8080/"
        },
        "id": "HrsqqiyIXyT2",
        "outputId": "3b3d6202-64f9-4123-d502-779d4c579a72"
      },
      "outputs": [
        {
          "data": {
            "text/plain": [
              "15"
            ]
          },
          "execution_count": 128,
          "metadata": {},
          "output_type": "execute_result"
        }
      ],
      "source": [
        "def somme_recursif(n):\n",
        "  if n == 0:\n",
        "    return 0\n",
        "  else:\n",
        "    return n + somme_recursif(n-1)\n",
        "\n",
        "somme_recursif(5)"
      ]
    },
    {
      "cell_type": "markdown",
      "metadata": {
        "id": "poCno4ffXyfE"
      },
      "source": [
        "### **Exercice 5**  Devine le nombre!\n",
        "Écrivez un programme qui génère un nombre entier aléatoire et demande à l'utilisateur de le deviner.\n",
        "1.  Générez un nombre secret : Utilisez le module random pour générer un nombre entier aléatoire entre 1 et 100 (`rd.randint(1, 100)`\n",
        "2.  Demandez à l'utilisateur de deviner un nombre. Utilisez `input()` pour permettre à l'utilisateur de rentrer un nombre. Il faut convertir la valeur saisie par l'utilisateur en numbre entier avec `int()`\n",
        "3.  Fournissez ds indices `Trop grand` ou `Trop petit` pour aider l'utilisateur à trouver le nombre\n",
        "4.  Répétez jusqu'à ce que l'utilisateur trouve le bon nombre : Continuez à demander à l'utilisateur de deviner jusqu'à ce qu'il trouve le nombre secret.\n",
        "5.  Comptez les essais : Affichez le nombre d'essais qu'il a fallu à l'utilisateur pour trouver le bon nombre."
      ]
    },
    {
      "cell_type": "code",
      "execution_count": null,
      "metadata": {
        "colab": {
          "base_uri": "https://localhost:8080/"
        },
        "id": "Hv7VhwrGWlhh",
        "outputId": "813238d9-116c-46e7-c47e-a6fd314ed9ca"
      },
      "outputs": [
        {
          "name": "stdout",
          "output_type": "stream",
          "text": [
            "Devine le nombre : 50\n",
            "Trop petit\n",
            "Devine le nombre : 75\n",
            "Trop grand\n",
            "Devine le nombre : 60\n",
            "Trop grand\n",
            "Devine le nombre : 55\n",
            "Trop petit\n",
            "Devine le nombre : 57\n",
            "Bravo ! Vous avez réussi en 4 coups.\n"
          ]
        }
      ],
      "source": [
        "nb = rd.randint(1, 100)\n",
        "\n",
        "n = int(input('Devine le nombre : '))\n",
        "i = 0\n",
        "while n != nb:\n",
        "  if n > nb:\n",
        "    print('Trop grand')\n",
        "  else:\n",
        "    print('Trop petit')\n",
        "  n = int(input('Devine le nombre : '))\n",
        "  i += 1\n",
        "\n",
        "print(f'Bravo ! Vous avez réussi en {i} coups.')"
      ]
    },
    {
      "cell_type": "markdown",
      "metadata": {
        "id": "oTV-_ZDhkA5_"
      },
      "source": [
        "\n",
        "\n",
        "---\n",
        "# **Séance 3 & 4**"
      ]
    },
    {
      "cell_type": "markdown",
      "metadata": {
        "id": "NgWIR2uVtQRx"
      },
      "source": [
        "# **Les modules**"
      ]
    },
    {
      "cell_type": "markdown",
      "metadata": {
        "id": "OJcMF75xxZFC"
      },
      "source": [
        "Les **modules**, ou biliothèques (*librairies* en anglais) sont des programmes Python qui contiennent des **fonctions déjà prêtes** pour une très large variété d'applications. Nous allons en explorer quelques unes ici, mais sachez qu'il en existe des centaines d'autres.\n",
        "\n",
        "Sur Google Colab, les modules sont déjà préinstallés, il suffit donc de les 'appeler' pour s'en servir. Sur des environnements locaux, les modules les plus courrants sont généralement déjà installée, mais il faudra installer certains modules avant leur première utilisation."
      ]
    },
    {
      "cell_type": "markdown",
      "metadata": {
        "id": "8OCNoLY0yrC6"
      },
      "source": [
        "## **Importation**"
      ]
    },
    {
      "cell_type": "markdown",
      "metadata": {
        "id": "MsJccP1nyuBZ"
      },
      "source": [
        "Pour pouvoir utiliser un module, il faut au préalable l'importer à l'aide de `import`.\n",
        "\n",
        "Il existe plusieurs moyens pour importer un module ou les fonctions d'un module:"
      ]
    },
    {
      "cell_type": "markdown",
      "metadata": {
        "id": "HIVYXAbt27bs"
      },
      "source": [
        "1.   Importer toutes les fonctions du module avec `import module`.\n",
        "Pour appeler une fonction du module, il faudra alors préciser le nom du module suivi de la fonction `module.fonction()`"
      ]
    },
    {
      "cell_type": "code",
      "execution_count": null,
      "metadata": {
        "colab": {
          "base_uri": "https://localhost:8080/"
        },
        "id": "vWTI8OcT285Q",
        "outputId": "dbacb06a-7c61-4a42-f905-c0161cc77511"
      },
      "outputs": [
        {
          "data": {
            "text/plain": [
              "3.0"
            ]
          },
          "execution_count": 24,
          "metadata": {},
          "output_type": "execute_result"
        }
      ],
      "source": [
        "import math\n",
        "math.sqrt(9) # Fonction racine carrée"
      ]
    },
    {
      "cell_type": "markdown",
      "metadata": {
        "id": "pJD-8rV43dnJ"
      },
      "source": [
        "2.  Importer toutes les fonctions du module en précisant un alias sous lequel  on appelle le module : `import module as mod`. Pour appeler une fonction, on utilisera l'alias du module suivi du nom de la fonction: `mod.fonction()`"
      ]
    },
    {
      "cell_type": "code",
      "execution_count": null,
      "metadata": {
        "colab": {
          "base_uri": "https://localhost:8080/"
        },
        "id": "I4JUWi1A32q6",
        "outputId": "959396fd-2172-4c60-f976-2fcdec42b754"
      },
      "outputs": [
        {
          "data": {
            "text/plain": [
              "3.0"
            ]
          },
          "execution_count": 25,
          "metadata": {},
          "output_type": "execute_result"
        }
      ],
      "source": [
        "import math as m\n",
        "m.sqrt(9)"
      ]
    },
    {
      "cell_type": "markdown",
      "metadata": {
        "id": "qjyqrQhS39fU"
      },
      "source": [
        "3.  Importer des fonctions spécifiques du module avec `from module import fonction`. On pourra alors appeler directement la fonction sans préciser le module."
      ]
    },
    {
      "cell_type": "code",
      "execution_count": null,
      "metadata": {
        "colab": {
          "base_uri": "https://localhost:8080/"
        },
        "id": "mFjpzuhs4a8F",
        "outputId": "871990a0-40f1-4292-dfa5-ba2f52ad6a4d"
      },
      "outputs": [
        {
          "data": {
            "text/plain": [
              "3.0"
            ]
          },
          "execution_count": 27,
          "metadata": {},
          "output_type": "execute_result"
        }
      ],
      "source": [
        "from math import sqrt\n",
        "sqrt(9)"
      ]
    },
    {
      "cell_type": "markdown",
      "metadata": {
        "id": "MiBIE2YO4gek"
      },
      "source": [
        "4.  Importer toutes les fonctions du module sans préciser direcetement avec `from module import *`. On peut alors appeler toutes les fonctions d'un module directement sans préciser le nom du module."
      ]
    },
    {
      "cell_type": "code",
      "execution_count": null,
      "metadata": {
        "id": "gQR2mQ3v442y"
      },
      "outputs": [],
      "source": [
        "from math import *\n",
        "sqrt(9)"
      ]
    },
    {
      "cell_type": "code",
      "execution_count": null,
      "metadata": {
        "id": "zsbjujvtyto_"
      },
      "outputs": [],
      "source": [
        "from math import *\n",
        "from math import sin\n",
        "import math\n",
        "import math as m"
      ]
    },
    {
      "cell_type": "markdown",
      "metadata": {
        "id": "1wDrU-Hu5Zf7"
      },
      "source": [
        "En pratique, les modules souvent utilisés sont importés de la même manière par les programmeurs. Cela permet plus de lisibilité entre les utilisateurs. Dans un programme Python, les modules sont en principe importés au début, tout en haut du programme."
      ]
    },
    {
      "cell_type": "markdown",
      "metadata": {
        "id": "cUvU6aw96eAg"
      },
      "source": [
        "Nous allons maintenant passer en revue des modules courrament utilisés."
      ]
    },
    {
      "cell_type": "markdown",
      "metadata": {
        "id": "hc6Pxba86jMZ"
      },
      "source": [
        "### `math`"
      ]
    },
    {
      "cell_type": "markdown",
      "metadata": {
        "id": "SOOgHrDh6ntF"
      },
      "source": [
        "Comme son nom l'indique, le module `math` contient beaucoup de fonctions mathématiques comme `sin()`, `cos()`, `sqrt()`, `pi()`...\n"
      ]
    },
    {
      "cell_type": "code",
      "execution_count": null,
      "metadata": {
        "id": "iQs58ljSp54W"
      },
      "outputs": [],
      "source": [
        "import math"
      ]
    },
    {
      "cell_type": "markdown",
      "metadata": {
        "id": "B8-xmAID6_F9"
      },
      "source": [
        "### `random` pour l'aléatoire"
      ]
    },
    {
      "cell_type": "markdown",
      "metadata": {
        "id": "dLnpeR5F7CRV"
      },
      "source": [
        "Le module `random` permet de gérer l'aléatoire en Python, notamment pour créer des listes de nombres aléatoires."
      ]
    },
    {
      "cell_type": "code",
      "execution_count": null,
      "metadata": {
        "colab": {
          "base_uri": "https://localhost:8080/"
        },
        "id": "eS7BqPGn7BwI",
        "outputId": "27b164bb-23fd-4fcf-863d-6e71fe9e1eb5"
      },
      "outputs": [
        {
          "data": {
            "text/plain": [
              "36"
            ]
          },
          "execution_count": 30,
          "metadata": {},
          "output_type": "execute_result"
        }
      ],
      "source": [
        "import random as rd\n",
        "\n",
        "rd.randint(10,100)"
      ]
    },
    {
      "cell_type": "markdown",
      "metadata": {
        "id": "-bA1H-8z7iYr"
      },
      "source": [
        "### `numpy` pour le calcul numérique et matriciel"
      ]
    },
    {
      "cell_type": "markdown",
      "metadata": {
        "id": "NwgNaeZZ8d-V"
      },
      "source": [
        "Le module`numpy` est une bibliothèque fondamentale pour le calcul numérique et la gestion de matrices. Il fournit une structure de données appelée *array*, similaires à des tableaux multidimensionels.\n",
        "\n",
        "Nous y reviendrons plus en détails par la suite."
      ]
    },
    {
      "cell_type": "code",
      "execution_count": null,
      "metadata": {
        "id": "9RLGBdXo7MDu"
      },
      "outputs": [],
      "source": [
        "import numpy as np"
      ]
    },
    {
      "cell_type": "markdown",
      "metadata": {
        "id": "nV914LgT9KFU"
      },
      "source": [
        "### `Matplolib` pour les graphiques"
      ]
    },
    {
      "cell_type": "markdown",
      "metadata": {
        "id": "W3NTVYa87pux"
      },
      "source": [
        "Le module `matplotlib` est utilisé pour générer des graphiques. Il permet de créer une large variété de graphes, les personaliser etc. Nous y reviendrons également plus en détail.\n",
        "\n",
        "On l'importe en géréral avec l'alias `plt`:"
      ]
    },
    {
      "cell_type": "code",
      "execution_count": null,
      "metadata": {
        "id": "Ygpfs2427p6p"
      },
      "outputs": [],
      "source": [
        "import matplotlib.pyplot as plt"
      ]
    },
    {
      "cell_type": "markdown",
      "metadata": {
        "id": "rTvZ60b69ZTr"
      },
      "source": [
        "### Et d'autres..."
      ]
    },
    {
      "cell_type": "markdown",
      "metadata": {
        "id": "KMM2RREK9cf8"
      },
      "source": [
        "On peut aussi citer `time` pour la gestion du temps, `os` pour gérer les répertoires..."
      ]
    },
    {
      "cell_type": "markdown",
      "metadata": {
        "id": "QsVOpwL4BC4t"
      },
      "source": [
        "**Exercice**\n",
        "\n",
        "En utilisant les notations montrées précédemment :\n",
        "*  Importez le module `math`, affichez la valeur de π (`pi()`)\n",
        "*  Importez le module `random` et affichez un nombre aléatoire entre 20 et 150 (`randint()`)"
      ]
    },
    {
      "cell_type": "code",
      "execution_count": null,
      "metadata": {
        "id": "xtaQo-ajBCRU"
      },
      "outputs": [],
      "source": []
    },
    {
      "cell_type": "markdown",
      "metadata": {
        "id": "h0o-iLMJ_Gs3"
      },
      "source": [
        "## **`NumPy`**"
      ]
    },
    {
      "cell_type": "markdown",
      "metadata": {
        "id": "_4j0QTcAcG66"
      },
      "source": [
        "### Création d'*array*"
      ]
    },
    {
      "cell_type": "markdown",
      "metadata": {
        "id": "LSS2wEnkq97n"
      },
      "source": [
        "NumPy permet de générer des objets de type *array*, qui correspond à des tableaux de n dimension. Au contraire des listes, les éléments des array doivent être de même type. \\\n",
        "On peut créer un *array* à partir d'une liste:"
      ]
    },
    {
      "cell_type": "code",
      "execution_count": null,
      "metadata": {
        "colab": {
          "base_uri": "https://localhost:8080/"
        },
        "id": "Hfeg286yrLvJ",
        "outputId": "35455fbe-4f14-4a4b-fc0a-96be9be31c72"
      },
      "outputs": [
        {
          "data": {
            "text/plain": [
              "array([1, 2, 3])"
            ]
          },
          "execution_count": 6,
          "metadata": {},
          "output_type": "execute_result"
        }
      ],
      "source": [
        "my_array = np.array([1, 2, 3])\n",
        "my_array"
      ]
    },
    {
      "cell_type": "markdown",
      "metadata": {
        "id": "Sy2EvrxFriAG"
      },
      "source": [
        "Sur cet exemple, on a créé un array de une dimension, similaire à un vecteur. \\\n",
        "On peut créer des objets de deux dimensions, comparables à une matrice:"
      ]
    },
    {
      "cell_type": "code",
      "execution_count": null,
      "metadata": {
        "colab": {
          "base_uri": "https://localhost:8080/"
        },
        "id": "wM-GYVMsrzNs",
        "outputId": "53b397d8-fdad-48b0-ae2f-d82cfd834784"
      },
      "outputs": [
        {
          "data": {
            "text/plain": [
              "array([[1, 2, 3],\n",
              "       [4, 5, 6]])"
            ]
          },
          "execution_count": 3,
          "metadata": {},
          "output_type": "execute_result"
        }
      ],
      "source": [
        "my_2d_array = np.array([[1, 2, 3], [4, 5, 6]])\n",
        "my_2d_array"
      ]
    },
    {
      "cell_type": "markdown",
      "metadata": {
        "id": "G8CDdL4Hc1xV"
      },
      "source": [
        "On peut également utiliser la fonction `arange()` pour créer rapidement une array à 1 dimension:"
      ]
    },
    {
      "cell_type": "code",
      "execution_count": null,
      "metadata": {
        "colab": {
          "base_uri": "https://localhost:8080/"
        },
        "id": "Dux9PvBPc2BQ",
        "outputId": "16c13044-869c-46da-a820-b0567ad8e80c"
      },
      "outputs": [
        {
          "data": {
            "text/plain": [
              "array([1, 2, 3, 4, 5, 6, 7, 8, 9])"
            ]
          },
          "execution_count": 8,
          "metadata": {},
          "output_type": "execute_result"
        }
      ],
      "source": [
        "np.arange(1,10)"
      ]
    },
    {
      "cell_type": "markdown",
      "metadata": {
        "id": "WueaRIONuTdS"
      },
      "source": [
        "Et créer des arrays ne contenant que des zéros :"
      ]
    },
    {
      "cell_type": "code",
      "execution_count": null,
      "metadata": {
        "colab": {
          "base_uri": "https://localhost:8080/"
        },
        "id": "jbD8N1UauK8r",
        "outputId": "144de434-3ea1-4f23-c904-01511cb81ba3"
      },
      "outputs": [
        {
          "data": {
            "text/plain": [
              "array([[0., 0., 0.],\n",
              "       [0., 0., 0.]])"
            ]
          },
          "execution_count": 9,
          "metadata": {},
          "output_type": "execute_result"
        }
      ],
      "source": [
        "zero_array = np.zeros((2, 3))\n",
        "zero_array"
      ]
    },
    {
      "cell_type": "markdown",
      "metadata": {
        "id": "vn5go6qoudo4"
      },
      "source": [
        "et de la même manière avec que des 1 en utilisant `ones` à la place de `zeros`."
      ]
    },
    {
      "cell_type": "markdown",
      "metadata": {
        "id": "f1JtqFSivJKG"
      },
      "source": [
        "Une autre méthode couramment utilisée est `linspace()` pour créer un array de valeurs linéairement distribuées dans un intervalle.\n",
        "\n",
        "Par exemple, pour créer 10 valeurs dans l'intervalle `[0, 1]`, on pourra utiliser:"
      ]
    },
    {
      "cell_type": "code",
      "execution_count": null,
      "metadata": {
        "colab": {
          "base_uri": "https://localhost:8080/"
        },
        "id": "udHHjGAHvOQM",
        "outputId": "ee3ae0fe-81a2-4441-a05b-dd8251833189"
      },
      "outputs": [
        {
          "data": {
            "text/plain": [
              "array([0.        , 0.11111111, 0.22222222, 0.33333333, 0.44444444,\n",
              "       0.55555556, 0.66666667, 0.77777778, 0.88888889, 1.        ])"
            ]
          },
          "execution_count": 10,
          "metadata": {},
          "output_type": "execute_result"
        }
      ],
      "source": [
        "np.linspace(0, 1, 10)"
      ]
    },
    {
      "cell_type": "markdown",
      "metadata": {
        "id": "oyQIhQKR4mQU"
      },
      "source": [
        "### Manipuler les *array*"
      ]
    },
    {
      "cell_type": "code",
      "execution_count": null,
      "metadata": {
        "colab": {
          "base_uri": "https://localhost:8080/"
        },
        "id": "VA4JgJ6c5dfF",
        "outputId": "43f66b8e-4dc6-4938-f3fd-bdb713b69e1f"
      },
      "outputs": [
        {
          "data": {
            "text/plain": [
              "array([[1, 2, 3],\n",
              "       [4, 5, 6]])"
            ]
          },
          "execution_count": 11,
          "metadata": {},
          "output_type": "execute_result"
        }
      ],
      "source": [
        "my_2d_array"
      ]
    },
    {
      "cell_type": "markdown",
      "metadata": {
        "id": "-kZMzYsAsVAc"
      },
      "source": [
        "On peut accéder aux éléments d'un array par ses indices. Pour une array 1D, le système est similaire aux liste. Dans un array à 2D, on donne d'abord l'indice de la ligne puis de la colonne:"
      ]
    },
    {
      "cell_type": "code",
      "execution_count": null,
      "metadata": {
        "colab": {
          "base_uri": "https://localhost:8080/"
        },
        "id": "4q8X86BbscPd",
        "outputId": "09b1582f-c4ee-4e11-c51a-bdfdfafa5707"
      },
      "outputs": [
        {
          "data": {
            "text/plain": [
              "6"
            ]
          },
          "execution_count": 12,
          "metadata": {},
          "output_type": "execute_result"
        }
      ],
      "source": [
        "my_2d_array[1, 2]"
      ]
    },
    {
      "cell_type": "markdown",
      "metadata": {
        "id": "7ic5FtVxCCYR"
      },
      "source": [
        "Ou de manière équivalente:"
      ]
    },
    {
      "cell_type": "code",
      "execution_count": null,
      "metadata": {
        "colab": {
          "base_uri": "https://localhost:8080/"
        },
        "id": "4NA-C8seCDCV",
        "outputId": "3f6d700d-c869-40ec-a527-081f926222a0"
      },
      "outputs": [
        {
          "data": {
            "text/plain": [
              "6"
            ]
          },
          "execution_count": 13,
          "metadata": {},
          "output_type": "execute_result"
        }
      ],
      "source": [
        "my_2d_array[1][2]"
      ]
    },
    {
      "cell_type": "markdown",
      "metadata": {
        "id": "OfVIKyxkTh0p"
      },
      "source": [
        "On peut accéder aux lignes"
      ]
    },
    {
      "cell_type": "code",
      "execution_count": null,
      "metadata": {
        "colab": {
          "base_uri": "https://localhost:8080/"
        },
        "id": "CrKnDAtyTlYe",
        "outputId": "09f187d5-e4e2-4478-a5a4-82f004cee820"
      },
      "outputs": [
        {
          "data": {
            "text/plain": [
              "array([4, 5, 6])"
            ]
          },
          "execution_count": 14,
          "metadata": {},
          "output_type": "execute_result"
        }
      ],
      "source": [
        "my_2d_array[1]"
      ]
    },
    {
      "cell_type": "markdown",
      "metadata": {
        "id": "hskLBCp9ToCG"
      },
      "source": [
        "et aux colonnes"
      ]
    },
    {
      "cell_type": "code",
      "execution_count": null,
      "metadata": {
        "colab": {
          "base_uri": "https://localhost:8080/"
        },
        "id": "MOOFsLHhTozX",
        "outputId": "c762100b-7328-49cd-aea3-53666a02e517"
      },
      "outputs": [
        {
          "data": {
            "text/plain": [
              "array([3, 6])"
            ]
          },
          "execution_count": 15,
          "metadata": {},
          "output_type": "execute_result"
        }
      ],
      "source": [
        "my_2d_array[:, 2]"
      ]
    },
    {
      "cell_type": "markdown",
      "metadata": {
        "id": "keWK_5PHr9Q2"
      },
      "source": [
        "Les arrays ont un attribut `.shape` pour accéder à leur dimension:"
      ]
    },
    {
      "cell_type": "code",
      "execution_count": null,
      "metadata": {
        "colab": {
          "base_uri": "https://localhost:8080/"
        },
        "id": "5QIo7l1Yr8m7",
        "outputId": "7aec082f-a2bc-4d46-ef68-d413c38f8132"
      },
      "outputs": [
        {
          "name": "stdout",
          "output_type": "stream",
          "text": [
            "(3,)\n",
            "(2, 3)\n"
          ]
        }
      ],
      "source": [
        "print(my_array.shape)\n",
        "print(my_2d_array.shape)"
      ]
    },
    {
      "cell_type": "markdown",
      "metadata": {
        "id": "WbcxAKobvgUT"
      },
      "source": [
        "Et on peut utiliser `.reshape()` pour changer la taille d'un array, à condition que les nouvelles dimensions soient compatibles:"
      ]
    },
    {
      "cell_type": "code",
      "execution_count": null,
      "metadata": {
        "colab": {
          "base_uri": "https://localhost:8080/"
        },
        "id": "4FPzTuDlvlLO",
        "outputId": "377502e6-5b24-4ce9-f14d-66a8a2694d70"
      },
      "outputs": [
        {
          "data": {
            "text/plain": [
              "array([[1, 2],\n",
              "       [3, 4],\n",
              "       [5, 6]])"
            ]
          },
          "execution_count": 17,
          "metadata": {},
          "output_type": "execute_result"
        }
      ],
      "source": [
        "my_array = np.array([1, 2, 3, 4, 5, 6])\n",
        "my_array.reshape(3, 2)"
      ]
    },
    {
      "cell_type": "markdown",
      "metadata": {
        "id": "Ur1UlSFPTu6O"
      },
      "source": [
        "**Exercice** Créez un tableau 3D de forme (2, 2, 2), contenant 8 valeurs. Accédez aux éléments individuels et aux lignes."
      ]
    },
    {
      "cell_type": "markdown",
      "metadata": {
        "id": "f9B0iCBlmfeY"
      },
      "source": [
        "### Opérations de base"
      ]
    },
    {
      "cell_type": "markdown",
      "metadata": {
        "id": "elQGgkqDxKLV"
      },
      "source": [
        "Le module NumPy est adapté à l'algébre linéaire et manipule les opérations mathématiques entre *array* de mannière très compacte."
      ]
    },
    {
      "cell_type": "markdown",
      "metadata": {
        "id": "hkCU1T8ixghX"
      },
      "source": [
        "On peut par exemple additionner les valeurs de deux *array* de même taille grace à l'opérateur `+`:"
      ]
    },
    {
      "cell_type": "code",
      "execution_count": null,
      "metadata": {
        "colab": {
          "base_uri": "https://localhost:8080/"
        },
        "id": "4AoiRq42x5mI",
        "outputId": "f53a3eb0-dc4e-4466-a50d-92dfff05b85e"
      },
      "outputs": [
        {
          "data": {
            "text/plain": [
              "array([5, 7, 9])"
            ]
          },
          "execution_count": 18,
          "metadata": {},
          "output_type": "execute_result"
        }
      ],
      "source": [
        "array_a = np.array([1, 2, 3])\n",
        "array_b = np.array([4, 5, 6])\n",
        "array_a + array_b"
      ]
    },
    {
      "cell_type": "markdown",
      "metadata": {
        "id": "fPM6FwZ8EkDp"
      },
      "source": [
        "Et additionner, multiplier, soustraire ou diviser un nombre à chaque élément d'un *array*"
      ]
    },
    {
      "cell_type": "code",
      "execution_count": null,
      "metadata": {
        "colab": {
          "base_uri": "https://localhost:8080/"
        },
        "id": "PXAQi6I5Ev9E",
        "outputId": "dc556773-e38b-4ae0-da36-b2a1e8c26c4b"
      },
      "outputs": [
        {
          "data": {
            "text/plain": [
              "array([ 3,  6,  9, 12, 15, 18])"
            ]
          },
          "execution_count": 23,
          "metadata": {},
          "output_type": "execute_result"
        }
      ],
      "source": [
        "my_array*3"
      ]
    },
    {
      "cell_type": "markdown",
      "metadata": {
        "id": "Qdn8MwpR0wX_"
      },
      "source": [
        "Il existe une multitude de méthodes applicables sur les *array*, comme `.mean()`, `.sum()`, `.max()`..."
      ]
    },
    {
      "cell_type": "code",
      "execution_count": null,
      "metadata": {
        "colab": {
          "base_uri": "https://localhost:8080/"
        },
        "id": "e0MCarixHHoK",
        "outputId": "deb52b60-ff8f-4507-bd36-5ba193382870"
      },
      "outputs": [
        {
          "data": {
            "text/plain": [
              "6"
            ]
          },
          "execution_count": 25,
          "metadata": {},
          "output_type": "execute_result"
        }
      ],
      "source": [
        "my_2d_array.max()"
      ]
    },
    {
      "cell_type": "markdown",
      "metadata": {
        "id": "9HpFmR9dHBOm"
      },
      "source": [
        "En général, on peut passer en argument de ces méthodes le paramètre `axis`, qui permet de définir sur quel axe effectuer l'oération si l'*array* est de dimension supérieure à 1. Pour une *array* à deux dimensions, si `axis=0`, l'opération se fera par ligne, et si `axis=1` par colonne."
      ]
    },
    {
      "cell_type": "code",
      "execution_count": null,
      "metadata": {
        "colab": {
          "base_uri": "https://localhost:8080/"
        },
        "id": "kG9NioTnGuAS",
        "outputId": "7b5c1ee9-0cd8-463a-d61b-121eb3211784"
      },
      "outputs": [
        {
          "data": {
            "text/plain": [
              "array([4, 5, 6])"
            ]
          },
          "execution_count": 24,
          "metadata": {},
          "output_type": "execute_result"
        }
      ],
      "source": [
        "my_2d_array.max(axis=0)"
      ]
    },
    {
      "cell_type": "code",
      "execution_count": null,
      "metadata": {
        "colab": {
          "base_uri": "https://localhost:8080/"
        },
        "id": "hEoVxMLNHVVb",
        "outputId": "8a16b065-64f1-40fc-adf7-79b3ca085d5c"
      },
      "outputs": [
        {
          "data": {
            "text/plain": [
              "array([3, 6])"
            ]
          },
          "execution_count": 26,
          "metadata": {},
          "output_type": "execute_result"
        }
      ],
      "source": [
        "my_2d_array.max(axis=1)"
      ]
    },
    {
      "cell_type": "markdown",
      "metadata": {
        "id": "E_FH7GLhHtgM"
      },
      "source": [
        "Il existe un bon nombre de fonction applicables aux *array* telles que `np.sin()`, `np.round()`..."
      ]
    },
    {
      "cell_type": "code",
      "execution_count": null,
      "metadata": {
        "colab": {
          "base_uri": "https://localhost:8080/",
          "height": 34
        },
        "id": "JoanjiMu1BH5",
        "outputId": "e6b8be44-7e66-4a3f-eb57-c767c7f8b2f3"
      },
      "outputs": [
        {
          "data": {
            "text/plain": [
              "array([0.84147098, 0.90929743, 0.14112001])"
            ]
          },
          "execution_count": 41,
          "metadata": {
            "tags": []
          },
          "output_type": "execute_result"
        }
      ],
      "source": [
        "np.sin(array_a)"
      ]
    },
    {
      "cell_type": "markdown",
      "metadata": {
        "id": "IIkcXc3yIUWo"
      },
      "source": [
        "Il existe également de nombreux outils d'algèbre inéaire, comme l'attribut `.T`qui contient la transposée, la fonction `dot()`pour le produit scalaire de deux matrices/vecteurs..."
      ]
    },
    {
      "cell_type": "code",
      "execution_count": null,
      "metadata": {
        "colab": {
          "base_uri": "https://localhost:8080/"
        },
        "id": "gvPe_JAO6mvF",
        "outputId": "e3e41260-1355-4163-fd06-9810fc85ff35"
      },
      "outputs": [
        {
          "data": {
            "text/plain": [
              "array([1, 2, 3])"
            ]
          },
          "execution_count": 28,
          "metadata": {},
          "output_type": "execute_result"
        }
      ],
      "source": [
        "array_a.T"
      ]
    },
    {
      "cell_type": "code",
      "execution_count": null,
      "metadata": {
        "colab": {
          "base_uri": "https://localhost:8080/"
        },
        "id": "TphR8oIx5ob9",
        "outputId": "970890cd-38c4-4e1c-cb43-f4c0a5be8efd"
      },
      "outputs": [
        {
          "data": {
            "text/plain": [
              "32"
            ]
          },
          "execution_count": 27,
          "metadata": {},
          "output_type": "execute_result"
        }
      ],
      "source": [
        "np.dot(array_a, array_b)"
      ]
    },
    {
      "cell_type": "markdown",
      "metadata": {
        "id": "PKOjAJlOFDO8"
      },
      "source": [
        "**Exercice**\n",
        "*  Créez un tableau 2D de forme (3, 3) avec des valeurs aléatoires (aide: `np.random.rand()`)\n",
        "*  Calculez la somme de tous les éléments du tableau.\n",
        "*  Calculez la moyenne de chaque colonne."
      ]
    },
    {
      "cell_type": "markdown",
      "metadata": {
        "id": "JlWt3oFnE_E-"
      },
      "source": [
        "### Tranches et masques"
      ]
    },
    {
      "cell_type": "markdown",
      "metadata": {
        "id": "e4aKKe7bFA65"
      },
      "source": [
        "Tout comme les liste, les objets NumPy supportent le *slicing*"
      ]
    },
    {
      "cell_type": "code",
      "execution_count": null,
      "metadata": {
        "colab": {
          "base_uri": "https://localhost:8080/"
        },
        "id": "0kPhv2xcF1TP",
        "outputId": "8735fa11-94bd-4586-dc30-c7dd3d844e8b"
      },
      "outputs": [
        {
          "data": {
            "text/plain": [
              "array([5, 6, 7, 8, 9])"
            ]
          },
          "execution_count": 30,
          "metadata": {},
          "output_type": "execute_result"
        }
      ],
      "source": [
        "np.arange(10)[5:]"
      ]
    },
    {
      "cell_type": "markdown",
      "metadata": {
        "id": "ITu2Wy4-GB2G"
      },
      "source": [
        "et on peut facilement extraire certains éléments d'un *array*."
      ]
    },
    {
      "cell_type": "code",
      "execution_count": null,
      "metadata": {
        "colab": {
          "base_uri": "https://localhost:8080/"
        },
        "id": "8tlZzTB6GEyw",
        "outputId": "ca0dc3cf-e71a-4bda-db89-e2006d4acab3"
      },
      "outputs": [
        {
          "data": {
            "text/plain": [
              "array([5, 6, 7, 8, 9])"
            ]
          },
          "execution_count": 31,
          "metadata": {},
          "output_type": "execute_result"
        }
      ],
      "source": [
        "x = np.arange(10)\n",
        "mask = x >= 5\n",
        "x[mask]"
      ]
    },
    {
      "cell_type": "markdown",
      "metadata": {
        "id": "mEJ3lhV7Sj2v"
      },
      "source": [
        "Pour concaténer les *array* on utilisera la fonction `concatenate()`:"
      ]
    },
    {
      "cell_type": "code",
      "execution_count": null,
      "metadata": {
        "colab": {
          "base_uri": "https://localhost:8080/"
        },
        "id": "UP0j1QAASrbb",
        "outputId": "47f4e787-28e7-45a1-ec07-d2c0004c3538"
      },
      "outputs": [
        {
          "name": "stdout",
          "output_type": "stream",
          "text": [
            "Array 1 :\n",
            " [[ 0  0 43]\n",
            " [17 27 48]\n",
            " [ 2 20 30]]\n",
            "Array 2 :\n",
            " [[34  9 25]\n",
            " [47 24 21]\n",
            " [44 11 48]]\n",
            "Concaténation verticale :\n",
            " [[ 0  0 43]\n",
            " [17 27 48]\n",
            " [ 2 20 30]\n",
            " [34  9 25]\n",
            " [47 24 21]\n",
            " [44 11 48]]\n",
            "Concaténation horizontale :\n",
            " [[ 0  0 43 34  9 25]\n",
            " [17 27 48 47 24 21]\n",
            " [ 2 20 30 44 11 48]]\n"
          ]
        }
      ],
      "source": [
        "array1 = np.random.randint(0, 50, size=(3, 3))\n",
        "array2 = np.random.randint(0, 50, size=(3, 3))\n",
        "\n",
        "# Concaténation des deux arrays 2D verticalement (par lignes)\n",
        "array_concat_vertical = np.concatenate((array1, array2), axis=0)\n",
        "\n",
        "# Concaténation des deux arrays 2D horizontalement (par colonnes)\n",
        "array_concat_horizontal = np.concatenate((array1, array2), axis=1)\n",
        "\n",
        "print(\"Array 1 :\\n\", array1)\n",
        "print(\"Array 2 :\\n\", array2)\n",
        "print(\"Concaténation verticale :\\n\", array_concat_vertical)\n",
        "print(\"Concaténation horizontale :\\n\", array_concat_horizontal)"
      ]
    },
    {
      "cell_type": "markdown",
      "metadata": {
        "id": "eLAfmR0gFYLr"
      },
      "source": [
        "**Exercice**\n",
        "*  Créez un tableau 1D avec des valeurs allant de 1 à 30.\n",
        "*  Créez un masque pour extraire tous les nombres pairs du tableau.\n",
        "*  Créez un nouveau tableau contenant uniquement ces nombres pairs."
      ]
    },
    {
      "cell_type": "markdown",
      "metadata": {
        "id": "Eh6AKIyx_oty"
      },
      "source": [
        "**Récapitulatif sur NumPy et les *array***\n",
        "\n",
        "Création d'*array* :\n",
        "*  À partir d'une liste : `np.array([[1,2,3],[4,5,6],[7,8,9]])`\n",
        "*  Avec arange pour 1D : `np.arange(20)`\n",
        "*  Avec des 0 ou des 1 : `np.zeros((3,3))`\n",
        "*  Avec des valeurs distribuées sur un intervalle : `np.linespace(0,10,100)`\n",
        "\n",
        "Manipulation:\n",
        "*  Comme les liste, on peut utiliser les indices: `my_array[2,6]` : élément de la 2eme ligne, 6eme colonne.\n",
        "*  Redimensioner: `np.reshape(my_array, (5, 1))`\n",
        "\n",
        "Opérations:\n",
        "*  Opération mathématique sur un *array*: `my_array + 6`\n",
        "*  Opération mathématique entre plusieurs *array*: `my_array + my_array2`\n",
        "*  Utilisation de fonctions: `np.mean(my_array)`\n",
        "*  Filtrage: *my_array > 3*\n",
        "* Concaténation: `np.concatenate((my_array, my_array2), axis=1)`"
      ]
    },
    {
      "cell_type": "markdown",
      "metadata": {
        "id": "FyN1O_V5Hmcu"
      },
      "source": [
        "### **Exercice**\n",
        "\n",
        "1.  Créez un tableau 2D de forme (50,3)(50,3) contenant des valeurs aléatoires entre 0 et 100.\n",
        "2.  Appliquez la normalisation min-max pour chaque colonne. La normalisation min-max est donnée par la formule :\n",
        "$x′=\\frac{x−min⁡(X)}{max⁡(X)−min⁡(X)}$\n",
        "3.  Appliquez la standardisation (z-score) pour chaque colonne. La standardisation est donnée par la formule :\n",
        "$ z=\\frac{x−μ}{σ}$\n",
        "   où $µ$ est la moyenne et $σ$ est l'écart type de la colonne.\n",
        "\n",
        "4.  Affichez les tableaux normalisés et standardisés."
      ]
    },
    {
      "cell_type": "markdown",
      "metadata": {
        "id": "7Jt6T3kJ8I2T"
      },
      "source": [
        "## **Matplotlib**"
      ]
    },
    {
      "cell_type": "markdown",
      "metadata": {
        "id": "UUSZoEZ_KsMN"
      },
      "source": [
        "Le module Matplolib est utilisé pour **générer des graphiques**. Nous allons explorer ici des représentations graphiques simples, mais n'hésitez pas à aller voir la [documentation](https://matplotlib.org/) pour voir l'ensemble des possibles.\n",
        "\n",
        "\n",
        "Le tracé des données est en général assez simple, quelques lignes de code suffisent. Vous verrez cependant que la personalisation des graphes (nom des axes, titre du graphique, personalisation des tailles et couleurs...) prend de la place!"
      ]
    },
    {
      "cell_type": "markdown",
      "metadata": {
        "id": "kQX8TiEOALkQ"
      },
      "source": [
        "### Quelques plots basiques"
      ]
    },
    {
      "cell_type": "markdown",
      "metadata": {
        "id": "Eom7t-m6-Uzb"
      },
      "source": [
        "Nous allons commencer par un plot simple pour illustrer l'utilisation des plots:"
      ]
    },
    {
      "cell_type": "code",
      "execution_count": null,
      "metadata": {
        "colab": {
          "base_uri": "https://localhost:8080/",
          "height": 472
        },
        "id": "g21e5Ncm927z",
        "outputId": "f7eff237-3fd8-42eb-c592-eded32912096"
      },
      "outputs": [
        {
          "data": {
            "image/png": "[encoded data removed]",
            "text/plain": [
              "<Figure size 640x480 with 1 Axes>"
            ]
          },
          "metadata": {},
          "output_type": "display_data"
        }
      ],
      "source": [
        "from matplotlib import pyplot as plt\n",
        "\n",
        "x = np.linspace(-3, 3, 100)\n",
        "y = np.sin(x)\n",
        "\n",
        "plt.figure()\n",
        "plt.plot(x, y, label=\"Sinusoid\")\n",
        "plt.xlabel(\"x\")\n",
        "plt.ylabel(\"sin(x)\")\n",
        "plt.title(\"Exemple\")\n",
        "plt.legend(loc=\"upper left\")\n",
        "plt.show()"
      ]
    },
    {
      "cell_type": "markdown",
      "metadata": {
        "id": "E3LoqzgPLiVi"
      },
      "source": [
        "L'idée générale est de tracer des points `y` en fonction de des valeurs `x`. Pour cela, on veut donc 2 arrays de même taille: `x`, ici généré par `np.linespace()` et `y`, la fonction sinus dont les valeurs sont calculées pour chaque valeur de `x`.\n",
        "\n",
        "La fonction `plt.plot(x, y)`permet ensuite de créer le plot, et `plt.show()` de l'afficher. Les autres commandes permettent d'ajouter le titre, le nom des axes, la légende..."
      ]
    },
    {
      "cell_type": "markdown",
      "metadata": {
        "id": "mKXhEX7uNKNJ"
      },
      "source": [
        "On peut tracer plusieurs éléments sur le même graphe:"
      ]
    },
    {
      "cell_type": "code",
      "execution_count": null,
      "metadata": {
        "colab": {
          "base_uri": "https://localhost:8080/",
          "height": 472
        },
        "id": "57rD3k3xM3DV",
        "outputId": "7c23e0f9-89e1-4f4d-f489-8e48f24f825b"
      },
      "outputs": [
        {
          "data": {
            "image/png": "[encoded data removed]",
            "text/plain": [
              "<Figure size 640x480 with 1 Axes>"
            ]
          },
          "metadata": {},
          "output_type": "display_data"
        }
      ],
      "source": [
        "x = np.linspace(0, 20, 100)\n",
        "\n",
        "plt.figure()\n",
        "plt.plot(x, np.sin(x), label=\"sin(x)\")\n",
        "plt.plot(x, np.cos(x), label=\"cos(x)\")\n",
        "plt.xlabel(\"x\")\n",
        "plt.title(\"Exemple\")\n",
        "plt.legend(loc=\"upper left\")\n",
        "plt.show()"
      ]
    },
    {
      "cell_type": "markdown",
      "metadata": {
        "id": "TIMqxkbPNTIe"
      },
      "source": [
        "Nous avons vu ici des plots de fonctions continus. Il est également possible de tracer des nuages de points grâce à la fonction `plt.scatter()`.\n",
        "\n",
        "Sur l'exemple ci-dessous, on trace une concentration en fonction du temps:"
      ]
    },
    {
      "cell_type": "code",
      "execution_count": null,
      "metadata": {
        "colab": {
          "base_uri": "https://localhost:8080/",
          "height": 472
        },
        "id": "gVAxbYgRNxGq",
        "outputId": "c5b048f8-2f3d-4c6b-8c95-96b9e83ff55e"
      },
      "outputs": [
        {
          "data": {
            "image/png": "[encoded data removed]",
            "text/plain": [
              "<Figure size 640x480 with 1 Axes>"
            ]
          },
          "metadata": {},
          "output_type": "display_data"
        }
      ],
      "source": [
        "concentration = [0.12, 0.25, 0.31, 0.45, 0.52, 0.67, 0.71, 0.83, 0.95, 1.05]\n",
        "temps = [8, 17, 29, 37, 48, 61, 72, 85, 93, 102]\n",
        "\n",
        "plt.figure()\n",
        "plt.scatter(temps, concentration)\n",
        "plt.xlabel(\"Temps (s)\")\n",
        "plt.ylabel(\"Concentration (mg/L)\")\n",
        "plt.title(\"Concentration en fonction du temps\")\n",
        "plt.show()"
      ]
    },
    {
      "cell_type": "markdown",
      "metadata": {
        "id": "ltvlLwXF-eAH"
      },
      "source": [
        "Voici un exemple plus complexe, où on représente des données issues du dataset  [iris](https://scikit-learn.org/stable/modules/generated/sklearn.datasets.load_iris.html), en traçant deux paralètres. La couleur indique l'appartenance à une classe."
      ]
    },
    {
      "cell_type": "code",
      "execution_count": null,
      "metadata": {
        "colab": {
          "base_uri": "https://localhost:8080/",
          "height": 433
        },
        "id": "sEzcJAmy-hbK",
        "outputId": "7e252c6b-6ec3-45b1-fa0e-9a37de5a1d15"
      },
      "outputs": [
        {
          "data": {
            "image/png": "[encoded data removed]",
            "text/plain": [
              "<Figure size 640x480 with 1 Axes>"
            ]
          },
          "metadata": {},
          "output_type": "display_data"
        }
      ],
      "source": [
        "from sklearn.datasets import load_iris\n",
        "X, y = load_iris(return_X_y=True)\n",
        "\n",
        "X_class0 = X[y == 0]\n",
        "X_class1 = X[y == 1]\n",
        "X_class2 = X[y == 2]\n",
        "\n",
        "plt.figure()\n",
        "plt.scatter(X_class0[:, 0], X_class0[:, 1], label=\"Class 0\", color=\"C0\")\n",
        "plt.scatter(X_class1[:, 0], X_class1[:, 1], label=\"Class 1\", color=\"C1\")\n",
        "plt.scatter(X_class2[:, 0], X_class2[:, 1], label=\"Class 2\", color=\"C2\")\n",
        "plt.show()"
      ]
    },
    {
      "cell_type": "markdown",
      "metadata": {
        "id": "vSlK3gC3PA-1"
      },
      "source": [
        "On peut également tracer des diagrammes batons assez rapidement avec la fonction `bar()`, ou des histogrammes avec `hist()`."
      ]
    },
    {
      "cell_type": "code",
      "execution_count": null,
      "metadata": {
        "colab": {
          "base_uri": "https://localhost:8080/",
          "height": 430
        },
        "id": "li-zSbMsPVA6",
        "outputId": "9a0aa239-ac1b-48d9-e96b-d843ae109249"
      },
      "outputs": [
        {
          "data": {
            "image/png": "[encoded data removed]",
            "text/plain": [
              "<Figure size 640x480 with 1 Axes>"
            ]
          },
          "metadata": {},
          "output_type": "display_data"
        }
      ],
      "source": [
        "x = ['Lapins', 'Loups', 'Oiseaux']\n",
        "nombre = [10, 20, 35]\n",
        "\n",
        "plt.figure()\n",
        "plt.bar(x, nombre)\n",
        "plt.show()"
      ]
    },
    {
      "cell_type": "code",
      "execution_count": null,
      "metadata": {
        "colab": {
          "base_uri": "https://localhost:8080/",
          "height": 472
        },
        "id": "hp_7QFm-P0x1",
        "outputId": "4f80fb1d-60fd-44d7-9636-2d0e7dc055b5"
      },
      "outputs": [
        {
          "data": {
            "image/png": "[encoded data removed]",
            "text/plain": [
              "<Figure size 640x480 with 1 Axes>"
            ]
          },
          "metadata": {},
          "output_type": "display_data"
        }
      ],
      "source": [
        "import random as rd\n",
        "tailles = [rd.randint(100, 200) for i in range(150)]\n",
        "\n",
        "plt.figure()\n",
        "plt.hist(tailles, bins=20)\n",
        "plt.xlabel(\"Taille (cm)\")\n",
        "plt.ylabel(\"Fréquence\")\n",
        "plt.title(\"Distribution des tailles\")\n",
        "plt.show()"
      ]
    },
    {
      "cell_type": "markdown",
      "metadata": {
        "id": "3mdiF8wQTWhH"
      },
      "source": [
        "Quelques *tips* pour la personalisation des graphes:\n",
        "\n",
        "*  Choix du type de point: `marker=` `.` petit point, `o` gros point, `+` croix, `-` points reliés par segments\n",
        "*  Couleur: `color=` `b`, `g`, `r`, `y` pour bleu, vert, rouge, jaune..."
      ]
    },
    {
      "cell_type": "markdown",
      "metadata": {
        "id": "siMBBCUJLN-h"
      },
      "source": [
        "Il existe en fait 2 méthodes pour créer des graphes:\n",
        "*  celle que nous venons de voir qui utilise `plt`, qui permet de créer des graphiques rapidement avec des commandes simples. Elle a l'avantage d'être facile à utiliser et plus rapide à écrire, mais l'interface est moins flexible pour des graphiques complexes.\n",
        "*  Approche avec `fig` et `ax`: dans cette approche, vous créez explicitement une figure (`fig`) et un ou plusieurs axes (`ax`). Cela permet un contrôle plus fin sur le style et la disposition des graphiques. On peut notamment manipuler des `subplot` pour créer et à manipuler plusieurs graphiques dans une seule figure.\n",
        "\n",
        "Les deux méthodes fonctionnent très bien. Privilégiez la seconde si vous souhaitez personaliser vos graphes de manière fine."
      ]
    },
    {
      "cell_type": "code",
      "execution_count": null,
      "metadata": {
        "colab": {
          "base_uri": "https://localhost:8080/",
          "height": 508
        },
        "id": "-qOgQdCpMT8H",
        "outputId": "f8ea40a3-ee4c-4c12-fba0-cf63d214e6d6"
      },
      "outputs": [
        {
          "data": {
            "image/png": "[encoded data removed]",
            "text/plain": [
              "<Figure size 640x480 with 2 Axes>"
            ]
          },
          "metadata": {},
          "output_type": "display_data"
        }
      ],
      "source": [
        "# Fixing random state for reproducibility\n",
        "np.random.seed(19680801)\n",
        "\n",
        "dt = 0.01\n",
        "t = np.arange(0, 30, dt)\n",
        "nse1 = np.random.randn(len(t))                 # white noise 1\n",
        "nse2 = np.random.randn(len(t))                 # white noise 2\n",
        "\n",
        "# Two signals with a coherent part at 10 Hz and a random part\n",
        "s1 = np.sin(2 * np.pi * 10 * t) + nse1\n",
        "s2 = np.sin(2 * np.pi * 10 * t) + nse2\n",
        "\n",
        "fig, axs = plt.subplots(2, 1, layout='constrained')\n",
        "axs[0].plot(t, s1, t, s2)\n",
        "axs[0].set_xlim(0, 2)\n",
        "axs[0].set_xlabel('Time (s)')\n",
        "axs[0].set_ylabel('s1 and s2')\n",
        "axs[0].grid(True)\n",
        "\n",
        "cxy, f = axs[1].cohere(s1, s2, 256, 1. / dt)\n",
        "axs[1].set_ylabel('Coherence')\n",
        "\n",
        "plt.show()"
      ]
    },
    {
      "cell_type": "markdown",
      "metadata": {
        "id": "uVWuIUs2AQ5a"
      },
      "source": [
        "# **Exercices**\n",
        "\n"
      ]
    },
    {
      "cell_type": "markdown",
      "metadata": {
        "id": "1X6-g6zgCwJd"
      },
      "source": [
        "### **Exercice 1**\n",
        "\n",
        "Trace sur un graphe une fonction $f(x) = 2x^2 + 3x + 4$ pour $x$ allant de -10 à 10."
      ]
    },
    {
      "cell_type": "code",
      "execution_count": null,
      "metadata": {
        "colab": {
          "base_uri": "https://localhost:8080/",
          "height": 448
        },
        "id": "Ob6HZUX0DJ8y",
        "outputId": "67cb4a8f-292a-488d-ab39-2d402b9c5e08"
      },
      "outputs": [
        {
          "data": {
            "text/plain": [
              "[<matplotlib.lines.Line2D at 0x78d771376b60>]"
            ]
          },
          "execution_count": 26,
          "metadata": {},
          "output_type": "execute_result"
        },
        {
          "data": {
            "image/png": "[encoded data removed]",
            "text/plain": [
              "<Figure size 640x480 with 1 Axes>"
            ]
          },
          "metadata": {},
          "output_type": "display_data"
        }
      ],
      "source": [
        "x = np.linspace(-10, 10, 100)\n",
        "y = 2*x**2 + 3*x + 4"
      ]
    },
    {
      "cell_type": "markdown",
      "metadata": {
        "id": "j7blDTTAONNV"
      },
      "source": [
        "### **Exercice 2** Mon Coeur\n",
        "\n",
        "Nous allons créer un graphique en forme de coeur:\n",
        "1.  Définissez les équations paramétriques :\n",
        "$$x = 16 sin^3(t)$$\n",
        "$$y=13cos(t)−5cos(2t)−2cos(3t)−cos(4t)$$\n",
        "2.  Tracez le graphique\n",
        "3.  Personalisez le graphique: un coeur rouge par exemple?"
      ]
    },
    {
      "cell_type": "code",
      "execution_count": null,
      "metadata": {
        "colab": {
          "base_uri": "https://localhost:8080/",
          "height": 545
        },
        "id": "2R6neIbgPBAC",
        "outputId": "8f29bd1b-c4c2-45b4-ad92-0b76d97d930e"
      },
      "outputs": [
        {
          "data": {
            "image/png": "[encoded data removed]",
            "text/plain": [
              "<Figure size 800x600 with 1 Axes>"
            ]
          },
          "metadata": {},
          "output_type": "display_data"
        }
      ],
      "source": [
        "t = np.linspace(0, 2 * np.pi, 1000)\n",
        "x = 16 * np.sin(t)**3\n",
        "y = 13 * np.cos(t) - 5 * np.cos(2 * t) - 2 * np.cos(3 * t) - np.cos(4 * t)\n",
        "\n",
        "# Tracer le cœur\n",
        "plt.figure(figsize=(8, 6))\n",
        "plt.plot(x, y, color='red')\n",
        "plt.title('Graphique en forme de cœur')\n",
        "plt.axis('equal')  # Pour que les axes soient à la même échelle\n",
        "plt.show()"
      ]
    },
    {
      "cell_type": "markdown",
      "source": [
        "### **Exercice 3**  Marche aléatoire\n",
        "\n",
        "1.  Demandez à l’utilisateur de saisir un entier n.\n",
        "2.  Créez une liste X de taille nn contenant les entiers de 0 à n−1.\n",
        "3.  Créez une liste Y de taille nn dont chaque élément est choisi aléatoirement parmi {−1,1}.\n",
        "4.  Créez une liste Z de taille nn telle que Z[i] représente la somme cumulative des éléments de Y de l'indice 0 à i.\n",
        "5.  Tracez la liste Z sur un graphique.\n",
        "6.  Répétez l'expérience pour des valeurs de n de plus en plus grandes afin d'observer l'évolution de la courbe."
      ],
      "metadata": {
        "id": "v5SG3obs3jLC"
      }
    },
    {
      "cell_type": "code",
      "source": [
        "import random as rd\n",
        "\n",
        "# 1. Nombre de pas\n",
        "n = 100\n",
        "\n",
        "X = list(range(n))\n",
        "Y = [rd.choice([-1, 1]) for _ in range(n)]\n",
        "Z = [sum(Y[:i+1]) for i in range(n)]\n",
        "\n",
        "plt.figure(figsize=(10, 6))\n",
        "plt.plot(Z)\n",
        "plt.title(\"Marche aléatoire 1D\")\n",
        "plt.xlabel(\"Pas\")\n",
        "plt.ylabel(\"Position\")\n",
        "plt.grid(True)\n",
        "plt.show()\n"
      ],
      "metadata": {
        "colab": {
          "base_uri": "https://localhost:8080/",
          "height": 564
        },
        "id": "foC2eTwq4NvE",
        "outputId": "8201cb76-2c65-4240-e48a-d426773e7f7d"
      },
      "execution_count": null,
      "outputs": [
        {
          "output_type": "display_data",
          "data": {
            "text/plain": [
              "<Figure size 1000x600 with 1 Axes>"
            ],
            "image/png": "[encoded data removed]"
          },
          "metadata": {}
        }
      ]
    },
    {
      "cell_type": "markdown",
      "metadata": {
        "id": "a4i9p14PQulL"
      },
      "source": [
        "# Module Pandas"
      ]
    },
    {
      "cell_type": "markdown",
      "metadata": {
        "id": "Q8YPRSYqQzyh"
      },
      "source": [
        "Le module Pandas est extrêmement puissant pour **manipuler des jeux de données**. Il propose une structure de données appelée *DataFrame*, qui représente des tableaux à deux dimensions. Imaginez un grand tableau Excel avec des noms de colonnes et de lignes. Grâce à cette structure, vous pouvez facilement manipuler vos données : tracer une colonne en fonction d'une autre, modifier les valeurs d'une colonne, extraire des lignes selon des critères sur une ou plusieurs colonnes, etc.\n",
        "\n",
        "Nous n'aurons pas le temps d'explorer en détail toutes les fonctionnalités de Pandas ici, mais nous allons vous montrer quelques exemples pour vous permettre d'entrevoir son potentiel et imaginer comment il peut être utilisé dans vos projets."
      ]
    },
    {
      "cell_type": "markdown",
      "metadata": {
        "id": "gU3DR3JhQHHK"
      },
      "source": [
        "On l'importe en général sous l'alias `pd` :"
      ]
    },
    {
      "cell_type": "code",
      "execution_count": null,
      "metadata": {
        "colab": {
          "base_uri": "https://localhost:8080/"
        },
        "id": "C5uRU5guQzGn",
        "outputId": "d5084eec-344b-4ee8-9643-153d921f45bb"
      },
      "outputs": [
        {
          "name": "stdout",
          "output_type": "stream",
          "text": [
            "       Nom  Âge      Ville\n",
            "0    Alice   25      Paris\n",
            "1      Bob   30       Lyon\n",
            "2  Charlie   35  Marseille\n"
          ]
        }
      ],
      "source": [
        "import pandas as pd\n",
        "\n",
        "# Création à partir d'un dictionnare\n",
        "data = {\n",
        "    'Nom': ['Alice', 'Bob', 'Charlie'],\n",
        "    'Âge': [25, 30, 35],\n",
        "    'Ville': ['Paris', 'Lyon', 'Marseille']\n",
        "}\n",
        "df = pd.DataFrame(data)\n",
        "\n",
        "# Affichage du DataFrame\n",
        "print(df)"
      ]
    },
    {
      "cell_type": "code",
      "execution_count": null,
      "metadata": {
        "colab": {
          "base_uri": "https://localhost:8080/",
          "height": 178
        },
        "id": "esztws20QjFG",
        "outputId": "3ab2e989-11aa-4a7e-f2c9-09260ae50589"
      },
      "outputs": [
        {
          "data": {
            "text/html": [
              "<div>\n",
              "<style scoped>\n",
              "    .dataframe tbody tr th:only-of-type {\n",
              "        vertical-align: middle;\n",
              "    }\n",
              "\n",
              "    .dataframe tbody tr th {\n",
              "        vertical-align: top;\n",
              "    }\n",
              "\n",
              "    .dataframe thead th {\n",
              "        text-align: right;\n",
              "    }\n",
              "</style>\n",
              "<table border=\"1\" class=\"dataframe\">\n",
              "  <thead>\n",
              "    <tr style=\"text-align: right;\">\n",
              "      <th></th>\n",
              "      <th>Nom</th>\n",
              "    </tr>\n",
              "  </thead>\n",
              "  <tbody>\n",
              "    <tr>\n",
              "      <th>0</th>\n",
              "      <td>Alice</td>\n",
              "    </tr>\n",
              "    <tr>\n",
              "      <th>1</th>\n",
              "      <td>Bob</td>\n",
              "    </tr>\n",
              "    <tr>\n",
              "      <th>2</th>\n",
              "      <td>Charlie</td>\n",
              "    </tr>\n",
              "  </tbody>\n",
              "</table>\n",
              "</div><br><label><b>dtype:</b> object</label>"
            ],
            "text/plain": [
              "0      Alice\n",
              "1        Bob\n",
              "2    Charlie\n",
              "Name: Nom, dtype: object"
            ]
          },
          "execution_count": 34,
          "metadata": {},
          "output_type": "execute_result"
        }
      ],
      "source": [
        "# Accès à une colonne par son nom\n",
        "df['Nom']"
      ]
    },
    {
      "cell_type": "markdown",
      "metadata": {
        "id": "pPe7jwE0Qu0b"
      },
      "source": [
        "On peut importer des fichier .csv avec la commande  `pd.read_csv('nom_du_fichier.csv')`"
      ]
    },
    {
      "cell_type": "markdown",
      "metadata": {
        "id": "ApncYgRFQ5E_"
      },
      "source": [
        "On va utiliser des bases de données déjà présentes dans Python pour visualiser un peu ce qu'on peut faire avec ces Dataframes."
      ]
    },
    {
      "cell_type": "code",
      "execution_count": null,
      "metadata": {
        "colab": {
          "base_uri": "https://localhost:8080/"
        },
        "id": "vYqC11opRG6Y",
        "outputId": "a5b4c5bd-39d1-48fe-aba2-6d38e09dca03"
      },
      "outputs": [
        {
          "output_type": "stream",
          "name": "stdout",
          "text": [
            "   year month  passengers\n",
            "0  1949   Jan         112\n",
            "1  1949   Feb         118\n",
            "2  1949   Mar         132\n",
            "3  1949   Apr         129\n",
            "4  1949   May         121\n"
          ]
        }
      ],
      "source": [
        "import seaborn as sns\n",
        "df = sns.load_dataset('flights')\n",
        "print(df.head())"
      ]
    },
    {
      "cell_type": "code",
      "execution_count": null,
      "metadata": {
        "colab": {
          "base_uri": "https://localhost:8080/",
          "height": 494
        },
        "id": "fCQHA4ccRqZy",
        "outputId": "d259954e-99ae-4e87-d050-052d020587d8"
      },
      "outputs": [
        {
          "data": {
            "image/png": "[encoded data removed]",
            "text/plain": [
              "<Figure size 640x480 with 1 Axes>"
            ]
          },
          "metadata": {},
          "output_type": "display_data"
        }
      ],
      "source": [
        "passengers_per_year = df.groupby('year')['passengers'].sum()\n",
        "\n",
        "# Tracer un graphique en barres pour montrer le nombre total de passagers par année\n",
        "passengers_per_year.plot(kind='bar', color='skyblue')\n",
        "plt.title('Nombre total de passagers par année')\n",
        "plt.xlabel('Année')\n",
        "plt.ylabel('Nombre de passagers')\n",
        "plt.show()"
      ]
    },
    {
      "cell_type": "code",
      "execution_count": null,
      "metadata": {
        "colab": {
          "base_uri": "https://localhost:8080/"
        },
        "id": "j2KXIil_R-1g",
        "outputId": "c1ae12fa-6188-4f8c-9fb2-3ac6fd1c2faf"
      },
      "outputs": [
        {
          "output_type": "stream",
          "name": "stdout",
          "text": [
            "  species     island  bill_length_mm  bill_depth_mm  flipper_length_mm  \\\n",
            "0  Adelie  Torgersen            39.1           18.7              181.0   \n",
            "1  Adelie  Torgersen            39.5           17.4              186.0   \n",
            "2  Adelie  Torgersen            40.3           18.0              195.0   \n",
            "3  Adelie  Torgersen             NaN            NaN                NaN   \n",
            "4  Adelie  Torgersen            36.7           19.3              193.0   \n",
            "\n",
            "   body_mass_g     sex  \n",
            "0       3750.0    Male  \n",
            "1       3800.0  Female  \n",
            "2       3250.0  Female  \n",
            "3          NaN     NaN  \n",
            "4       3450.0  Female  \n"
          ]
        }
      ],
      "source": [
        "# Charger les données 'penguins'\n",
        "df = sns.load_dataset('penguins')\n",
        "\n",
        "# Afficher les premières lignes du DataFrame\n",
        "print(df.head())"
      ]
    },
    {
      "cell_type": "code",
      "execution_count": null,
      "metadata": {
        "colab": {
          "base_uri": "https://localhost:8080/",
          "height": 472
        },
        "id": "kw2eGvnZSRUB",
        "outputId": "693ddb70-8914-458a-e589-23cf8cca7384"
      },
      "outputs": [
        {
          "data": {
            "image/png": "[encoded data removed]",
            "text/plain": [
              "<Figure size 640x480 with 1 Axes>"
            ]
          },
          "metadata": {},
          "output_type": "display_data"
        }
      ],
      "source": [
        "# Tracer un nuage de points avec la longueur des nageoires vs le poids, coloré par espèce\n",
        "sns.scatterplot(x='flipper_length_mm', y='body_mass_g', hue='species', data=df)\n",
        "plt.title('Relation entre la longueur des nageoires et le poids des manchots')\n",
        "plt.xlabel('Longueur des nageoires (mm)')\n",
        "plt.ylabel('Masse corporelle (g)')\n",
        "plt.grid(True)\n",
        "plt.show()"
      ]
    },
    {
      "cell_type": "markdown",
      "source": [
        "# **Exercices**"
      ],
      "metadata": {
        "id": "-WkTnnNy6oGZ"
      }
    },
    {
      "cell_type": "markdown",
      "source": [
        "### **Exercice 1**\n",
        "\n",
        "1.  Importer les données `penguins` avec `seaborn`: `df = sns.load_dataset('penguins')`\n",
        "2.  Affichez un histogramme pour la colonne `body_mass_g` grâce à`plt.hist(data)\n",
        "3. Créez un diagramme de dispersion (scatterplot) pour visualiser la relation entre la longueur du bec (`bill_length_mm`) et la longueur de la nageoire (`flipper_length_mm`) avec `plt.scatter(X, Y)`\n"
      ],
      "metadata": {
        "id": "0T8gd6OP6sSg"
      }
    },
    {
      "cell_type": "code",
      "source": [
        "import seaborn as sns\n",
        "import matplotlib.pyplot as plt\n",
        "import pandas as pd\n",
        "\n",
        "\n",
        "# Charger les données 'penguins'\n",
        "df = sns.load_dataset('penguins')\n",
        "\n",
        "plt.hist(df['body_mass_g'])\n",
        "plt.show()\n",
        "\n",
        "plt.scatter(df['bill_length_mm'], df['flipper_length_mm'], alpha=0.7)\n",
        "plt.title('Relation entre la longueur du bec et la longueur de la nageoire')\n",
        "plt.xlabel('Longueur du bec (mm)')\n",
        "plt.ylabel('Longueur de la nageoire (mm)')\n",
        "plt.show()\n",
        "\n",
        "sns.scatterplot(\n",
        "    data=df,\n",
        "    x='bill_length_mm',\n",
        "    y='flipper_length_mm',\n",
        "    hue='species',\n",
        "    alpha=0.7\n",
        ")\n"
      ],
      "metadata": {
        "colab": {
          "base_uri": "https://localhost:8080/",
          "height": 1000
        },
        "id": "0S4RE_gn6xtg",
        "outputId": "fdb41523-0ea2-4fe0-dcde-936c04589e94"
      },
      "execution_count": null,
      "outputs": [
        {
          "output_type": "display_data",
          "data": {
            "text/plain": [
              "<Figure size 640x480 with 1 Axes>"
            ],
            "image/png": "[encoded data removed]"
          },
          "metadata": {}
        },
        {
          "output_type": "display_data",
          "data": {
            "text/plain": [
              "<Figure size 640x480 with 1 Axes>"
            ],
            "image/png": "[encoded data removed]"
          },
          "metadata": {}
        },
        {
          "output_type": "execute_result",
          "data": {
            "text/plain": [
              "<Axes: xlabel='bill_length_mm', ylabel='flipper_length_mm'>"
            ]
          },
          "metadata": {},
          "execution_count": 10
        },
        {
          "output_type": "display_data",
          "data": {
            "text/plain": [
              "<Figure size 640x480 with 1 Axes>"
            ],
            "image/png": "[encoded data removed]"
          },
          "metadata": {}
        }
      ]
    },
    {
      "cell_type": "markdown",
      "source": [
        "### **Exercice 2**\n",
        "\n",
        "1.  Importez le jeu de données `flights` de `seaborn` et affichez les premières lignes\n",
        "2.  Tracez un graphe montrant l'évolution du nombre de passager chaque mois\n",
        "3.  \n"
      ],
      "metadata": {
        "id": "hylWJppVC1PH"
      }
    },
    {
      "cell_type": "code",
      "source": [
        "df = sns.load_dataset('flights')\n",
        "print(df.head())\n",
        "\n",
        "plt.plot(df['passengers'])\n",
        "plt.show()"
      ],
      "metadata": {
        "colab": {
          "base_uri": "https://localhost:8080/",
          "height": 558
        },
        "id": "NaSTX0UIDGKA",
        "outputId": "4741e896-2112-4afc-9f81-6580e90567e4"
      },
      "execution_count": null,
      "outputs": [
        {
          "output_type": "stream",
          "name": "stdout",
          "text": [
            "   year month  passengers\n",
            "0  1949   Jan         112\n",
            "1  1949   Feb         118\n",
            "2  1949   Mar         132\n",
            "3  1949   Apr         129\n",
            "4  1949   May         121\n"
          ]
        },
        {
          "output_type": "display_data",
          "data": {
            "text/plain": [
              "<Figure size 640x480 with 1 Axes>"
            ],
            "image/png": "[encoded data removed]"
          },
          "metadata": {}
        }
      ]
    },
    {
      "cell_type": "code",
      "source": [],
      "metadata": {
        "id": "Gx3osZA7Eq51"
      },
      "execution_count": null,
      "outputs": []
    },
    {
      "cell_type": "markdown",
      "source": [
        "url_data = 'https://sdi.eea.europa.eu/data/141e8146-681c-4334-8387-0566d8181168?dir=undefined&openfile=7127734'\n",
        "\n",
        "data = pd.read_csv(url_data)\n",
        "print(data.head())"
      ],
      "metadata": {
        "id": "kpfhNiwEEqrD"
      }
    },
    {
      "cell_type": "markdown",
      "source": [
        "https://www.eea.europa.eu/en/datahub/featured-data/statistical-data/datahubitem-view/d22b842a-53f7-4c63-aa94-74d5fa1f4d40\n"
      ],
      "metadata": {
        "id": "xnRoShj9IfjM"
      }
    },
    {
      "cell_type": "code",
      "source": [
        "\n",
        "from google.colab import files\n",
        "uploaded = files.upload()\n",
        "\n"
      ],
      "metadata": {
        "colab": {
          "base_uri": "https://localhost:8080/",
          "height": 93
        },
        "id": "vA--9RgGIet0",
        "outputId": "b770efd5-dfa6-45db-a5ad-bf29c8ffd16c"
      },
      "execution_count": null,
      "outputs": [
        {
          "output_type": "display_data",
          "data": {
            "text/plain": [
              "<IPython.core.display.HTML object>"
            ],
            "text/html": [
              "\n",
              "     <input type=\"file\" id=\"files-198190b6-eb07-47bc-b463-ff8351a52d3a\" name=\"files[]\" multiple disabled\n",
              "        style=\"border:none\" />\n",
              "     <output id=\"result-198190b6-eb07-47bc-b463-ff8351a52d3a\">\n",
              "      Upload widget is only available when the cell has been executed in the\n",
              "      current browser session. Please rerun this cell to enable.\n",
              "      </output>\n",
              "      <script>// Copyright 2017 Google LLC\n",
              "//\n",
              "// Licensed under the Apache License, Version 2.0 (the \"License\");\n",
              "// you may not use this file except in compliance with the License.\n",
              "// You may obtain a copy of the License at\n",
              "//\n",
              "//      http://www.apache.org/licenses/LICENSE-2.0\n",
              "//\n",
              "// Unless required by applicable law or agreed to in writing, software\n",
              "// distributed under the License is distributed on an \"AS IS\" BASIS,\n",
              "// WITHOUT WARRANTIES OR CONDITIONS OF ANY KIND, either express or implied.\n",
              "// See the License for the specific language governing permissions and\n",
              "// limitations under the License.\n",
              "\n",
              "/**\n",
              " * @fileoverview Helpers for google.colab Python module.\n",
              " */\n",
              "(function(scope) {\n",
              "function span(text, styleAttributes = {}) {\n",
              "  const element = document.createElement('span');\n",
              "  element.textContent = text;\n",
              "  for (const key of Object.keys(styleAttributes)) {\n",
              "    element.style[key] = styleAttributes[key];\n",
              "  }\n",
              "  return element;\n",
              "}\n",
              "\n",
              "// Max number of bytes which will be uploaded at a time.\n",
              "const MAX_PAYLOAD_SIZE = 100 * 1024;\n",
              "\n",
              "function _uploadFiles(inputId, outputId) {\n",
              "  const steps = uploadFilesStep(inputId, outputId);\n",
              "  const outputElement = document.getElementById(outputId);\n",
              "  // Cache steps on the outputElement to make it available for the next call\n",
              "  // to uploadFilesContinue from Python.\n",
              "  outputElement.steps = steps;\n",
              "\n",
              "  return _uploadFilesContinue(outputId);\n",
              "}\n",
              "\n",
              "// This is roughly an async generator (not supported in the browser yet),\n",
              "// where there are multiple asynchronous steps and the Python side is going\n",
              "// to poll for completion of each step.\n",
              "// This uses a Promise to block the python side on completion of each step,\n",
              "// then passes the result of the previous step as the input to the next step.\n",
              "function _uploadFilesContinue(outputId) {\n",
              "  const outputElement = document.getElementById(outputId);\n",
              "  const steps = outputElement.steps;\n",
              "\n",
              "  const next = steps.next(outputElement.lastPromiseValue);\n",
              "  return Promise.resolve(next.value.promise).then((value) => {\n",
              "    // Cache the last promise value to make it available to the next\n",
              "    // step of the generator.\n",
              "    outputElement.lastPromiseValue = value;\n",
              "    return next.value.response;\n",
              "  });\n",
              "}\n",
              "\n",
              "/**\n",
              " * Generator function which is called between each async step of the upload\n",
              " * process.\n",
              " * @param {string} inputId Element ID of the input file picker element.\n",
              " * @param {string} outputId Element ID of the output display.\n",
              " * @return {!Iterable<!Object>} Iterable of next steps.\n",
              " */\n",
              "function* uploadFilesStep(inputId, outputId) {\n",
              "  const inputElement = document.getElementById(inputId);\n",
              "  inputElement.disabled = false;\n",
              "\n",
              "  const outputElement = document.getElementById(outputId);\n",
              "  outputElement.innerHTML = '';\n",
              "\n",
              "  const pickedPromise = new Promise((resolve) => {\n",
              "    inputElement.addEventListener('change', (e) => {\n",
              "      resolve(e.target.files);\n",
              "    });\n",
              "  });\n",
              "\n",
              "  const cancel = document.createElement('button');\n",
              "  inputElement.parentElement.appendChild(cancel);\n",
              "  cancel.textContent = 'Cancel upload';\n",
              "  const cancelPromise = new Promise((resolve) => {\n",
              "    cancel.onclick = () => {\n",
              "      resolve(null);\n",
              "    };\n",
              "  });\n",
              "\n",
              "  // Wait for the user to pick the files.\n",
              "  const files = yield {\n",
              "    promise: Promise.race([pickedPromise, cancelPromise]),\n",
              "    response: {\n",
              "      action: 'starting',\n",
              "    }\n",
              "  };\n",
              "\n",
              "  cancel.remove();\n",
              "\n",
              "  // Disable the input element since further picks are not allowed.\n",
              "  inputElement.disabled = true;\n",
              "\n",
              "  if (!files) {\n",
              "    return {\n",
              "      response: {\n",
              "        action: 'complete',\n",
              "      }\n",
              "    };\n",
              "  }\n",
              "\n",
              "  for (const file of files) {\n",
              "    const li = document.createElement('li');\n",
              "    li.append(span(file.name, {fontWeight: 'bold'}));\n",
              "    li.append(span(\n",
              "        `(${file.type || 'n/a'}) - ${file.size} bytes, ` +\n",
              "        `last modified: ${\n",
              "            file.lastModifiedDate ? file.lastModifiedDate.toLocaleDateString() :\n",
              "                                    'n/a'} - `));\n",
              "    const percent = span('0% done');\n",
              "    li.appendChild(percent);\n",
              "\n",
              "    outputElement.appendChild(li);\n",
              "\n",
              "    const fileDataPromise = new Promise((resolve) => {\n",
              "      const reader = new FileReader();\n",
              "      reader.onload = (e) => {\n",
              "        resolve(e.target.result);\n",
              "      };\n",
              "      reader.readAsArrayBuffer(file);\n",
              "    });\n",
              "    // Wait for the data to be ready.\n",
              "    let fileData = yield {\n",
              "      promise: fileDataPromise,\n",
              "      response: {\n",
              "        action: 'continue',\n",
              "      }\n",
              "    };\n",
              "\n",
              "    // Use a chunked sending to avoid message size limits. See b/62115660.\n",
              "    let position = 0;\n",
              "    do {\n",
              "      const length = Math.min(fileData.byteLength - position, MAX_PAYLOAD_SIZE);\n",
              "      const chunk = new Uint8Array(fileData, position, length);\n",
              "      position += length;\n",
              "\n",
              "      const base64 = btoa(String.fromCharCode.apply(null, chunk));\n",
              "      yield {\n",
              "        response: {\n",
              "          action: 'append',\n",
              "          file: file.name,\n",
              "          data: base64,\n",
              "        },\n",
              "      };\n",
              "\n",
              "      let percentDone = fileData.byteLength === 0 ?\n",
              "          100 :\n",
              "          Math.round((position / fileData.byteLength) * 100);\n",
              "      percent.textContent = `${percentDone}% done`;\n",
              "\n",
              "    } while (position < fileData.byteLength);\n",
              "  }\n",
              "\n",
              "  // All done.\n",
              "  yield {\n",
              "    response: {\n",
              "      action: 'complete',\n",
              "    }\n",
              "  };\n",
              "}\n",
              "\n",
              "scope.google = scope.google || {};\n",
              "scope.google.colab = scope.google.colab || {};\n",
              "scope.google.colab._files = {\n",
              "  _uploadFiles,\n",
              "  _uploadFilesContinue,\n",
              "};\n",
              "})(self);\n",
              "</script> "
            ]
          },
          "metadata": {}
        },
        {
          "output_type": "stream",
          "name": "stdout",
          "text": [
            "Saving eea_s_eu-sdg-06-50_p_2000-2021_v03_r00.csv to eea_s_eu-sdg-06-50_p_2000-2021_v03_r00.csv\n"
          ]
        }
      ]
    },
    {
      "cell_type": "code",
      "source": [
        "data = pd.read_csv(uploaded)"
      ],
      "metadata": {
        "colab": {
          "base_uri": "https://localhost:8080/",
          "height": 332
        },
        "id": "Cu0p6zvPPAcp",
        "outputId": "7a1cb991-bd65-41f7-c9a9-a4c650209531"
      },
      "execution_count": null,
      "outputs": [
        {
          "output_type": "error",
          "ename": "ValueError",
          "evalue": "Invalid file path or buffer object type: <class 'dict'>",
          "traceback": [
            "\u001b[0;31m---------------------------------------------------------------------------\u001b[0m",
            "\u001b[0;31mValueError\u001b[0m                                Traceback (most recent call last)",
            "\u001b[0;32m<ipython-input-29-da7fc4c8257f>\u001b[0m in \u001b[0;36m<cell line: 1>\u001b[0;34m()\u001b[0m\n\u001b[0;32m----> 1\u001b[0;31m \u001b[0mdata\u001b[0m \u001b[0;34m=\u001b[0m \u001b[0mpd\u001b[0m\u001b[0;34m.\u001b[0m\u001b[0mread_csv\u001b[0m\u001b[0;34m(\u001b[0m\u001b[0muploaded\u001b[0m\u001b[0;34m)\u001b[0m\u001b[0;34m\u001b[0m\u001b[0;34m\u001b[0m\u001b[0m\n\u001b[0m",
            "\u001b[0;32m/usr/local/lib/python3.10/dist-packages/pandas/io/parsers/readers.py\u001b[0m in \u001b[0;36mread_csv\u001b[0;34m(filepath_or_buffer, sep, delimiter, header, names, index_col, usecols, dtype, engine, converters, true_values, false_values, skipinitialspace, skiprows, skipfooter, nrows, na_values, keep_default_na, na_filter, verbose, skip_blank_lines, parse_dates, infer_datetime_format, keep_date_col, date_parser, date_format, dayfirst, cache_dates, iterator, chunksize, compression, thousands, decimal, lineterminator, quotechar, quoting, doublequote, escapechar, comment, encoding, encoding_errors, dialect, on_bad_lines, delim_whitespace, low_memory, memory_map, float_precision, storage_options, dtype_backend)\u001b[0m\n\u001b[1;32m   1024\u001b[0m     \u001b[0mkwds\u001b[0m\u001b[0;34m.\u001b[0m\u001b[0mupdate\u001b[0m\u001b[0;34m(\u001b[0m\u001b[0mkwds_defaults\u001b[0m\u001b[0;34m)\u001b[0m\u001b[0;34m\u001b[0m\u001b[0;34m\u001b[0m\u001b[0m\n\u001b[1;32m   1025\u001b[0m \u001b[0;34m\u001b[0m\u001b[0m\n\u001b[0;32m-> 1026\u001b[0;31m     \u001b[0;32mreturn\u001b[0m \u001b[0m_read\u001b[0m\u001b[0;34m(\u001b[0m\u001b[0mfilepath_or_buffer\u001b[0m\u001b[0;34m,\u001b[0m \u001b[0mkwds\u001b[0m\u001b[0;34m)\u001b[0m\u001b[0;34m\u001b[0m\u001b[0;34m\u001b[0m\u001b[0m\n\u001b[0m\u001b[1;32m   1027\u001b[0m \u001b[0;34m\u001b[0m\u001b[0m\n\u001b[1;32m   1028\u001b[0m \u001b[0;34m\u001b[0m\u001b[0m\n",
            "\u001b[0;32m/usr/local/lib/python3.10/dist-packages/pandas/io/parsers/readers.py\u001b[0m in \u001b[0;36m_read\u001b[0;34m(filepath_or_buffer, kwds)\u001b[0m\n\u001b[1;32m    618\u001b[0m \u001b[0;34m\u001b[0m\u001b[0m\n\u001b[1;32m    619\u001b[0m     \u001b[0;31m# Create the parser.\u001b[0m\u001b[0;34m\u001b[0m\u001b[0;34m\u001b[0m\u001b[0m\n\u001b[0;32m--> 620\u001b[0;31m     \u001b[0mparser\u001b[0m \u001b[0;34m=\u001b[0m \u001b[0mTextFileReader\u001b[0m\u001b[0;34m(\u001b[0m\u001b[0mfilepath_or_buffer\u001b[0m\u001b[0;34m,\u001b[0m \u001b[0;34m**\u001b[0m\u001b[0mkwds\u001b[0m\u001b[0;34m)\u001b[0m\u001b[0;34m\u001b[0m\u001b[0;34m\u001b[0m\u001b[0m\n\u001b[0m\u001b[1;32m    621\u001b[0m \u001b[0;34m\u001b[0m\u001b[0m\n\u001b[1;32m    622\u001b[0m     \u001b[0;32mif\u001b[0m \u001b[0mchunksize\u001b[0m \u001b[0;32mor\u001b[0m \u001b[0miterator\u001b[0m\u001b[0;34m:\u001b[0m\u001b[0;34m\u001b[0m\u001b[0;34m\u001b[0m\u001b[0m\n",
            "\u001b[0;32m/usr/local/lib/python3.10/dist-packages/pandas/io/parsers/readers.py\u001b[0m in \u001b[0;36m__init__\u001b[0;34m(self, f, engine, **kwds)\u001b[0m\n\u001b[1;32m   1618\u001b[0m \u001b[0;34m\u001b[0m\u001b[0m\n\u001b[1;32m   1619\u001b[0m         \u001b[0mself\u001b[0m\u001b[0;34m.\u001b[0m\u001b[0mhandles\u001b[0m\u001b[0;34m:\u001b[0m \u001b[0mIOHandles\u001b[0m \u001b[0;34m|\u001b[0m \u001b[0;32mNone\u001b[0m \u001b[0;34m=\u001b[0m \u001b[0;32mNone\u001b[0m\u001b[0;34m\u001b[0m\u001b[0;34m\u001b[0m\u001b[0m\n\u001b[0;32m-> 1620\u001b[0;31m         \u001b[0mself\u001b[0m\u001b[0;34m.\u001b[0m\u001b[0m_engine\u001b[0m \u001b[0;34m=\u001b[0m \u001b[0mself\u001b[0m\u001b[0;34m.\u001b[0m\u001b[0m_make_engine\u001b[0m\u001b[0;34m(\u001b[0m\u001b[0mf\u001b[0m\u001b[0;34m,\u001b[0m \u001b[0mself\u001b[0m\u001b[0;34m.\u001b[0m\u001b[0mengine\u001b[0m\u001b[0;34m)\u001b[0m\u001b[0;34m\u001b[0m\u001b[0;34m\u001b[0m\u001b[0m\n\u001b[0m\u001b[1;32m   1621\u001b[0m \u001b[0;34m\u001b[0m\u001b[0m\n\u001b[1;32m   1622\u001b[0m     \u001b[0;32mdef\u001b[0m \u001b[0mclose\u001b[0m\u001b[0;34m(\u001b[0m\u001b[0mself\u001b[0m\u001b[0;34m)\u001b[0m \u001b[0;34m->\u001b[0m \u001b[0;32mNone\u001b[0m\u001b[0;34m:\u001b[0m\u001b[0;34m\u001b[0m\u001b[0;34m\u001b[0m\u001b[0m\n",
            "\u001b[0;32m/usr/local/lib/python3.10/dist-packages/pandas/io/parsers/readers.py\u001b[0m in \u001b[0;36m_make_engine\u001b[0;34m(self, f, engine)\u001b[0m\n\u001b[1;32m   1878\u001b[0m                 \u001b[0;32mif\u001b[0m \u001b[0;34m\"b\"\u001b[0m \u001b[0;32mnot\u001b[0m \u001b[0;32min\u001b[0m \u001b[0mmode\u001b[0m\u001b[0;34m:\u001b[0m\u001b[0;34m\u001b[0m\u001b[0;34m\u001b[0m\u001b[0m\n\u001b[1;32m   1879\u001b[0m                     \u001b[0mmode\u001b[0m \u001b[0;34m+=\u001b[0m \u001b[0;34m\"b\"\u001b[0m\u001b[0;34m\u001b[0m\u001b[0;34m\u001b[0m\u001b[0m\n\u001b[0;32m-> 1880\u001b[0;31m             self.handles = get_handle(\n\u001b[0m\u001b[1;32m   1881\u001b[0m                 \u001b[0mf\u001b[0m\u001b[0;34m,\u001b[0m\u001b[0;34m\u001b[0m\u001b[0;34m\u001b[0m\u001b[0m\n\u001b[1;32m   1882\u001b[0m                 \u001b[0mmode\u001b[0m\u001b[0;34m,\u001b[0m\u001b[0;34m\u001b[0m\u001b[0;34m\u001b[0m\u001b[0m\n",
            "\u001b[0;32m/usr/local/lib/python3.10/dist-packages/pandas/io/common.py\u001b[0m in \u001b[0;36mget_handle\u001b[0;34m(path_or_buf, mode, encoding, compression, memory_map, is_text, errors, storage_options)\u001b[0m\n\u001b[1;32m    726\u001b[0m \u001b[0;34m\u001b[0m\u001b[0m\n\u001b[1;32m    727\u001b[0m     \u001b[0;31m# open URLs\u001b[0m\u001b[0;34m\u001b[0m\u001b[0;34m\u001b[0m\u001b[0m\n\u001b[0;32m--> 728\u001b[0;31m     ioargs = _get_filepath_or_buffer(\n\u001b[0m\u001b[1;32m    729\u001b[0m         \u001b[0mpath_or_buf\u001b[0m\u001b[0;34m,\u001b[0m\u001b[0;34m\u001b[0m\u001b[0;34m\u001b[0m\u001b[0m\n\u001b[1;32m    730\u001b[0m         \u001b[0mencoding\u001b[0m\u001b[0;34m=\u001b[0m\u001b[0mencoding\u001b[0m\u001b[0;34m,\u001b[0m\u001b[0;34m\u001b[0m\u001b[0;34m\u001b[0m\u001b[0m\n",
            "\u001b[0;32m/usr/local/lib/python3.10/dist-packages/pandas/io/common.py\u001b[0m in \u001b[0;36m_get_filepath_or_buffer\u001b[0;34m(filepath_or_buffer, encoding, compression, mode, storage_options)\u001b[0m\n\u001b[1;32m    470\u001b[0m     ):\n\u001b[1;32m    471\u001b[0m         \u001b[0mmsg\u001b[0m \u001b[0;34m=\u001b[0m \u001b[0;34mf\"Invalid file path or buffer object type: {type(filepath_or_buffer)}\"\u001b[0m\u001b[0;34m\u001b[0m\u001b[0;34m\u001b[0m\u001b[0m\n\u001b[0;32m--> 472\u001b[0;31m         \u001b[0;32mraise\u001b[0m \u001b[0mValueError\u001b[0m\u001b[0;34m(\u001b[0m\u001b[0mmsg\u001b[0m\u001b[0;34m)\u001b[0m\u001b[0;34m\u001b[0m\u001b[0;34m\u001b[0m\u001b[0m\n\u001b[0m\u001b[1;32m    473\u001b[0m \u001b[0;34m\u001b[0m\u001b[0m\n\u001b[1;32m    474\u001b[0m     return IOArgs(\n",
            "\u001b[0;31mValueError\u001b[0m: Invalid file path or buffer object type: <class 'dict'>"
          ]
        }
      ]
    },
    {
      "cell_type": "code",
      "source": [
        "url_data = 'https://datahub.io/core/global-temp/r/annual.csv'\n",
        "\n",
        "data = pd.read_csv(url_data)\n",
        "data"
      ],
      "metadata": {
        "colab": {
          "base_uri": "https://localhost:8080/",
          "height": 444
        },
        "id": "_3wkgKmwKQMZ",
        "outputId": "41455282-a834-4ed3-d5c9-fc106958e394"
      },
      "execution_count": null,
      "outputs": [
        {
          "output_type": "execute_result",
          "data": {
            "text/plain": [
              "      Source  Year    Mean\n",
              "0       gcag  1850 -0.4177\n",
              "1       gcag  1851 -0.2333\n",
              "2       gcag  1852 -0.2294\n",
              "3       gcag  1853 -0.2704\n",
              "4       gcag  1854 -0.2915\n",
              "..       ...   ...     ...\n",
              "314  GISTEMP  2022  0.8933\n",
              "315     gcag  2022  0.8013\n",
              "316  GISTEMP  2023  1.1692\n",
              "317     gcag  2023  1.1003\n",
              "318     gcag  2024  1.1755\n",
              "\n",
              "[319 rows x 3 columns]"
            ],
            "text/html": [
              "\n",
              "  <div id=\"df-22dc130a-42f2-4f4e-807f-2593d5f9384f\" class=\"colab-df-container\">\n",
              "    <div>\n",
              "<style scoped>\n",
              "    .dataframe tbody tr th:only-of-type {\n",
              "        vertical-align: middle;\n",
              "    }\n",
              "\n",
              "    .dataframe tbody tr th {\n",
              "        vertical-align: top;\n",
              "    }\n",
              "\n",
              "    .dataframe thead th {\n",
              "        text-align: right;\n",
              "    }\n",
              "</style>\n",
              "<table border=\"1\" class=\"dataframe\">\n",
              "  <thead>\n",
              "    <tr style=\"text-align: right;\">\n",
              "      <th></th>\n",
              "      <th>Source</th>\n",
              "      <th>Year</th>\n",
              "      <th>Mean</th>\n",
              "    </tr>\n",
              "  </thead>\n",
              "  <tbody>\n",
              "    <tr>\n",
              "      <th>0</th>\n",
              "      <td>gcag</td>\n",
              "      <td>1850</td>\n",
              "      <td>-0.4177</td>\n",
              "    </tr>\n",
              "    <tr>\n",
              "      <th>1</th>\n",
              "      <td>gcag</td>\n",
              "      <td>1851</td>\n",
              "      <td>-0.2333</td>\n",
              "    </tr>\n",
              "    <tr>\n",
              "      <th>2</th>\n",
              "      <td>gcag</td>\n",
              "      <td>1852</td>\n",
              "      <td>-0.2294</td>\n",
              "    </tr>\n",
              "    <tr>\n",
              "      <th>3</th>\n",
              "      <td>gcag</td>\n",
              "      <td>1853</td>\n",
              "      <td>-0.2704</td>\n",
              "    </tr>\n",
              "    <tr>\n",
              "      <th>4</th>\n",
              "      <td>gcag</td>\n",
              "      <td>1854</td>\n",
              "      <td>-0.2915</td>\n",
              "    </tr>\n",
              "    <tr>\n",
              "      <th>...</th>\n",
              "      <td>...</td>\n",
              "      <td>...</td>\n",
              "      <td>...</td>\n",
              "    </tr>\n",
              "    <tr>\n",
              "      <th>314</th>\n",
              "      <td>GISTEMP</td>\n",
              "      <td>2022</td>\n",
              "      <td>0.8933</td>\n",
              "    </tr>\n",
              "    <tr>\n",
              "      <th>315</th>\n",
              "      <td>gcag</td>\n",
              "      <td>2022</td>\n",
              "      <td>0.8013</td>\n",
              "    </tr>\n",
              "    <tr>\n",
              "      <th>316</th>\n",
              "      <td>GISTEMP</td>\n",
              "      <td>2023</td>\n",
              "      <td>1.1692</td>\n",
              "    </tr>\n",
              "    <tr>\n",
              "      <th>317</th>\n",
              "      <td>gcag</td>\n",
              "      <td>2023</td>\n",
              "      <td>1.1003</td>\n",
              "    </tr>\n",
              "    <tr>\n",
              "      <th>318</th>\n",
              "      <td>gcag</td>\n",
              "      <td>2024</td>\n",
              "      <td>1.1755</td>\n",
              "    </tr>\n",
              "  </tbody>\n",
              "</table>\n",
              "<p>319 rows × 3 columns</p>\n",
              "</div>\n",
              "    <div class=\"colab-df-buttons\">\n",
              "\n",
              "  <div class=\"colab-df-container\">\n",
              "    <button class=\"colab-df-convert\" onclick=\"convertToInteractive('df-22dc130a-42f2-4f4e-807f-2593d5f9384f')\"\n",
              "            title=\"Convert this dataframe to an interactive table.\"\n",
              "            style=\"display:none;\">\n",
              "\n",
              "  <svg xmlns=\"http://www.w3.org/2000/svg\" height=\"24px\" viewBox=\"0 -960 960 960\">\n",
              "    <path d=\"M120-120v-720h720v720H120Zm60-500h600v-160H180v160Zm220 220h160v-160H400v160Zm0 220h160v-160H400v160ZM180-400h160v-160H180v160Zm440 0h160v-160H620v160ZM180-180h160v-160H180v160Zm440 0h160v-160H620v160Z\"/>\n",
              "  </svg>\n",
              "    </button>\n",
              "\n",
              "  <style>\n",
              "    .colab-df-container {\n",
              "      display:flex;\n",
              "      gap: 12px;\n",
              "    }\n",
              "\n",
              "    .colab-df-convert {\n",
              "      background-color: #E8F0FE;\n",
              "      border: none;\n",
              "      border-radius: 50%;\n",
              "      cursor: pointer;\n",
              "      display: none;\n",
              "      fill: #1967D2;\n",
              "      height: 32px;\n",
              "      padding: 0 0 0 0;\n",
              "      width: 32px;\n",
              "    }\n",
              "\n",
              "    .colab-df-convert:hover {\n",
              "      background-color: #E2EBFA;\n",
              "      box-shadow: 0px 1px 2px rgba(60, 64, 67, 0.3), 0px 1px 3px 1px rgba(60, 64, 67, 0.15);\n",
              "      fill: #174EA6;\n",
              "    }\n",
              "\n",
              "    .colab-df-buttons div {\n",
              "      margin-bottom: 4px;\n",
              "    }\n",
              "\n",
              "    [theme=dark] .colab-df-convert {\n",
              "      background-color: #3B4455;\n",
              "      fill: #D2E3FC;\n",
              "    }\n",
              "\n",
              "    [theme=dark] .colab-df-convert:hover {\n",
              "      background-color: #434B5C;\n",
              "      box-shadow: 0px 1px 3px 1px rgba(0, 0, 0, 0.15);\n",
              "      filter: drop-shadow(0px 1px 2px rgba(0, 0, 0, 0.3));\n",
              "      fill: #FFFFFF;\n",
              "    }\n",
              "  </style>\n",
              "\n",
              "    <script>\n",
              "      const buttonEl =\n",
              "        document.querySelector('#df-22dc130a-42f2-4f4e-807f-2593d5f9384f button.colab-df-convert');\n",
              "      buttonEl.style.display =\n",
              "        google.colab.kernel.accessAllowed ? 'block' : 'none';\n",
              "\n",
              "      async function convertToInteractive(key) {\n",
              "        const element = document.querySelector('#df-22dc130a-42f2-4f4e-807f-2593d5f9384f');\n",
              "        const dataTable =\n",
              "          await google.colab.kernel.invokeFunction('convertToInteractive',\n",
              "                                                    [key], {});\n",
              "        if (!dataTable) return;\n",
              "\n",
              "        const docLinkHtml = 'Like what you see? Visit the ' +\n",
              "          '<a target=\"_blank\" href=https://colab.research.google.com/notebooks/data_table.ipynb>data table notebook</a>'\n",
              "          + ' to learn more about interactive tables.';\n",
              "        element.innerHTML = '';\n",
              "        dataTable['output_type'] = 'display_data';\n",
              "        await google.colab.output.renderOutput(dataTable, element);\n",
              "        const docLink = document.createElement('div');\n",
              "        docLink.innerHTML = docLinkHtml;\n",
              "        element.appendChild(docLink);\n",
              "      }\n",
              "    </script>\n",
              "  </div>\n",
              "\n",
              "\n",
              "<div id=\"df-428899b6-cf6a-4c5e-a742-c037db03171b\">\n",
              "  <button class=\"colab-df-quickchart\" onclick=\"quickchart('df-428899b6-cf6a-4c5e-a742-c037db03171b')\"\n",
              "            title=\"Suggest charts\"\n",
              "            style=\"display:none;\">\n",
              "\n",
              "<svg xmlns=\"http://www.w3.org/2000/svg\" height=\"24px\"viewBox=\"0 0 24 24\"\n",
              "     width=\"24px\">\n",
              "    <g>\n",
              "        <path d=\"M19 3H5c-1.1 0-2 .9-2 2v14c0 1.1.9 2 2 2h14c1.1 0 2-.9 2-2V5c0-1.1-.9-2-2-2zM9 17H7v-7h2v7zm4 0h-2V7h2v10zm4 0h-2v-4h2v4z\"/>\n",
              "    </g>\n",
              "</svg>\n",
              "  </button>\n",
              "\n",
              "<style>\n",
              "  .colab-df-quickchart {\n",
              "      --bg-color: #E8F0FE;\n",
              "      --fill-color: #1967D2;\n",
              "      --hover-bg-color: #E2EBFA;\n",
              "      --hover-fill-color: #174EA6;\n",
              "      --disabled-fill-color: #AAA;\n",
              "      --disabled-bg-color: #DDD;\n",
              "  }\n",
              "\n",
              "  [theme=dark] .colab-df-quickchart {\n",
              "      --bg-color: #3B4455;\n",
              "      --fill-color: #D2E3FC;\n",
              "      --hover-bg-color: #434B5C;\n",
              "      --hover-fill-color: #FFFFFF;\n",
              "      --disabled-bg-color: #3B4455;\n",
              "      --disabled-fill-color: #666;\n",
              "  }\n",
              "\n",
              "  .colab-df-quickchart {\n",
              "    background-color: var(--bg-color);\n",
              "    border: none;\n",
              "    border-radius: 50%;\n",
              "    cursor: pointer;\n",
              "    display: none;\n",
              "    fill: var(--fill-color);\n",
              "    height: 32px;\n",
              "    padding: 0;\n",
              "    width: 32px;\n",
              "  }\n",
              "\n",
              "  .colab-df-quickchart:hover {\n",
              "    background-color: var(--hover-bg-color);\n",
              "    box-shadow: 0 1px 2px rgba(60, 64, 67, 0.3), 0 1px 3px 1px rgba(60, 64, 67, 0.15);\n",
              "    fill: var(--button-hover-fill-color);\n",
              "  }\n",
              "\n",
              "  .colab-df-quickchart-complete:disabled,\n",
              "  .colab-df-quickchart-complete:disabled:hover {\n",
              "    background-color: var(--disabled-bg-color);\n",
              "    fill: var(--disabled-fill-color);\n",
              "    box-shadow: none;\n",
              "  }\n",
              "\n",
              "  .colab-df-spinner {\n",
              "    border: 2px solid var(--fill-color);\n",
              "    border-color: transparent;\n",
              "    border-bottom-color: var(--fill-color);\n",
              "    animation:\n",
              "      spin 1s steps(1) infinite;\n",
              "  }\n",
              "\n",
              "  @keyframes spin {\n",
              "    0% {\n",
              "      border-color: transparent;\n",
              "      border-bottom-color: var(--fill-color);\n",
              "      border-left-color: var(--fill-color);\n",
              "    }\n",
              "    20% {\n",
              "      border-color: transparent;\n",
              "      border-left-color: var(--fill-color);\n",
              "      border-top-color: var(--fill-color);\n",
              "    }\n",
              "    30% {\n",
              "      border-color: transparent;\n",
              "      border-left-color: var(--fill-color);\n",
              "      border-top-color: var(--fill-color);\n",
              "      border-right-color: var(--fill-color);\n",
              "    }\n",
              "    40% {\n",
              "      border-color: transparent;\n",
              "      border-right-color: var(--fill-color);\n",
              "      border-top-color: var(--fill-color);\n",
              "    }\n",
              "    60% {\n",
              "      border-color: transparent;\n",
              "      border-right-color: var(--fill-color);\n",
              "    }\n",
              "    80% {\n",
              "      border-color: transparent;\n",
              "      border-right-color: var(--fill-color);\n",
              "      border-bottom-color: var(--fill-color);\n",
              "    }\n",
              "    90% {\n",
              "      border-color: transparent;\n",
              "      border-bottom-color: var(--fill-color);\n",
              "    }\n",
              "  }\n",
              "</style>\n",
              "\n",
              "  <script>\n",
              "    async function quickchart(key) {\n",
              "      const quickchartButtonEl =\n",
              "        document.querySelector('#' + key + ' button');\n",
              "      quickchartButtonEl.disabled = true;  // To prevent multiple clicks.\n",
              "      quickchartButtonEl.classList.add('colab-df-spinner');\n",
              "      try {\n",
              "        const charts = await google.colab.kernel.invokeFunction(\n",
              "            'suggestCharts', [key], {});\n",
              "      } catch (error) {\n",
              "        console.error('Error during call to suggestCharts:', error);\n",
              "      }\n",
              "      quickchartButtonEl.classList.remove('colab-df-spinner');\n",
              "      quickchartButtonEl.classList.add('colab-df-quickchart-complete');\n",
              "    }\n",
              "    (() => {\n",
              "      let quickchartButtonEl =\n",
              "        document.querySelector('#df-428899b6-cf6a-4c5e-a742-c037db03171b button');\n",
              "      quickchartButtonEl.style.display =\n",
              "        google.colab.kernel.accessAllowed ? 'block' : 'none';\n",
              "    })();\n",
              "  </script>\n",
              "</div>\n",
              "\n",
              "  <div id=\"id_ba1ffa81-723c-42c0-84a7-26513ec8f08b\">\n",
              "    <style>\n",
              "      .colab-df-generate {\n",
              "        background-color: #E8F0FE;\n",
              "        border: none;\n",
              "        border-radius: 50%;\n",
              "        cursor: pointer;\n",
              "        display: none;\n",
              "        fill: #1967D2;\n",
              "        height: 32px;\n",
              "        padding: 0 0 0 0;\n",
              "        width: 32px;\n",
              "      }\n",
              "\n",
              "      .colab-df-generate:hover {\n",
              "        background-color: #E2EBFA;\n",
              "        box-shadow: 0px 1px 2px rgba(60, 64, 67, 0.3), 0px 1px 3px 1px rgba(60, 64, 67, 0.15);\n",
              "        fill: #174EA6;\n",
              "      }\n",
              "\n",
              "      [theme=dark] .colab-df-generate {\n",
              "        background-color: #3B4455;\n",
              "        fill: #D2E3FC;\n",
              "      }\n",
              "\n",
              "      [theme=dark] .colab-df-generate:hover {\n",
              "        background-color: #434B5C;\n",
              "        box-shadow: 0px 1px 3px 1px rgba(0, 0, 0, 0.15);\n",
              "        filter: drop-shadow(0px 1px 2px rgba(0, 0, 0, 0.3));\n",
              "        fill: #FFFFFF;\n",
              "      }\n",
              "    </style>\n",
              "    <button class=\"colab-df-generate\" onclick=\"generateWithVariable('data')\"\n",
              "            title=\"Generate code using this dataframe.\"\n",
              "            style=\"display:none;\">\n",
              "\n",
              "  <svg xmlns=\"http://www.w3.org/2000/svg\" height=\"24px\"viewBox=\"0 0 24 24\"\n",
              "       width=\"24px\">\n",
              "    <path d=\"M7,19H8.4L18.45,9,17,7.55,7,17.6ZM5,21V16.75L18.45,3.32a2,2,0,0,1,2.83,0l1.4,1.43a1.91,1.91,0,0,1,.58,1.4,1.91,1.91,0,0,1-.58,1.4L9.25,21ZM18.45,9,17,7.55Zm-12,3A5.31,5.31,0,0,0,4.9,8.1,5.31,5.31,0,0,0,1,6.5,5.31,5.31,0,0,0,4.9,4.9,5.31,5.31,0,0,0,6.5,1,5.31,5.31,0,0,0,8.1,4.9,5.31,5.31,0,0,0,12,6.5,5.46,5.46,0,0,0,6.5,12Z\"/>\n",
              "  </svg>\n",
              "    </button>\n",
              "    <script>\n",
              "      (() => {\n",
              "      const buttonEl =\n",
              "        document.querySelector('#id_ba1ffa81-723c-42c0-84a7-26513ec8f08b button.colab-df-generate');\n",
              "      buttonEl.style.display =\n",
              "        google.colab.kernel.accessAllowed ? 'block' : 'none';\n",
              "\n",
              "      buttonEl.onclick = () => {\n",
              "        google.colab.notebook.generateWithVariable('data');\n",
              "      }\n",
              "      })();\n",
              "    </script>\n",
              "  </div>\n",
              "\n",
              "    </div>\n",
              "  </div>\n"
            ],
            "application/vnd.google.colaboratory.intrinsic+json": {
              "type": "dataframe",
              "variable_name": "data",
              "summary": "{\n  \"name\": \"data\",\n  \"rows\": 319,\n  \"fields\": [\n    {\n      \"column\": \"Source\",\n      \"properties\": {\n        \"dtype\": \"category\",\n        \"num_unique_values\": 2,\n        \"samples\": [\n          \"GISTEMP\",\n          \"gcag\"\n        ],\n        \"semantic_type\": \"\",\n        \"description\": \"\"\n      }\n    },\n    {\n      \"column\": \"Year\",\n      \"properties\": {\n        \"dtype\": \"number\",\n        \"std\": 47,\n        \"min\": 1850,\n        \"max\": 2024,\n        \"num_unique_values\": 175,\n        \"samples\": [\n          2006,\n          1995\n        ],\n        \"semantic_type\": \"\",\n        \"description\": \"\"\n      }\n    },\n    {\n      \"column\": \"Mean\",\n      \"properties\": {\n        \"dtype\": \"number\",\n        \"std\": 0.3900289446945857,\n        \"min\": -0.5975,\n        \"max\": 1.1755,\n        \"num_unique_values\": 305,\n        \"samples\": [\n          -0.048,\n          0.1441\n        ],\n        \"semantic_type\": \"\",\n        \"description\": \"\"\n      }\n    }\n  ]\n}"
            }
          },
          "metadata": {},
          "execution_count": 26
        }
      ]
    },
    {
      "cell_type": "markdown",
      "metadata": {
        "id": "F7D2PR-sEbSu"
      },
      "source": [
        "\n",
        "\n",
        "---\n",
        "\n"
      ]
    },
    {
      "cell_type": "markdown",
      "metadata": {
        "id": "LkpwbQEVMys2"
      },
      "source": [
        "## **Exercices**"
      ]
    },
    {
      "cell_type": "code",
      "execution_count": null,
      "metadata": {
        "id": "BOgfXPgfXncS"
      },
      "outputs": [],
      "source": []
    },
    {
      "cell_type": "markdown",
      "metadata": {
        "id": "J2oYsrMGXnyj"
      },
      "source": [
        "### **Exercice 1**  Pierre Feuille Ciseaux\n",
        "Créez un jeu où l'utilisateur joue contre l'ordinateur au jeu classique de Pierre-Papier-Ciseaux.\n",
        "Aide:\n",
        "Options du jeu :\n",
        "*    L'utilisateur doit pouvoir choisir entre trois options : Pierre, Papier, ou Ciseaux.\n",
        "*    L'ordinateur choisit également de manière aléatoire l'une des trois options.\n",
        "\n",
        "Règles du jeu :\n",
        "\n",
        "*    Pierre bat Ciseaux.\n",
        "*    Ciseaux battent Papier.\n",
        "*    Papier bat Pierre.\n",
        "*    Si les deux choix sont identiques, c'est un match nul.\n",
        "\n",
        "Interaction avec l'utilisateur :\n",
        "\n",
        "*    Demandez à l'utilisateur de faire un choix.\n",
        "*    Affichez le choix de l'ordinateur.\n",
        "*    Annoncez le résultat (gagnant, perdant, ou match nul).\n",
        "\n",
        "Rejouer :\n",
        "\n",
        "*    À la fin de chaque partie, demandez à l'utilisateur s'il souhaite jouer à nouveau."
      ]
    },
    {
      "cell_type": "code",
      "execution_count": null,
      "metadata": {
        "colab": {
          "background_save": true,
          "base_uri": "https://localhost:8080/"
        },
        "id": "xd34wMYDYA9S",
        "outputId": "b7066253-4182-4259-bfe4-c64f075290c1"
      },
      "outputs": [
        {
          "name": "stdout",
          "output_type": "stream",
          "text": [
            "Bienvenue dans Pierre-Papier-Ciseaux !\n",
            "Choix invalide. Veuillez choisir Pierre, Papier, ou Ciseaux.\n",
            "L'ordinateur a choisi : Pierre\n",
            "C'est un match nul !\n"
          ]
        }
      ],
      "source": [
        "import random\n",
        "\n",
        "def jeu_pierre_papier_ciseaux():\n",
        "    print(\"Bienvenue dans Pierre-Papier-Ciseaux !\")\n",
        "\n",
        "    choix_options = [\"Pierre\", \"Papier\", \"Ciseaux\"]\n",
        "\n",
        "    while True:\n",
        "        # Demander à l'utilisateur de faire un choix\n",
        "        user_choice = input(\"Choisissez : Pierre, Papier, ou Ciseaux ? \").strip().capitalize()\n",
        "\n",
        "        if user_choice not in choix_options:\n",
        "            print(\"Choix invalide. Veuillez choisir Pierre, Papier, ou Ciseaux.\")\n",
        "            continue\n",
        "\n",
        "        # L'ordinateur fait un choix aléatoire\n",
        "        computer_choice = random.choice(choix_options)\n",
        "        print(f\"L'ordinateur a choisi : {computer_choice}\")\n",
        "\n",
        "        # Déterminer le résultat\n",
        "        if user_choice == computer_choice:\n",
        "            print(\"C'est un match nul !\")\n",
        "        elif (user_choice == \"Pierre\" and computer_choice == \"Ciseaux\") or \\\n",
        "             (user_choice == \"Ciseaux\" and computer_choice == \"Papier\") or \\\n",
        "             (user_choice == \"Papier\" and computer_choice == \"Pierre\"):\n",
        "            print(\"Vous avez gagné !\")\n",
        "        else:\n",
        "            print(\"Vous avez perdu !\")\n",
        "\n",
        "        # Demander si l'utilisateur veut jouer à nouveau\n",
        "        rejouer = input(\"Souhaitez-vous jouer à nouveau ? (oui/non) \").strip().lower()\n",
        "        if rejouer != 'oui':\n",
        "            break\n",
        "\n",
        "# Lancer le jeu\n",
        "jeu_pierre_papier_ciseaux()"
      ]
    },
    {
      "cell_type": "code",
      "execution_count": null,
      "metadata": {
        "id": "_ZZzovCPYECX"
      },
      "outputs": [],
      "source": []
    }
  ],
  "metadata": {
    "colab": {
      "provenance": [],
      "include_colab_link": true
    },
    "kernelspec": {
      "display_name": "Python 3",
      "name": "python3"
    }
  },
  "nbformat": 4,
  "nbformat_minor": 0
}