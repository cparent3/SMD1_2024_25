{
  "cells": [
    {
      "cell_type": "markdown",
      "metadata": {
        "id": "view-in-github",
        "colab_type": "text"
      },
      "source": [
        "<a href=\"https://colab.research.google.com/github/cparent3/SMD1_2024_25/blob/main/Python_basics_SMD1_2024.ipynb\" target=\"_parent\"><img src=\"https://colab.research.google.com/assets/colab-badge.svg\" alt=\"Open In Colab\"/></a>"
      ]
    },
    {
      "cell_type": "markdown",
      "metadata": {
        "id": "zbJ2fw29OHAX"
      },
      "source": [
        "Notebook prepared by Caroline Parent."
      ]
    },
    {
      "cell_type": "markdown",
      "metadata": {
        "id": "JbVT11Y8CbAu"
      },
      "source": [
        "# **Welcome**"
      ]
    },
    {
      "cell_type": "markdown",
      "metadata": {
        "id": "kw1B2R_WCU7X"
      },
      "source": [
        "Bienvenue dans ce Notebook ! Nous allons apprendre les bases du langage de programmation Python. \\\n",
        "Pourquoi Python ?\n",
        "Python est un langage avec des constructions syntaxiques simples et lisibles, ce qui le rend facile à apprendre et à utiliser. D'ailleurs, Python est largement utilisé dans la recherche et dans l'industrie : deep learning, analyse de données, création de graphiques, modélisation, contrôle d'instruments... Les possibilités avec Python sont (presque) infinies !"
      ]
    },
    {
      "cell_type": "markdown",
      "metadata": {
        "id": "G-1GNupNYAJE"
      },
      "source": [
        "\n",
        "\n",
        "---\n",
        "\n",
        "\n",
        "# **Séance 1**\n",
        "\n",
        "\n"
      ]
    },
    {
      "cell_type": "markdown",
      "metadata": {
        "id": "YV4sYCn8EPwb"
      },
      "source": [
        "# **Notebooks**"
      ]
    },
    {
      "cell_type": "markdown",
      "metadata": {
        "id": "2HuuwOcQEYQI"
      },
      "source": [
        "Nous utiliserons des notebooks dans Google Colab pour apprendre et coder. Les notebooks sont un excellent moyen de mélanger du code exécutable avec des contenus riches (HTML, images, équations écrites en LaTeX). Colab permet d'exécuter des notebooks sur le cloud gratuitement, sans aucune installation préalable, tout en tirant parti de la puissance des [GPUs](https://en.wikipedia.org/wiki/Graphics_processing_unit)."
      ]
    },
    {
      "cell_type": "markdown",
      "metadata": {
        "id": "t0XmMkPuGGOs"
      },
      "source": [
        "Le document que vous lisez n'est pas une page web statique, mais un environnement interactif appelé notebook, qui vous permet d'écrire et d'exécuter du code. Les notebooks sont composés de ce qu'on appelle des cellules de code, des blocs contenant une ou plusieurs instructions Python. Par exemple, voici une cellule de code qui stocke le résultat d'un calcul (le nombre de secondes dans une journée) dans une variable et affiche sa valeur :"
      ]
    },
    {
      "cell_type": "code",
      "execution_count": 1,
      "metadata": {
        "colab": {
          "base_uri": "https://localhost:8080/"
        },
        "id": "qeGAvLq1ALJ4",
        "outputId": "690b35e9-f97c-45f1-d66b-8960977105ce"
      },
      "outputs": [
        {
          "output_type": "execute_result",
          "data": {
            "text/plain": [
              "86400"
            ]
          },
          "metadata": {},
          "execution_count": 1
        }
      ],
      "source": [
        "seconds_in_a_day = 24 * 60 * 60\n",
        "seconds_in_a_day"
      ]
    },
    {
      "cell_type": "markdown",
      "metadata": {
        "id": "njoPs3q1G75-"
      },
      "source": [
        "Cliquez sur le bouton \"play\" pour exécuter la cellule. Vous devriez voir le résultat. Alternativement, vous pouvez également exécuter la cellule en appuyant sur Ctrl + Entrée si vous êtes sous Windows / Linux, ou Commande + Entrée si vous êtes sur un Mac."
      ]
    },
    {
      "cell_type": "markdown",
      "metadata": {
        "id": "NvdYaBgHHdbw"
      },
      "source": [
        "Les variables que vous avez définies dans une cellule peuvent ensuite être utilisées dans d'autres cellules:"
      ]
    },
    {
      "cell_type": "code",
      "execution_count": 2,
      "metadata": {
        "colab": {
          "base_uri": "https://localhost:8080/"
        },
        "id": "s1kp5Zv0JBSx",
        "outputId": "73a94c9b-16a3-4c18-ba8a-deadda87d509"
      },
      "outputs": [
        {
          "output_type": "execute_result",
          "data": {
            "text/plain": [
              "604800"
            ]
          },
          "metadata": {},
          "execution_count": 2
        }
      ],
      "source": [
        "seconds_in_a_week = 7 * seconds_in_a_day\n",
        "seconds_in_a_week"
      ]
    },
    {
      "cell_type": "markdown",
      "metadata": {
        "id": "uALfY4q1JFQ0"
      },
      "source": [
        "Notez que l'ordre d'exécution est important. Par exemple, si nous n'exécutons pas la cellule contenant `seconds_in_a_day` au préalable, la cellule ci-dessus générera une erreur, car elle dépend de cette variable. Pour vous assurer que vous exécutez toutes les cellules dans le bon ordre, vous pouvez également cliquer sur 'Runtime' dans le menu supérieur, puis sur 'Run all'."
      ]
    },
    {
      "cell_type": "markdown",
      "metadata": {
        "id": "HvXs_KaoRWQ9"
      },
      "source": [
        "**Exercice.** Ajoutez une cellule en dessous de cette cellule : cliquez sur cette cellule puis cliquez sur '+ Code'. Dans la nouvelle cellule, calculez le nombre de secondes dans une année en réutilisant la variable `seconds_in_a_day`. Exécutez la nouvelle cellule."
      ]
    },
    {
      "cell_type": "markdown",
      "metadata": {
        "id": "qyLSwlxnJqXX"
      },
      "source": [
        "# **La notion de variable**"
      ]
    },
    {
      "cell_type": "markdown",
      "metadata": {
        "id": "yontemweTAWq"
      },
      "source": [
        "## **Définition**"
      ]
    },
    {
      "cell_type": "markdown",
      "metadata": {
        "id": "aU8lPM4TDvzz"
      },
      "source": [
        "Une variable est une zone de mémoire dans laquelle est stockée une valeur, associée à un nom. Les variables permettent de stocker et manipuler les données du programme.\n"
      ]
    },
    {
      "cell_type": "markdown",
      "metadata": {
        "id": "2crXTRyXsdEZ"
      },
      "source": [
        "## **Créer une variable**\n"
      ]
    },
    {
      "cell_type": "markdown",
      "metadata": {
        "id": "3erUZiecTJa5"
      },
      "source": [
        "Pour définir une variable, on affecte une valeur à un nom avec le caractère `=` ."
      ]
    },
    {
      "cell_type": "code",
      "execution_count": 3,
      "metadata": {
        "id": "h-MbfX-bDukF"
      },
      "outputs": [],
      "source": [
        "ma_premiere_variable = 1"
      ]
    },
    {
      "cell_type": "markdown",
      "metadata": {
        "id": "qrkJlH8yEOjm"
      },
      "source": [
        "On peut ensuite appeler cette variable par son nom:"
      ]
    },
    {
      "cell_type": "code",
      "execution_count": 4,
      "metadata": {
        "colab": {
          "base_uri": "https://localhost:8080/"
        },
        "id": "kIbWZPppTWDW",
        "outputId": "3e6f4bac-8097-4f61-8abc-8f3df7c3b3af"
      },
      "outputs": [
        {
          "output_type": "execute_result",
          "data": {
            "text/plain": [
              "1"
            ]
          },
          "metadata": {},
          "execution_count": 4
        }
      ],
      "source": [
        "ma_premiere_variable"
      ]
    },
    {
      "cell_type": "markdown",
      "metadata": {
        "id": "ze0o23JcGTA6"
      },
      "source": [
        "et on peut changer la valeur de la variable en lui réaffectant une nouvelle valeur:"
      ]
    },
    {
      "cell_type": "code",
      "execution_count": 5,
      "metadata": {
        "colab": {
          "base_uri": "https://localhost:8080/"
        },
        "id": "bnoW90SxGShZ",
        "outputId": "5cc157ef-8cdf-459d-ee98-0b682e2ebfab"
      },
      "outputs": [
        {
          "output_type": "stream",
          "name": "stdout",
          "text": [
            "45\n"
          ]
        }
      ],
      "source": [
        "ma_premiere_variable = 45\n",
        "print(ma_premiere_variable)"
      ]
    },
    {
      "cell_type": "markdown",
      "metadata": {
        "id": "NkL21LHyEW2y"
      },
      "source": [
        "*NB.* Dans un Notebook, il suffit d'écrire le nom d'une variable pour afficher son résultat. Ce n'est pas le cas dans d'autres environnements Python, où il est nécessaire d'utiliser la fonction `print()` pour afficher du texte, des valeurs, etc.\n",
        "`print()` peut être utile dans un notebook lorsque l'on souhaite afficher plusieurs éléments en même temps."
      ]
    },
    {
      "cell_type": "code",
      "execution_count": 6,
      "metadata": {
        "colab": {
          "base_uri": "https://localhost:8080/"
        },
        "id": "TCvK4XDOUXgJ",
        "outputId": "ddbee415-e945-4914-eec0-f4e1344c4420"
      },
      "outputs": [
        {
          "output_type": "execute_result",
          "data": {
            "text/plain": [
              "2"
            ]
          },
          "metadata": {},
          "execution_count": 6
        }
      ],
      "source": [
        "une_deuxième_variable = 2\n",
        "ma_premiere_variable\n",
        "une_deuxième_variable"
      ]
    },
    {
      "cell_type": "code",
      "execution_count": 7,
      "metadata": {
        "colab": {
          "base_uri": "https://localhost:8080/"
        },
        "id": "GWE4Nw5bsaR9",
        "outputId": "2132774e-b020-4bfd-93b9-b7fd54f83a9b"
      },
      "outputs": [
        {
          "output_type": "stream",
          "name": "stdout",
          "text": [
            "1ere variable : 45\n",
            "2eme variable : 2\n"
          ]
        }
      ],
      "source": [
        "print('1ere variable :', ma_premiere_variable)\n",
        "print('2eme variable :', une_deuxième_variable)"
      ]
    },
    {
      "cell_type": "markdown",
      "metadata": {
        "id": "VrYAmfRjFY9p"
      },
      "source": [
        "Il y a quelques **règles pour définir une variable** en Python :\n",
        "*   Les noms de variables peuvent contenir des lettres, des chiffres et des underscores `_`, mais **ne doivent pas contenir d'espaces** et autres caractères spéciaux\n",
        "* Une variable doit **commencer par une lettre**, jamais par un chiffre\n",
        "* Python est **sensible à la casse**, donc `nom` et `Nom` sont des variables différentes\n",
        "* Ne pas utiliser des noms qui sont des mots-clés Python qui ont déjà une signification (`str`, `print`, `for` ...)\n"
      ]
    },
    {
      "cell_type": "markdown",
      "metadata": {
        "id": "_JoqY68ksf70"
      },
      "source": [
        "## **Les types**"
      ]
    },
    {
      "cell_type": "markdown",
      "metadata": {
        "id": "H3KT15qOGmG6"
      },
      "source": [
        "Vous avez probablement remarqué qu'en Python, il n'est pas nécessaire de spécifier le type d'une variable lors de sa création, que ce soit pour du texte, des nombres, etc. Python détermine automatiquement le type en fonction de la valeur qui lui est assignée.\n",
        "\n",
        "Il existe de nombreux types de données natifs en Python, et nous allons explorer quelques-uns d'entre eux ici."
      ]
    },
    {
      "cell_type": "markdown",
      "metadata": {
        "id": "Pzm2k34uHoDe"
      },
      "source": [
        "Tout d'abord, nous avons les **nombres entiers**, appelés *integers* ou *int*, que nous avons déjà vus.\n",
        "\n",
        "Ensuite, il y a les **nombres décimaux**, appelés *float*. Ils sont représentés par des nombres comportant un point décimal."
      ]
    },
    {
      "cell_type": "code",
      "execution_count": 8,
      "metadata": {
        "colab": {
          "base_uri": "https://localhost:8080/"
        },
        "id": "I4VsuiZvJb2p",
        "outputId": "f67cb0d8-8ebe-4d4c-fc38-ece0527248ee"
      },
      "outputs": [
        {
          "output_type": "execute_result",
          "data": {
            "text/plain": [
              "1.2"
            ]
          },
          "metadata": {},
          "execution_count": 8
        }
      ],
      "source": [
        "decimal = 1.2\n",
        "decimal"
      ]
    },
    {
      "cell_type": "code",
      "execution_count": 9,
      "metadata": {
        "colab": {
          "base_uri": "https://localhost:8080/"
        },
        "id": "Y7v6MKmnJjOK",
        "outputId": "c015403b-58c7-4624-b5b3-751a65bd7ebe"
      },
      "outputs": [
        {
          "output_type": "execute_result",
          "data": {
            "text/plain": [
              "2.0"
            ]
          },
          "metadata": {},
          "execution_count": 9
        }
      ],
      "source": [
        "decimal = 2.0\n",
        "decimal"
      ]
    },
    {
      "cell_type": "markdown",
      "metadata": {
        "id": "2fmiODPUJbRG"
      },
      "source": [
        "Il y a également les **chaînes de caractères**, appelées *string* ou *str*. Elles représentent du texte. Pour les définir, il suffit de mettre le texte entre guillemets ; simples `''` ou doubles `\"\"`, peu importe."
      ]
    },
    {
      "cell_type": "code",
      "execution_count": 10,
      "metadata": {
        "colab": {
          "base_uri": "https://localhost:8080/",
          "height": 35
        },
        "id": "N0dUqpdDHnZR",
        "outputId": "dd306735-01b5-4d74-e952-4b604f9e1b5f"
      },
      "outputs": [
        {
          "output_type": "execute_result",
          "data": {
            "text/plain": [
              "'Voici une première chaine de caractères.'"
            ],
            "application/vnd.google.colaboratory.intrinsic+json": {
              "type": "string"
            }
          },
          "metadata": {},
          "execution_count": 10
        }
      ],
      "source": [
        "chaine = 'Voici une première chaine de caractères.'\n",
        "chaine"
      ]
    },
    {
      "cell_type": "code",
      "execution_count": 11,
      "metadata": {
        "colab": {
          "base_uri": "https://localhost:8080/",
          "height": 35
        },
        "id": "IV5VadYlJHFB",
        "outputId": "bd05e360-c4d1-4633-f8bc-aa5d85a84ab6"
      },
      "outputs": [
        {
          "output_type": "execute_result",
          "data": {
            "text/plain": [
              "'12'"
            ],
            "application/vnd.google.colaboratory.intrinsic+json": {
              "type": "string"
            }
          },
          "metadata": {},
          "execution_count": 11
        }
      ],
      "source": [
        "chaine2 = \"12\"\n",
        "chaine2"
      ]
    },
    {
      "cell_type": "markdown",
      "metadata": {
        "id": "IWmZhIKTI9Q0"
      },
      "source": [
        "À noter que l'on peut connaitre le type de la variable avec la fonction `type()` :"
      ]
    },
    {
      "cell_type": "code",
      "execution_count": 12,
      "metadata": {
        "colab": {
          "base_uri": "https://localhost:8080/"
        },
        "id": "TqXhdKijKtvL",
        "outputId": "86a58194-8edb-4a35-de85-0f2800d52a4c"
      },
      "outputs": [
        {
          "output_type": "execute_result",
          "data": {
            "text/plain": [
              "str"
            ]
          },
          "metadata": {},
          "execution_count": 12
        }
      ],
      "source": [
        "type(chaine2)"
      ]
    },
    {
      "cell_type": "markdown",
      "source": [
        "Et changer le type d'une variable :"
      ],
      "metadata": {
        "id": "hkpUvucdX5de"
      }
    },
    {
      "cell_type": "code",
      "source": [
        "chaine = '54'\n",
        "int(chaine)"
      ],
      "metadata": {
        "colab": {
          "base_uri": "https://localhost:8080/"
        },
        "id": "HYrwlv5PX-dU",
        "outputId": "b066bb09-302d-4fd1-8d33-cbe1fd348604"
      },
      "execution_count": 13,
      "outputs": [
        {
          "output_type": "execute_result",
          "data": {
            "text/plain": [
              "54"
            ]
          },
          "metadata": {},
          "execution_count": 13
        }
      ]
    },
    {
      "cell_type": "code",
      "source": [
        "n = 8\n",
        "float(n)"
      ],
      "metadata": {
        "colab": {
          "base_uri": "https://localhost:8080/"
        },
        "id": "88anONDOYIFW",
        "outputId": "beca6517-910c-4c72-8904-d994d70ff7e7"
      },
      "execution_count": 14,
      "outputs": [
        {
          "output_type": "execute_result",
          "data": {
            "text/plain": [
              "8.0"
            ]
          },
          "metadata": {},
          "execution_count": 14
        }
      ]
    },
    {
      "cell_type": "markdown",
      "metadata": {
        "id": "VU1TAdfAKxzQ"
      },
      "source": [
        "Il existe encore de nombreux autres types en python, comme les **booléen** *bool* et les **listes** que nous aurons le temps de découvrir plus tard. Vous pouvez jetter un oeil à la [documentation Python](https://docs.python.org/fr/3.12/library/stdtypes.html)  pour découvrir les autres."
      ]
    },
    {
      "cell_type": "markdown",
      "metadata": {
        "id": "XfhL3PDmWXhR"
      },
      "source": [
        "**Exercice**\n",
        "Créez vos premières variables de types différents: une variable `nombre_int` qui vaut un nombre entier, une variable `nombre_dec` qui correspond à un nombre décimal, une chaine de caractères..."
      ]
    },
    {
      "cell_type": "code",
      "execution_count": 14,
      "metadata": {
        "id": "nZ6JwaRRW2Sg"
      },
      "outputs": [],
      "source": []
    },
    {
      "cell_type": "markdown",
      "metadata": {
        "id": "uwfzSDjmtHZg"
      },
      "source": [
        "## **Opérations de base sur les nombres**"
      ]
    },
    {
      "cell_type": "markdown",
      "metadata": {
        "id": "beF0rBTkI8FP"
      },
      "source": [
        "On peut manipuler les variables numériques avec des opérations de bases : addition, soustraction...\n",
        "Rien de sorcier, voici la syntaxe :\n",
        "*   addition : `a+b`\n",
        "*   soustraction : `a-b`\n",
        "*   multiplication : `a*b`\n",
        "*   division : `a/b`\n",
        "\n",
        "\n",
        "Les puissances se nottent `a**b`. On peut aussi récupérer le quotient d'une division euclidienne: `a//b` ; et son reste: `a%b`."
      ]
    },
    {
      "cell_type": "code",
      "execution_count": 15,
      "metadata": {
        "colab": {
          "base_uri": "https://localhost:8080/"
        },
        "id": "l6VOQVDQspT8",
        "outputId": "4e22eea2-1200-4e0f-da12-2bcef4ee3959"
      },
      "outputs": [
        {
          "output_type": "execute_result",
          "data": {
            "text/plain": [
              "6.428571428571429"
            ]
          },
          "metadata": {},
          "execution_count": 15
        }
      ],
      "source": [
        "a = 45\n",
        "b = 7\n",
        "c = a/b\n",
        "c"
      ]
    },
    {
      "cell_type": "markdown",
      "metadata": {
        "id": "MjHvdpzp4VS5"
      },
      "source": [
        "On peut arrondir un nombre décimal en précisant ou non le nombre de chiffres après la virgule avec `round(a)` ou `round(a,n)` :"
      ]
    },
    {
      "cell_type": "code",
      "execution_count": 16,
      "metadata": {
        "colab": {
          "base_uri": "https://localhost:8080/"
        },
        "id": "UFBVJQ2c5A71",
        "outputId": "bb3dc916-cd2d-4865-9c83-454e14ca7051"
      },
      "outputs": [
        {
          "output_type": "execute_result",
          "data": {
            "text/plain": [
              "6"
            ]
          },
          "metadata": {},
          "execution_count": 16
        }
      ],
      "source": [
        "round(c)"
      ]
    },
    {
      "cell_type": "code",
      "execution_count": 17,
      "metadata": {
        "colab": {
          "base_uri": "https://localhost:8080/"
        },
        "id": "bbm7IHMy5DK4",
        "outputId": "55a610fb-cfcb-4840-bc99-44e544b3e347"
      },
      "outputs": [
        {
          "output_type": "execute_result",
          "data": {
            "text/plain": [
              "6.43"
            ]
          },
          "metadata": {},
          "execution_count": 17
        }
      ],
      "source": [
        "round(c,2)"
      ]
    },
    {
      "cell_type": "markdown",
      "metadata": {
        "id": "pSSnBSUb5Mjd"
      },
      "source": [
        "Et récupérer la valeur absolue avec `abs()` :"
      ]
    },
    {
      "cell_type": "code",
      "execution_count": 18,
      "metadata": {
        "colab": {
          "base_uri": "https://localhost:8080/"
        },
        "id": "5AnKbRt-5Wf9",
        "outputId": "ccb13d30-80a6-4efb-8b08-188d495e3ce6"
      },
      "outputs": [
        {
          "output_type": "execute_result",
          "data": {
            "text/plain": [
              "4.3"
            ]
          },
          "metadata": {},
          "execution_count": 18
        }
      ],
      "source": [
        "d = -4.3\n",
        "abs(d)"
      ]
    },
    {
      "cell_type": "markdown",
      "metadata": {
        "id": "Kt_zjufHXDbt"
      },
      "source": [
        "**Exercice**\n",
        "Créez deux variables numériques et manipulez les différentes opérations présentées ci-dessus."
      ]
    },
    {
      "cell_type": "code",
      "execution_count": null,
      "metadata": {
        "id": "h-ki48gKXBc1"
      },
      "outputs": [],
      "source": []
    },
    {
      "cell_type": "markdown",
      "metadata": {
        "id": "lz2XGlzNRqXk"
      },
      "source": [
        "**Exercice** Prédisez le résultat des instructions suivantes, puis vérifiez en tappant les instructions dans une ligne de code:\\\n",
        "`15%3` \\\n",
        "`45/2` \\\n",
        "\n",
        "`(1+2)**3` \\\n"
      ]
    },
    {
      "cell_type": "code",
      "execution_count": null,
      "metadata": {
        "id": "_J_My2chSrQw"
      },
      "outputs": [],
      "source": []
    },
    {
      "cell_type": "markdown",
      "source": [
        "**Exercice** Calculer les nombres suivants:\n",
        "\n",
        "$\\frac{78(23-45)}{(12+65)(78+69)}$\n",
        "\n",
        "$4^{42(3+8)}$\n",
        "\n",
        "$\\frac{2^3 \\times 5}{\\sqrt{4} + \\frac{3}{2}}$"
      ],
      "metadata": {
        "id": "D0VwKGQK-1lZ"
      }
    },
    {
      "cell_type": "code",
      "source": [],
      "metadata": {
        "id": "VaG0p-1hAECZ"
      },
      "execution_count": null,
      "outputs": []
    },
    {
      "cell_type": "markdown",
      "metadata": {
        "id": "n8DjY98hsqGS"
      },
      "source": [
        "# **Les listes**"
      ]
    },
    {
      "cell_type": "markdown",
      "metadata": {
        "id": "Zr_R-8jfLDRb"
      },
      "source": [
        "En Python, **une liste est une collection ordonnée et modifiable d'éléments**. Elle peut contenir des types de données variés, comme des nombres, des chaînes de caractères, voire d'autres listes. Les éléments d'une liste sont placés entre crochets `[]` et séparés par des virgules."
      ]
    },
    {
      "cell_type": "markdown",
      "metadata": {
        "id": "CcISeOjYeF5g"
      },
      "source": [
        "## **Création et manipulation de listes**"
      ]
    },
    {
      "cell_type": "markdown",
      "metadata": {
        "id": "Qj2SRd-eXNJm"
      },
      "source": [
        "On peut initialiser une liste vide :"
      ]
    },
    {
      "cell_type": "code",
      "execution_count": 19,
      "metadata": {
        "colab": {
          "base_uri": "https://localhost:8080/"
        },
        "id": "pH6aPbaIXQkG",
        "outputId": "36b3fa93-4149-45e8-b384-53d953571a1f"
      },
      "outputs": [
        {
          "output_type": "execute_result",
          "data": {
            "text/plain": [
              "[]"
            ]
          },
          "metadata": {},
          "execution_count": 19
        }
      ],
      "source": [
        "ma_liste = []\n",
        "ma_liste"
      ]
    },
    {
      "cell_type": "markdown",
      "metadata": {
        "id": "H5vOgfwUXVty"
      },
      "source": [
        "Ou avec quelques éléments :"
      ]
    },
    {
      "cell_type": "code",
      "execution_count": 20,
      "metadata": {
        "colab": {
          "base_uri": "https://localhost:8080/"
        },
        "id": "JxJjzPGbMCzj",
        "outputId": "83c34212-6045-4bf4-a55d-3e5894ddeb85"
      },
      "outputs": [
        {
          "output_type": "execute_result",
          "data": {
            "text/plain": [
              "[1, 2, 3, 4, 5, 6, 7, 8, 9]"
            ]
          },
          "metadata": {},
          "execution_count": 20
        }
      ],
      "source": [
        "ma_liste = [1,2,3,4,5,6,7,8,9]\n",
        "ma_liste"
      ]
    },
    {
      "cell_type": "markdown",
      "metadata": {
        "id": "r8hx1JrmMLH9"
      },
      "source": [
        "Les listes peuvent contenir des éléments de différents types :"
      ]
    },
    {
      "cell_type": "code",
      "execution_count": 21,
      "metadata": {
        "id": "yxTkZ1lKMKVQ"
      },
      "outputs": [],
      "source": [
        "autre_liste = ['arbre', 12, [1,2]]"
      ]
    },
    {
      "cell_type": "markdown",
      "metadata": {
        "id": "AijpS2GnZyqO"
      },
      "source": [
        "Les éléments d'une liste sont indexés de 0 à N-1. On peut donc accéder aux éléments de la liste par leurs indices :"
      ]
    },
    {
      "cell_type": "code",
      "source": [
        "ma_liste = [1,2,3,4,5,6,7,8,9]\n",
        "# index     0,1,2,3,4,5,6,7,8"
      ],
      "metadata": {
        "id": "OEG2ElxzAK-n"
      },
      "execution_count": 22,
      "outputs": []
    },
    {
      "cell_type": "code",
      "execution_count": 23,
      "metadata": {
        "colab": {
          "base_uri": "https://localhost:8080/"
        },
        "id": "pyFxyZPVYpG_",
        "outputId": "b9e5e002-585e-4fe8-c145-fe4b10b410c5"
      },
      "outputs": [
        {
          "output_type": "execute_result",
          "data": {
            "text/plain": [
              "3"
            ]
          },
          "metadata": {},
          "execution_count": 23
        }
      ],
      "source": [
        "ma_liste[2]"
      ]
    },
    {
      "cell_type": "markdown",
      "metadata": {
        "id": "hPMrIDYsdgMP"
      },
      "source": [
        "Nous pouvons accéder à des \"tranches\" ou *slices* d'une liste en utilisant `ma_liste[i:j]` où `i` est le début de la tranche et `j-1` la fin de la tranche. Par exemple:"
      ]
    },
    {
      "cell_type": "code",
      "execution_count": 24,
      "metadata": {
        "colab": {
          "base_uri": "https://localhost:8080/"
        },
        "id": "Ichf9p0gd7tJ",
        "outputId": "26e86566-37e3-4e5a-b241-81ecf5f8af33"
      },
      "outputs": [
        {
          "output_type": "execute_result",
          "data": {
            "text/plain": [
              "[2, 3, 4, 5]"
            ]
          },
          "metadata": {},
          "execution_count": 24
        }
      ],
      "source": [
        "ma_liste[1:5]"
      ]
    },
    {
      "cell_type": "markdown",
      "metadata": {
        "id": "KMbzH4tzQ9rI"
      },
      "source": [
        "Omettre le second indice signifie que la tranche s'étendra jusqu'à la fin de la liste."
      ]
    },
    {
      "cell_type": "code",
      "execution_count": 25,
      "metadata": {
        "colab": {
          "base_uri": "https://localhost:8080/"
        },
        "id": "O7wCthKnREKV",
        "outputId": "0231d080-65ab-4b80-ea96-c6977fbbaad7"
      },
      "outputs": [
        {
          "output_type": "execute_result",
          "data": {
            "text/plain": [
              "[3, 4, 5, 6, 7, 8, 9]"
            ]
          },
          "metadata": {},
          "execution_count": 25
        }
      ],
      "source": [
        "ma_liste[2:]"
      ]
    },
    {
      "cell_type": "markdown",
      "source": [
        "Et inversement:"
      ],
      "metadata": {
        "id": "uENavGhdAd_S"
      }
    },
    {
      "cell_type": "code",
      "source": [
        "ma_liste[:5]"
      ],
      "metadata": {
        "colab": {
          "base_uri": "https://localhost:8080/"
        },
        "id": "pk5d2-TDAeXl",
        "outputId": "b582de49-4950-49a1-be8b-08ccbc76b937"
      },
      "execution_count": 26,
      "outputs": [
        {
          "output_type": "execute_result",
          "data": {
            "text/plain": [
              "[1, 2, 3, 4, 5]"
            ]
          },
          "metadata": {},
          "execution_count": 26
        }
      ]
    },
    {
      "cell_type": "markdown",
      "metadata": {
        "id": "ndXh0VJCat6M"
      },
      "source": [
        "On peut accèder au dernier élément d'une liste avec `ma_liste[-1]` :"
      ]
    },
    {
      "cell_type": "code",
      "execution_count": 27,
      "metadata": {
        "colab": {
          "base_uri": "https://localhost:8080/"
        },
        "id": "koEOAcBOatTf",
        "outputId": "1a895e4e-7e8c-4900-8e34-3851cdd28750"
      },
      "outputs": [
        {
          "output_type": "execute_result",
          "data": {
            "text/plain": [
              "9"
            ]
          },
          "metadata": {},
          "execution_count": 27
        }
      ],
      "source": [
        "ma_liste[-1]"
      ]
    },
    {
      "cell_type": "markdown",
      "metadata": {
        "id": "64IV5y4GpOBg"
      },
      "source": [
        "Et ne prendre que certains éléments de la liste avec un pas :"
      ]
    },
    {
      "cell_type": "code",
      "execution_count": 28,
      "metadata": {
        "colab": {
          "base_uri": "https://localhost:8080/"
        },
        "id": "Yj9j89BtpGRq",
        "outputId": "a104ab76-b970-4e1c-f3d6-356d9961b610"
      },
      "outputs": [
        {
          "output_type": "execute_result",
          "data": {
            "text/plain": [
              "[1, 3, 5, 7, 9]"
            ]
          },
          "metadata": {},
          "execution_count": 28
        }
      ],
      "source": [
        "ma_liste[::2]"
      ]
    },
    {
      "cell_type": "markdown",
      "metadata": {
        "id": "TXDhhysfpXRL"
      },
      "source": [
        "À noter un comportement qui peut paraitre étrange en Pyhton lorsqu'on copie une liste avec `=` :"
      ]
    },
    {
      "cell_type": "code",
      "execution_count": 29,
      "metadata": {
        "colab": {
          "base_uri": "https://localhost:8080/"
        },
        "id": "FiQDfH6opoZQ",
        "outputId": "6d6a3fb2-f4f8-4494-c194-d2209373e315"
      },
      "outputs": [
        {
          "output_type": "execute_result",
          "data": {
            "text/plain": [
              "[1, 2, 3, 'a', 5]"
            ]
          },
          "metadata": {},
          "execution_count": 29
        }
      ],
      "source": [
        "L1 = [1,2,3,4,5]\n",
        "L2 = L1\n",
        "L2[3] = 'a'\n",
        "L2"
      ]
    },
    {
      "cell_type": "code",
      "execution_count": 30,
      "metadata": {
        "colab": {
          "base_uri": "https://localhost:8080/"
        },
        "id": "ZhKifoDdpz9l",
        "outputId": "5e3bba5d-d88d-4760-a251-5476b40643a7"
      },
      "outputs": [
        {
          "output_type": "execute_result",
          "data": {
            "text/plain": [
              "[1, 2, 3, 'a', 5]"
            ]
          },
          "metadata": {},
          "execution_count": 30
        }
      ],
      "source": [
        "L1"
      ]
    },
    {
      "cell_type": "markdown",
      "metadata": {
        "id": "ySGXjyMmpznb"
      },
      "source": [
        "Nous n'avons pas explicitement modifié `L1`, pourtant nous pouvons voir qu'elle a été modifiée. Cela est dû au fait que `L1` et `L2` font référence au même objet en mémoire. Par conséquent, lorsque nous modifions `L2`, nous modifions également l'objet partagé, et donc `L1` est également affecté.\n",
        "Si on a besoin de copier une liste sans affecter l'originale, ou pourra utiliser `L[:]`:"
      ]
    },
    {
      "cell_type": "code",
      "execution_count": 31,
      "metadata": {
        "colab": {
          "base_uri": "https://localhost:8080/"
        },
        "id": "MIwBVihgqyXI",
        "outputId": "fd294688-ab1c-460a-cefd-fe0d9fad7598"
      },
      "outputs": [
        {
          "output_type": "execute_result",
          "data": {
            "text/plain": [
              "[1, 2, 3, 'a', 5]"
            ]
          },
          "metadata": {},
          "execution_count": 31
        }
      ],
      "source": [
        "L1 = [1,2,3,4,5]\n",
        "L2 = L1[:]\n",
        "L2[3] = 'a'\n",
        "L2"
      ]
    },
    {
      "cell_type": "code",
      "execution_count": 32,
      "metadata": {
        "colab": {
          "base_uri": "https://localhost:8080/"
        },
        "id": "HZPud_dFy4dw",
        "outputId": "a051e36b-4bb2-431d-8654-b42d898f1229"
      },
      "outputs": [
        {
          "output_type": "execute_result",
          "data": {
            "text/plain": [
              "[1, 2, 3, 4, 5]"
            ]
          },
          "metadata": {},
          "execution_count": 32
        }
      ],
      "source": [
        "L1"
      ]
    },
    {
      "cell_type": "markdown",
      "metadata": {
        "id": "TgnamMjnXsTj"
      },
      "source": [
        "**Exercice**\n",
        "1.   Créez une liste contennant des chiffres de 1 à 10\n",
        "2.   Récupérez la tranche de la liste contenant les chiffres de 2 à 6\n",
        "3.   Affichez les éléments de la liste impairs du plus grand au plus petit\n",
        "4.   Remplacez 9 par 'neuf'\n"
      ]
    },
    {
      "cell_type": "code",
      "execution_count": 32,
      "metadata": {
        "id": "wm_5G7RHXrou"
      },
      "outputs": [],
      "source": []
    },
    {
      "cell_type": "markdown",
      "metadata": {
        "id": "Fc83mxtXq8t3"
      },
      "source": [
        "## **Quelques opérations sur les listes**\n",
        "Nous allons voir maintenant quelques fonctions et méthodes de listes qui peuvent s'avérer utiles."
      ]
    },
    {
      "cell_type": "markdown",
      "metadata": {
        "id": "Fwv2bk-ry_tI"
      },
      "source": [
        "*Attention !* On ne peut pas utiliser des opération mathématiques sur des listes de nombres. L'addition de liste va concaténer les listes, la multiplication également, les autres vont soulever une erreur. Nous verrons plus tard un autre type, les `array`, qui sont beaucoup plus adaptés aux manipulations mathématiques de séquences d'objets."
      ]
    },
    {
      "cell_type": "markdown",
      "metadata": {
        "id": "5u05Dj7yqyCJ"
      },
      "source": [
        "Les listes ont une taille dynamique, on peut ajouter des éléments à une liste en concaténant deux listes avec `+` avec la méthode `.append()`"
      ]
    },
    {
      "cell_type": "code",
      "execution_count": 33,
      "metadata": {
        "colab": {
          "base_uri": "https://localhost:8080/"
        },
        "id": "MhugwrCZsJhm",
        "outputId": "71c613d0-6e70-4905-a4ba-c2b9846e890c"
      },
      "outputs": [
        {
          "output_type": "execute_result",
          "data": {
            "text/plain": [
              "[1, 2, 3, 4, 5, 6, 7, 8, 9, 89]"
            ]
          },
          "metadata": {},
          "execution_count": 33
        }
      ],
      "source": [
        "ma_liste = [1,2,3,4,5,6,7,8,9]\n",
        "ma_liste = ma_liste + [89]\n",
        "ma_liste"
      ]
    },
    {
      "cell_type": "markdown",
      "metadata": {
        "id": "7bMfh86qsF1S"
      },
      "source": [
        "Ceci est équivalent à :"
      ]
    },
    {
      "cell_type": "code",
      "execution_count": 34,
      "metadata": {
        "colab": {
          "base_uri": "https://localhost:8080/"
        },
        "id": "QFTNqiYiXxAh",
        "outputId": "bdcd70d7-f5bc-4318-9ae3-9e837a17e18c"
      },
      "outputs": [
        {
          "output_type": "execute_result",
          "data": {
            "text/plain": [
              "[1, 2, 3, 4, 5, 6, 7, 8, 9, 89]"
            ]
          },
          "metadata": {},
          "execution_count": 34
        }
      ],
      "source": [
        "ma_liste = [1,2,3,4,5,6,7,8,9]\n",
        "ma_liste.append(89)\n",
        "ma_liste"
      ]
    },
    {
      "cell_type": "markdown",
      "metadata": {
        "id": "c8091ZGdsUaY"
      },
      "source": [
        "On préfèrera la méthode `.append()` pour plus de lisibilité."
      ]
    },
    {
      "cell_type": "markdown",
      "metadata": {
        "id": "HNYffDJCsbpq"
      },
      "source": [
        "On peut accéder à la taille d'une liste avec la fonction `len()`:"
      ]
    },
    {
      "cell_type": "code",
      "execution_count": 35,
      "metadata": {
        "colab": {
          "base_uri": "https://localhost:8080/"
        },
        "id": "zBuSWU11shTm",
        "outputId": "f6c84ad5-d9c4-4378-a2db-3fdd228cb995"
      },
      "outputs": [
        {
          "output_type": "execute_result",
          "data": {
            "text/plain": [
              "10"
            ]
          },
          "metadata": {},
          "execution_count": 35
        }
      ],
      "source": [
        "len(ma_liste)"
      ]
    },
    {
      "cell_type": "markdown",
      "metadata": {
        "id": "yJpmchUssmC8"
      },
      "source": [
        "Et savoir si un élément se trouve dans une liste avec `in` :"
      ]
    },
    {
      "cell_type": "code",
      "execution_count": 36,
      "metadata": {
        "colab": {
          "base_uri": "https://localhost:8080/"
        },
        "id": "a_P5NCi-efvb",
        "outputId": "ca6910cb-534f-490a-94a0-bfa652fa780a"
      },
      "outputs": [
        {
          "output_type": "execute_result",
          "data": {
            "text/plain": [
              "True"
            ]
          },
          "metadata": {},
          "execution_count": 36
        }
      ],
      "source": [
        "5 in ma_liste"
      ]
    },
    {
      "cell_type": "code",
      "source": [
        "45 in ma_liste"
      ],
      "metadata": {
        "id": "qHljVffE2i0w",
        "outputId": "4846b490-43de-49d6-81d8-8d093011f1c6",
        "colab": {
          "base_uri": "https://localhost:8080/"
        }
      },
      "execution_count": 37,
      "outputs": [
        {
          "output_type": "execute_result",
          "data": {
            "text/plain": [
              "False"
            ]
          },
          "metadata": {},
          "execution_count": 37
        }
      ]
    },
    {
      "cell_type": "markdown",
      "metadata": {
        "id": "5JfEHLgic0un"
      },
      "source": [
        "Vous pouvez voir que `in` renvoie `True` ou `False`: il s'agit de variables booléennes !"
      ]
    },
    {
      "cell_type": "markdown",
      "metadata": {
        "id": "LKGtPrWf0s4q"
      },
      "source": [
        "Il existe beaucoup de fonctions natives en Python pour vous aider à manipuler les listes : `min(list)`, `max(list)`..."
      ]
    },
    {
      "cell_type": "code",
      "execution_count": 38,
      "metadata": {
        "colab": {
          "base_uri": "https://localhost:8080/"
        },
        "id": "AZoEaQ5Z0sK_",
        "outputId": "2b84609f-a9e1-42e1-9fe2-a17d3eddb0b3"
      },
      "outputs": [
        {
          "output_type": "execute_result",
          "data": {
            "text/plain": [
              "89"
            ]
          },
          "metadata": {},
          "execution_count": 38
        }
      ],
      "source": [
        "max(ma_liste)"
      ]
    },
    {
      "cell_type": "markdown",
      "metadata": {
        "id": "63B-AMEzdMrY"
      },
      "source": [
        "On peut également supprimer les éléments d'une liste avec `.remove()` et `del`, insérer un élément à un indice précis avec `.insert()`, compter les occurences avec `.count()`... Beaucoup d'outils sont disponibles, n'hésitez pas à chercher ce qu'il vous faut dans les [documentations](https://docs.python.org/fr/3/tutorial/datastructures.html)."
      ]
    },
    {
      "cell_type": "markdown",
      "metadata": {
        "id": "SOwjrTIjebpT"
      },
      "source": [
        "Pour trier une liste, on utilise la méthode `.sort()` ou la fonction `sorted()`"
      ]
    },
    {
      "cell_type": "code",
      "execution_count": 39,
      "metadata": {
        "colab": {
          "base_uri": "https://localhost:8080/"
        },
        "id": "AiiN4I8oeaxV",
        "outputId": "37ddceb4-bf9a-4e91-d3dd-b26042a5cf91"
      },
      "outputs": [
        {
          "output_type": "execute_result",
          "data": {
            "text/plain": [
              "[0, 1, 2, 3, 4, 6, 9, 12, 15, 24]"
            ]
          },
          "metadata": {},
          "execution_count": 39
        }
      ],
      "source": [
        "ma_liste_melange = [4, 6, 2, 0, 3, 9, 24, 12, 1, 15]\n",
        "ma_liste_melange.sort()\n",
        "ma_liste_melange"
      ]
    },
    {
      "cell_type": "code",
      "execution_count": 40,
      "metadata": {
        "colab": {
          "base_uri": "https://localhost:8080/"
        },
        "id": "4tlSwVoafCyh",
        "outputId": "55ec8b5b-c04d-4514-94df-f7aeb7ddd4e1"
      },
      "outputs": [
        {
          "output_type": "execute_result",
          "data": {
            "text/plain": [
              "[0, 1, 2, 3, 4, 6, 9, 12, 15, 24]"
            ]
          },
          "metadata": {},
          "execution_count": 40
        }
      ],
      "source": [
        "ma_liste_melange = [4, 6, 2, 0, 3, 9, 24, 12, 1, 15]\n",
        "ma_liste_ordonnee = sorted(ma_liste_melange)\n",
        "ma_liste_ordonnee"
      ]
    },
    {
      "cell_type": "markdown",
      "source": [
        "**Exercice**  Prédisez le résultat des instructions suivantes, puis vérifiez en tappant les instructions:\n",
        "\n",
        "`A = [1, 5, 9, 32, 12]`\\\n",
        "`B = [5, 9]`\\\n",
        "`C = ['h', 4, 'pi']`\n",
        "\n",
        "`A + B`\\\n",
        "`A*B`\\\n",
        "`A*2` \\\n",
        "`B+[3]`\\\n",
        "`C[:3]`\\\n",
        "`A[0]+B[1]+C[2]`"
      ],
      "metadata": {
        "id": "anxnKWbA9R_I"
      }
    },
    {
      "cell_type": "code",
      "source": [
        "A = [1, 5, 9, 32, 12]\n",
        "B = [5, 9]\n",
        "C = ['h', 4, 'pi']\n"
      ],
      "metadata": {
        "id": "CscC8_7P9_MA"
      },
      "execution_count": null,
      "outputs": []
    },
    {
      "cell_type": "markdown",
      "metadata": {
        "id": "kzDrPYbvby78"
      },
      "source": [
        "**Exercice**\n",
        "1.   Créez une liste\n",
        "2.   Ajoutez un élément à cette liste avec `.append()`\n",
        "3.   Cherchez la valeur maximum de cette liste\n",
        "4.   Cherchez si `'arbre'` est dans cette liste"
      ]
    },
    {
      "cell_type": "code",
      "execution_count": null,
      "metadata": {
        "id": "ZizboUGpThjV"
      },
      "outputs": [],
      "source": []
    },
    {
      "cell_type": "markdown",
      "metadata": {
        "id": "U4cAU3wnTh5o"
      },
      "source": [
        "**Exercice**\n",
        "1.   Créez une liste qui contient les 7 jours de la semaine\n",
        "2.   Récupérez les jours de semaine d'une part, ceux du week-end d'autre part\n",
        "3.   Récupérez les dernierS jours de la semaine de deux manières différentes\n",
        "4.   Affichez les jours de la semaine dans l'ordre opposé"
      ]
    },
    {
      "cell_type": "code",
      "source": [],
      "metadata": {
        "id": "Q8DO52lP3T-t"
      },
      "execution_count": null,
      "outputs": []
    },
    {
      "cell_type": "markdown",
      "metadata": {
        "id": "lwidSL3fTCTr"
      },
      "source": [
        "**Exercice** En une seule ligne de code, affichez le nombre de nombres pairs dans l'intervalle `[2:2000]`"
      ]
    },
    {
      "cell_type": "code",
      "execution_count": null,
      "metadata": {
        "id": "8frUBgVygZp4"
      },
      "outputs": [],
      "source": []
    },
    {
      "cell_type": "markdown",
      "metadata": {
        "id": "qJ8jGbR0J76o"
      },
      "source": [
        "## **Fonctions, méthodes, quésako ?**"
      ]
    },
    {
      "cell_type": "markdown",
      "metadata": {
        "id": "DovytQJVfLn4"
      },
      "source": [
        "Notez que depuis le début de ce cours, nous parlons de *méthodes* et de *fonctions*. Bien que les deux permettent d'exécuter des actions prédéfinies, il existe quelques différences importantes. Prenons comme exemple la méthode `.sort()` et la fonction `sorted()`, qui permettent chacune de trier nos listes.\n",
        "\n",
        "*   `.sort()` est une **méthode de liste**. Sa syntaxe est la suivante : *liste.sort(arguments)*. Ici, la liste sur laquelle on applique la méthode est placée avant le point, et les éventuels arguments (par exemple, l'ordre de tri) sont indiqués entre les parenthèses.\n",
        "*   En revanche, `sorted()` est une **fonction** avec la syntaxe suivante : *sorted(liste, arguments)*. Elle prend la liste à trier comme 1er argument, suivie d'éventuels autres arguments.\n",
        "\n",
        "La différence clé entre ces deux concepts est que :\n",
        "*    Une méthode comme `.sort()` modifie directement l'objet sur lequel elle est appliquée (dans ce cas, la liste originale est triée *in place*).\n",
        "*    Une fonction comme `sorted()` renvoie un nouvel objet, sans modifier l'original. Si vous souhaitez conserver le résultat, il est nécessaire de l'assigner à une nouvelle variable ou de remplacer l'ancienne.\n",
        "\n",
        "Enfin, une autre différence est que les méthodes sont spécifiques à une classe ou un type d'objet (par exemple, les méthodes des listes ne fonctionnent que sur des listes). En revanche, les fonctions comme `sorted()` peuvent, en principe, être utilisées avec différents types d'objets, tant qu'ils respectent les exigences de la fonction."
      ]
    },
    {
      "cell_type": "markdown",
      "metadata": {
        "id": "hnOTuUEfhy7d"
      },
      "source": [
        "## **Quelques mots sur les *string***"
      ]
    },
    {
      "cell_type": "markdown",
      "metadata": {
        "id": "zz2eIFpFt8JC"
      },
      "source": [
        "À noter que les *string* se comportent de manière assez similaires à des listes : on peut accéder au n-ième caractère avec `chaine[n-1]`, concaténer des chaines (pour le coup on utilisera volontier l'addition) etc...\n",
        "On ne va pas développer ici la manipulation de chaines de caractères plus en détail, en science on les utilise principalement pour la mise en forme, sauvegarder les noms de fichiers ...\n",
        "\n",
        "Vous pouvez jeter un oeil aux *f-string*, qui peuvent être très utiles. Les *f-string* permettent de mettre en forme des chaines de caractères de manière plus élégante qu'avec la concaténation.\n",
        "La syntaxe est la suivante :"
      ]
    },
    {
      "cell_type": "code",
      "execution_count": 41,
      "metadata": {
        "colab": {
          "base_uri": "https://localhost:8080/"
        },
        "id": "tsfstZoWvDvF",
        "outputId": "fc127c46-86a2-4350-edaa-8358ff55a0ab"
      },
      "outputs": [
        {
          "output_type": "stream",
          "name": "stdout",
          "text": [
            "Il fait 25°C à 15h à Bordeaux.\n",
            "Il fait 25°C à 15h à Bordeaux.\n"
          ]
        }
      ],
      "source": [
        "temp = 25\n",
        "heure = 15\n",
        "ville = 'Bordeaux'\n",
        "\n",
        "print('Il fait ' + str(temp) + '°C à ' + str(heure) + 'h à ' + str(ville) + '.')\n",
        "print(f'Il fait {temp}°C à {heure}h à {ville}.')"
      ]
    },
    {
      "cell_type": "markdown",
      "source": [
        "Il est possible de mettre en forme les nombres rapidement pour plus de lisibilité avec la syntaxe `{variable: .2f}` pour spécifier le nombre de chiffres après la virgule de `variable` (ici, 2)  ou encore `{variable: .2e}` pour afficher un nombre en notation scientifique (toujours avec 2 chiffres après la virgule).\n"
      ],
      "metadata": {
        "id": "-UlxBiIAZhDY"
      }
    },
    {
      "cell_type": "markdown",
      "source": [
        "**Exercice**  Prédisez le résultat des instructions suivantes, puis vérifiez en tappant les instructions\n",
        "\n",
        "`'A'+'B'` \\\n",
        "`str(25)*2` \\\n",
        "`str(4) * int(\"3\")` \\\n",
        "`'A'*2` \\\n"
      ],
      "metadata": {
        "id": "MS51DFWD84GC"
      }
    },
    {
      "cell_type": "code",
      "source": [],
      "metadata": {
        "id": "jTzhpfIR9Gbu"
      },
      "execution_count": null,
      "outputs": []
    },
    {
      "cell_type": "markdown",
      "metadata": {
        "id": "e9W9KF-bgiaU"
      },
      "source": [
        "**Exercice** Affichez de deux manières différentes la chaine de caractère suivante, avec une notation scientifique pour `co2` : `\"L'activité X génère X de tonnes de CO2 par an, soit X% des émissions mondiales\"`"
      ]
    },
    {
      "cell_type": "code",
      "execution_count": null,
      "metadata": {
        "id": "pZQtl4_4hYtY"
      },
      "outputs": [],
      "source": [
        "activite = 'trafic aerien'\n",
        "co2 = 1e9\n",
        "prct = 3\n",
        "\n"
      ]
    },
    {
      "cell_type": "markdown",
      "metadata": {
        "id": "XylS5zG8vDDf"
      },
      "source": [
        "Nous pouvons également mentioner un autre type dont nous n'allons pas discuter en détail ici, **les dictionnaires** ou *dicts*.\n",
        "Les dictionnaires permettent d'associer une clé ou *key* à une ou des valeurs. Ils sont définits avec des accolades : `dico = {'key1': value1, 'key2': value2}`"
      ]
    },
    {
      "cell_type": "code",
      "execution_count": 42,
      "metadata": {
        "colab": {
          "base_uri": "https://localhost:8080/"
        },
        "id": "sZDN60WCvzP3",
        "outputId": "2df5fb1e-c0d2-44b1-cbc6-ede67b3da4a0"
      },
      "outputs": [
        {
          "output_type": "execute_result",
          "data": {
            "text/plain": [
              "{'bouleau': 154, 'platane': 78, 'tilleul': 19}"
            ]
          },
          "metadata": {},
          "execution_count": 42
        }
      ],
      "source": [
        "mon_dict = {'bouleau': 154, 'platane' : 78, 'tilleul': 19}\n",
        "mon_dict"
      ]
    },
    {
      "cell_type": "markdown",
      "metadata": {
        "id": "Xl2__XWJssCQ"
      },
      "source": [
        "# **Boucles et comparaisons**"
      ]
    },
    {
      "cell_type": "markdown",
      "metadata": {
        "id": "W7y-5yx5Q-zy"
      },
      "source": [
        "## **Le conditionnel `if`, `else`**"
      ]
    },
    {
      "cell_type": "markdown",
      "metadata": {
        "id": "oaUdRs0s1ysV"
      },
      "source": [
        "Comme leur nom l'indique, les conditionnels permettent d'exécuter du code en fonction du fait qu'une condition soit vraie ou fausse.\n",
        "\n",
        "On note le conditionnel `if `suivi de la condition et de deux points (`:`). Si la condition est vérifiée, les lignes de codes indentées sont exécutées, sinon ces intructions sont sautées :\n",
        "```\n",
        "if condition :\n",
        "  instructions1\n",
        "\n",
        "```\n",
        "\n",
        "Comme dans d'autres langages, Python prend en charge `if` et `else`, mais `else if` est abrégé en `elif`, comme le montre l'exemple ci-dessous :"
      ]
    },
    {
      "cell_type": "code",
      "execution_count": 43,
      "metadata": {
        "colab": {
          "base_uri": "https://localhost:8080/"
        },
        "id": "xC_DMZjofoYZ",
        "outputId": "2aad3470-53f0-4cba-e118-82e03b6551a2"
      },
      "outputs": [
        {
          "output_type": "stream",
          "name": "stdout",
          "text": [
            "negatif\n"
          ]
        }
      ],
      "source": [
        "variable = -5\n",
        "if variable < 0:\n",
        "  print(\"negatif\")\n",
        "elif variable == 0:\n",
        "  print(\"nul\")\n",
        "else: # variable > 0\n",
        "  print(\"positif\")"
      ]
    },
    {
      "cell_type": "markdown",
      "metadata": {
        "id": "PJb-L6fGfSJK"
      },
      "source": [
        "Voici les principaux opérateurs de comparaison utilisés pour les conditions :\n",
        "*   `==` égal à\n",
        "*   `!=` différent de\n",
        "*   `>` strictement supérieur à\n",
        "*   `>=` supérieur ou égal à\n",
        "*    `<` inférieur à\n",
        "*    `>=` inférieur ou égal à\n",
        "\n",
        "*  `in`and `not in`"
      ]
    },
    {
      "cell_type": "markdown",
      "metadata": {
        "id": "KDusuSHEhOHc"
      },
      "source": [
        "On peut également faire des tests multiples pour tester plusieurs conditions avec des opérateurs booléens `or` et `and` :"
      ]
    },
    {
      "cell_type": "code",
      "execution_count": 44,
      "metadata": {
        "colab": {
          "base_uri": "https://localhost:8080/"
        },
        "id": "BRdBw11CiHnc",
        "outputId": "238d2d3f-26f5-4377-d792-e0c4cf6fc622"
      },
      "outputs": [
        {
          "output_type": "stream",
          "name": "stdout",
          "text": [
            "Multiple de 3 et de 2\n"
          ]
        }
      ],
      "source": [
        "val = 6\n",
        "\n",
        "if val%3 == 0 and val%2 == 0:\n",
        "  print('Multiple de 3 et de 2')\n",
        "elif val%3 == 0 or val%2 == 0:\n",
        "  print('Multiple soit de 3 soit de 2')"
      ]
    },
    {
      "cell_type": "markdown",
      "metadata": {
        "id": "qTkQ2F_jy8wz"
      },
      "source": [
        "*NB.* Contrairement à d'autres langages, les blocs de code sont délimités par l'indentation. Ici, nous utilisons une indentation de 2 espaces, mais de nombreux programmeurs utilisent également une indentation de 4 espaces. Les deux sont acceptables, tant que vous restez cohérents dans tout votre code. On peut également utiliser la touche Tab pour indenter."
      ]
    },
    {
      "cell_type": "markdown",
      "source": [
        "On peut imbriquer des conditionnels autant qu'on le souhaite, en indentant à chaque fois :"
      ],
      "metadata": {
        "id": "PPrrBYL76-9Z"
      }
    },
    {
      "cell_type": "code",
      "source": [
        "# Nombre à classifier\n",
        "nombre = 4\n",
        "\n",
        "# Vérification de la classification\n",
        "if nombre > 0:  # Vérifie si le nombre est positif\n",
        "    if nombre % 2 == 0:  # Vérifie si le nombre est pair\n",
        "        print(\"Le nombre est positif et pair.\")\n",
        "    else:  # Si le nombre n'est pas pair\n",
        "        print(\"Le nombre est positif et impair.\")\n",
        "elif nombre < 0:  # Vérifie si le nombre est négatif\n",
        "    if nombre % 2 == 0:  # Vérifie si le nombre est pair\n",
        "        print(\"Le nombre est négatif et pair.\")\n",
        "    else:  # Si le nombre n'est pas pair\n",
        "        print(\"Le nombre est négatif et impair.\")\n",
        "else:  # Si le nombre est zéro\n",
        "    print(\"Le nombre est zéro.\")"
      ],
      "metadata": {
        "colab": {
          "base_uri": "https://localhost:8080/"
        },
        "id": "D8M41tlJ5oBO",
        "outputId": "890723c9-308b-4db9-8e5b-79c7965aad8f"
      },
      "execution_count": 45,
      "outputs": [
        {
          "output_type": "stream",
          "name": "stdout",
          "text": [
            "Le nombre est positif et pair.\n"
          ]
        }
      ]
    },
    {
      "cell_type": "markdown",
      "metadata": {
        "id": "UUTKl0kBlf9-"
      },
      "source": [
        "**Exercice**\n",
        "Ecrivez un programme qui affiche la mention obtenue selon la note:\n",
        "*   Si la note est entre 16 et 20, mention 'Très bien'\n",
        "*   Si la note est entre 14 et 16, mention 'Bien'\n",
        "*   Si la note est entre 12 et 14, mention 'Assez bien'\n",
        "*   Si la note est en dessous de 12, 'Pas de mention'\n",
        "*   Vous pouvez également gérer les cas non pris en charge ici en affichant un message d'erreur si la note est négative ou supérieure à 20.\n"
      ]
    },
    {
      "cell_type": "code",
      "execution_count": null,
      "metadata": {
        "id": "msOabWduUNKL"
      },
      "outputs": [],
      "source": []
    },
    {
      "cell_type": "markdown",
      "metadata": {
        "id": "clWaFCzBMfkv"
      },
      "source": [
        "## **Les boucles ou *loops***"
      ]
    },
    {
      "cell_type": "markdown",
      "metadata": {
        "id": "_A5doqhTivWe"
      },
      "source": [
        "En programmation, nous sommes souvent amenés à répéter un même bloc d'instructions plusieurs fois. Les boucles permettent de réaliser cette tâche de manière compacte. Il existe deux types principaux de boucles : les boucles `while` et les boucles `for`."
      ]
    },
    {
      "cell_type": "markdown",
      "metadata": {
        "id": "YN8lwTxQkGEa"
      },
      "source": [
        "### La boucle `while`"
      ]
    },
    {
      "cell_type": "markdown",
      "metadata": {
        "id": "WMcdeWmMkxlp"
      },
      "source": [
        "Une série d’instructions est exécutée tant qu’une condition est vraie.\\\n",
        "Il faut trois éléments pour faire tourner une boucle while:\n",
        "*   Initialiser la variable d'itération\n",
        "*   Tester la condition\n",
        "*   Mettre à jour la variable d'itération\n",
        "\n"
      ]
    },
    {
      "cell_type": "code",
      "execution_count": 46,
      "metadata": {
        "colab": {
          "base_uri": "https://localhost:8080/"
        },
        "id": "gnL3MlmpmC79",
        "outputId": "a825adfa-68d7-4148-9cdc-e5275ffcf4a4"
      },
      "outputs": [
        {
          "output_type": "stream",
          "name": "stdout",
          "text": [
            "1\n",
            "2\n",
            "3\n",
            "4\n",
            "5\n",
            "6\n",
            "7\n",
            "8\n",
            "9\n"
          ]
        }
      ],
      "source": [
        "i = 1      # Initialisation de la variable d'itération\n",
        "while i < 10:   # Test de la variable\n",
        "  print(i)\n",
        "  i += 1          # Mise à jour de la variable"
      ]
    },
    {
      "cell_type": "markdown",
      "metadata": {
        "id": "wtbAdwSPmcyY"
      },
      "source": [
        "*NB.* Il faut faire attention au test et à l'incrémentation utilisée: si la variable n'est pas mise à jour ou la condition ne peux jamais être atteinte, la boucle va tourner à l'infini. Dans ce cas là, une seule solution: interrompre  l'exécution.\n",
        "\n",
        "*NB.* Notez la synthaxe pour incrémenter `i`: il s'agit simplement d'une forme plus compacte de `i = i + 1`. Cette notation peut être dérivée avec d'autres opérateurs et valeurs d'incrémentation, par exemple `i *= 3` qui multiplira la valeur de `i` par 3 à chaque itération."
      ]
    },
    {
      "cell_type": "markdown",
      "metadata": {
        "id": "7u06bimYnOQ_"
      },
      "source": [
        "**Exercice**\n",
        "Ecrire un programme qui utilise une boucle `while` pour calculer la somme des nombres de 1 à 100 et affiche le résultat."
      ]
    },
    {
      "cell_type": "code",
      "execution_count": 2,
      "metadata": {
        "id": "gg3udjw8n4FK"
      },
      "outputs": [],
      "source": []
    },
    {
      "cell_type": "markdown",
      "metadata": {
        "id": "8mEI_ocfkSvZ"
      },
      "source": [
        "### La boucle `for`"
      ]
    },
    {
      "cell_type": "markdown",
      "metadata": {
        "id": "f6XAttqcntc4"
      },
      "source": [
        "Dans une boucle `for`, on itère sur une séquence (une liste, une chaine de caractères, des nombres...)."
      ]
    },
    {
      "cell_type": "markdown",
      "metadata": {
        "id": "k6G2eeVJs9FQ"
      },
      "source": [
        "On peut par exemple itérer sur les éléments d'une liste:"
      ]
    },
    {
      "cell_type": "code",
      "execution_count": 47,
      "metadata": {
        "colab": {
          "base_uri": "https://localhost:8080/"
        },
        "id": "2QObx5mckMcI",
        "outputId": "869a8a29-6a08-4c2b-eeb3-fa8ac6788332"
      },
      "outputs": [
        {
          "output_type": "stream",
          "name": "stdout",
          "text": [
            "eau\n",
            "air\n",
            "sol\n",
            "énergie\n"
          ]
        }
      ],
      "source": [
        "ma_liste = ['eau', 'air', 'sol', 'énergie']\n",
        "for elem in ma_liste:\n",
        "  print(elem)"
      ]
    },
    {
      "cell_type": "markdown",
      "metadata": {
        "id": "oEZoCgMMt0cr"
      },
      "source": [
        "La fonction `range()` est très utilisée dans les boucles `for` : elle est utilisée pour générer une séquence de nombres. `range(n)` génère les nombres de `0` à `n-1` ;  `range(a, b)` produira les nombres de `a` à `b-1`.\n",
        "\n"
      ]
    },
    {
      "cell_type": "code",
      "execution_count": 48,
      "metadata": {
        "colab": {
          "base_uri": "https://localhost:8080/"
        },
        "id": "uLmLKBPltpDN",
        "outputId": "75665af4-96dc-4839-ce01-60c170fb05e8"
      },
      "outputs": [
        {
          "output_type": "stream",
          "name": "stdout",
          "text": [
            "0\n",
            "1\n",
            "2\n",
            "3\n",
            "4\n"
          ]
        }
      ],
      "source": [
        "for i in range(5):\n",
        "  print(i)"
      ]
    },
    {
      "cell_type": "markdown",
      "source": [
        "On peut donc itèrer sur les indices d'une liste, en combinant `len()` et `range()` qui permet de générer une séquence de nombre de la taille de la liste :"
      ],
      "metadata": {
        "id": "Wb9iwX308_RZ"
      }
    },
    {
      "cell_type": "code",
      "execution_count": 49,
      "metadata": {
        "colab": {
          "base_uri": "https://localhost:8080/"
        },
        "id": "Ge3ce1ucw2Kz",
        "outputId": "8a6810a6-2dad-4705-a470-1b4cc3d41739"
      },
      "outputs": [
        {
          "output_type": "stream",
          "name": "stdout",
          "text": [
            "Indice : 0\n",
            "Element : eau\n",
            "Indice : 1\n",
            "Element : air\n",
            "Indice : 2\n",
            "Element : sol\n",
            "Indice : 3\n",
            "Element : énergie\n"
          ]
        }
      ],
      "source": [
        "for i in range(len(ma_liste)):\n",
        "  print('Indice :', i)\n",
        "  print('Element :', ma_liste[i])"
      ]
    },
    {
      "cell_type": "markdown",
      "source": [
        "*NB.* Notez que la variable`i` utilisée dans la boucle `for` ne doit pas être modifiée dans la boucle, et qu'en cas de boucles `for` imbriquées on choisira des noms de variables itératives différents."
      ],
      "metadata": {
        "id": "Si-dOZa8_zAJ"
      }
    },
    {
      "cell_type": "code",
      "source": [
        "# Table de multiplication\n",
        "\n",
        "for i in range(1, 6):\n",
        "    for j in range(1, 6):\n",
        "        produit = i * j\n",
        "        print(f\"{i} x {j} = {produit}\")"
      ],
      "metadata": {
        "colab": {
          "base_uri": "https://localhost:8080/"
        },
        "id": "RJ1oj2mtAZIS",
        "outputId": "b1f5429d-4a87-4acf-cc64-75b3124ffd47"
      },
      "execution_count": 50,
      "outputs": [
        {
          "output_type": "stream",
          "name": "stdout",
          "text": [
            "1 x 1 = 1\n",
            "1 x 2 = 2\n",
            "1 x 3 = 3\n",
            "1 x 4 = 4\n",
            "1 x 5 = 5\n",
            "2 x 1 = 2\n",
            "2 x 2 = 4\n",
            "2 x 3 = 6\n",
            "2 x 4 = 8\n",
            "2 x 5 = 10\n",
            "3 x 1 = 3\n",
            "3 x 2 = 6\n",
            "3 x 3 = 9\n",
            "3 x 4 = 12\n",
            "3 x 5 = 15\n",
            "4 x 1 = 4\n",
            "4 x 2 = 8\n",
            "4 x 3 = 12\n",
            "4 x 4 = 16\n",
            "4 x 5 = 20\n",
            "5 x 1 = 5\n",
            "5 x 2 = 10\n",
            "5 x 3 = 15\n",
            "5 x 4 = 20\n",
            "5 x 5 = 25\n"
          ]
        }
      ]
    },
    {
      "cell_type": "markdown",
      "metadata": {
        "id": "0b48MbSKiify"
      },
      "source": [
        "**Exercice** Ecrire un programme qui utilise une boucle `for` pour calculer la somme des nombres de 1 à 100 et affiche le résultat."
      ]
    },
    {
      "cell_type": "code",
      "execution_count": null,
      "metadata": {
        "id": "T9ze4rYgjIcz"
      },
      "outputs": [],
      "source": []
    },
    {
      "cell_type": "markdown",
      "metadata": {
        "id": "bMSHfQL7UY3N"
      },
      "source": [
        "**Exercice** Ecrire un programme qui calcule la moyenne de la liste `L = [14, 16, 87, -45, 2]`"
      ]
    },
    {
      "cell_type": "code",
      "source": [],
      "metadata": {
        "id": "byVZkQPgbXW_"
      },
      "execution_count": null,
      "outputs": []
    },
    {
      "cell_type": "markdown",
      "metadata": {
        "id": "cq-2C-Exo6bp"
      },
      "source": [
        "*NB.* On utlise plus fréquemment la boucle `for` que la boucle `while` pour le genre de problème présenté ci-dessus, où la boucle `for` permet un code plus compact et lisible.\n",
        "\n",
        "La boucle `while` est utilisée lorsque l'on ne connait pas à l'avance le nombre d'itérations qui sera nécessaire à la résolution de la condition, par exemple, à partir de quel nombre la somme des entiers consécutifs de 1 à N dépasse 5000?"
      ]
    },
    {
      "cell_type": "markdown",
      "source": [
        "**Exercice** À partir de quel nombre la somme des entiers consécutifs de 1 à N dépasse 5000 ?"
      ],
      "metadata": {
        "id": "IF055M9mba9x"
      }
    },
    {
      "cell_type": "code",
      "execution_count": 2,
      "metadata": {
        "id": "D-iA47RJp2mi"
      },
      "outputs": [],
      "source": []
    },
    {
      "cell_type": "markdown",
      "metadata": {
        "id": "IqAt8k-rV8Gj"
      },
      "source": [
        "### **Création de liste par itération**"
      ]
    },
    {
      "cell_type": "markdown",
      "metadata": {
        "id": "w0peZs7vWD9C"
      },
      "source": [
        "On peut maintenant imaginer comment créer des listes par itération, en combinant une boucle `for` à la méthode `.append()`:"
      ]
    },
    {
      "cell_type": "code",
      "execution_count": 51,
      "metadata": {
        "colab": {
          "base_uri": "https://localhost:8080/"
        },
        "id": "yAO1olrtWSAQ",
        "outputId": "5d575bac-3319-481c-8a4d-45d8257d5a93"
      },
      "outputs": [
        {
          "output_type": "execute_result",
          "data": {
            "text/plain": [
              "[0, 1, 4, 9, 16, 25, 36, 49, 64, 81, 100]"
            ]
          },
          "metadata": {},
          "execution_count": 51
        }
      ],
      "source": [
        "l = []\n",
        "\n",
        "for i in range(11):\n",
        "  l.append(i**2)\n",
        "\n",
        "l"
      ]
    },
    {
      "cell_type": "markdown",
      "metadata": {
        "id": "6zuIOo8dWcxz"
      },
      "source": [
        "On a créé une liste contenant tous les carrés des nombres entre 0 et 10.\\\n",
        "Une manière équivalente de faire cela est d'utiliser la **compréhension de liste**, une méthode qui permet de générer des listes rapidement."
      ]
    },
    {
      "cell_type": "code",
      "execution_count": 52,
      "metadata": {
        "colab": {
          "base_uri": "https://localhost:8080/"
        },
        "id": "23c_s2KuWxoX",
        "outputId": "893526ad-ec43-4bc0-af03-cb0f7593f125"
      },
      "outputs": [
        {
          "output_type": "execute_result",
          "data": {
            "text/plain": [
              "[0, 1, 4, 9, 16, 25, 36, 49, 64, 81, 100]"
            ]
          },
          "metadata": {},
          "execution_count": 52
        }
      ],
      "source": [
        "l = [i**2 for i in range(11)]\n",
        "l"
      ]
    },
    {
      "cell_type": "markdown",
      "metadata": {
        "id": "0DOmnxhvXI-y"
      },
      "source": [
        "Et on peut même ajouter des conditions:\n"
      ]
    },
    {
      "cell_type": "code",
      "execution_count": 53,
      "metadata": {
        "colab": {
          "base_uri": "https://localhost:8080/"
        },
        "id": "fHiTeCGEXJgk",
        "outputId": "da7e5f29-7405-44c7-e46c-d4ab533a276d"
      },
      "outputs": [
        {
          "output_type": "stream",
          "name": "stdout",
          "text": [
            "[0, 4, 16, 36, 64, 100]\n",
            "[0, 4, 16, 36, 64, 100]\n"
          ]
        }
      ],
      "source": [
        "l = []\n",
        "\n",
        "for i in range(11):\n",
        "  if i%2 == 0:\n",
        "    l.append(i**2)\n",
        "print(l)\n",
        "\n",
        "l2 = [i**2 for i in range(11) if i%2 == 0]\n",
        "print(l2)"
      ]
    },
    {
      "cell_type": "markdown",
      "metadata": {
        "id": "P6DYJ_I7XZjd"
      },
      "source": [
        "Notez qu'avec cette syntaxe, il n'y a pas les deux points `:` après la condition."
      ]
    },
    {
      "cell_type": "markdown",
      "metadata": {
        "id": "V16wbwlOlJdW"
      },
      "source": [
        "**Exercice** Créez une liste qui contient tous les mutiples de 7 compris entre 0 et 120 de deux manières différentes (boucle `for`et compréhension de liste)"
      ]
    },
    {
      "cell_type": "code",
      "source": [],
      "metadata": {
        "id": "Szj8kvVPbnNz"
      },
      "execution_count": null,
      "outputs": []
    },
    {
      "cell_type": "markdown",
      "metadata": {
        "id": "jrQbCnn5M_91"
      },
      "source": [
        "*NB.* Il est possible d'itérer sur deux liste de même taille en simultanné avec l'utilisation de `zip()`:"
      ]
    },
    {
      "cell_type": "code",
      "execution_count": 54,
      "metadata": {
        "colab": {
          "base_uri": "https://localhost:8080/"
        },
        "id": "ZJAdJZ1eNOxU",
        "outputId": "ca9a0f0e-4c12-4180-a180-c3e92f690ecf"
      },
      "outputs": [
        {
          "output_type": "stream",
          "name": "stdout",
          "text": [
            "Patient: Alice, Âge: 30 ans, Pression artérielle: 120 mmHg.\n",
            "Patient: Bob, Âge: 45 ans, Pression artérielle: 135 mmHg.\n",
            "Patient: Charlie, Âge: 29 ans, Pression artérielle: 110 mmHg.\n",
            "Patient: David, Âge: 54 ans, Pression artérielle: 145 mmHg.\n"
          ]
        }
      ],
      "source": [
        "patients = ['Alice', 'Bob', 'Charlie', 'David']\n",
        "ages = [30, 45, 29, 54]\n",
        "pression_art = [120, 135, 110, 145]\n",
        "\n",
        "for patient, age, pression in zip(patients, ages, pression_art):\n",
        "    print(f\"Patient: {patient}, Âge: {age} ans, Pression artérielle: {pression} mmHg.\")"
      ]
    },
    {
      "cell_type": "markdown",
      "source": [
        "*NB.* On peut également itérer à la fois sur une liste et sur ses indices avec `enumerate()`:"
      ],
      "metadata": {
        "id": "5C3otmAPbrVy"
      }
    },
    {
      "cell_type": "code",
      "source": [
        "participants = ['Alice', 'Bob', 'Charlie', 'David', 'Manon']\n",
        "\n",
        "for i, participant in enumerate(participants):\n",
        "  if i+1 == 1:\n",
        "    print(f\"Le.la {i+1}er.e arrivé.e est {participant}\")\n",
        "  else:\n",
        "    print(f\"Le.la {i+1}ème arrivé.e est {participant}\")"
      ],
      "metadata": {
        "colab": {
          "base_uri": "https://localhost:8080/"
        },
        "id": "x9u3O5K0b6Gt",
        "outputId": "76fead65-8247-4052-fa7b-d2eed5a839e8"
      },
      "execution_count": 55,
      "outputs": [
        {
          "output_type": "stream",
          "name": "stdout",
          "text": [
            "Le.la 1er.e arrivé.e est Alice\n",
            "Le.la 2ème arrivé.e est Bob\n",
            "Le.la 3ème arrivé.e est Charlie\n",
            "Le.la 4ème arrivé.e est David\n",
            "Le.la 5ème arrivé.e est Manon\n"
          ]
        }
      ]
    },
    {
      "cell_type": "markdown",
      "metadata": {
        "id": "N9OjCfVxqIhb"
      },
      "source": [
        "# **Exercices** Boucles et comparaisons"
      ]
    },
    {
      "cell_type": "markdown",
      "metadata": {
        "id": "fOqtz0ewMq0N"
      },
      "source": [
        "### **Exercice 1** ADN complémentaire\n",
        "\n",
        "Ecrivez un code Python qui renvoie la séquence d'ADN complémentaire à celle donnée.\n",
        "Rappel: A <-> T, C <-> G."
      ]
    },
    {
      "cell_type": "code",
      "execution_count": 3,
      "metadata": {
        "id": "DdijhDsAOZNX"
      },
      "outputs": [],
      "source": []
    },
    {
      "cell_type": "markdown",
      "metadata": {
        "id": "a2MZFwMLqRa0"
      },
      "source": [
        "### **Exercice 2** Résolution équation du 2nd degré\n",
        "Ecrivez un programme qui lit des nombres entiers réels $a$, $b$ et $c$ et qui affiche la résolution de l'équation $ax^2 + bx + c = 0$.\n",
        "\n",
        "Distinguez les cas où $Δ > 0$, $Δ < 0$ et $Δ = 0$.\n",
        "\n",
        "*NB*: les nombres complexes se notent  `j`: `2 + 3j`, ce qui correspond à $2 + 3 i$.\n"
      ]
    },
    {
      "cell_type": "code",
      "execution_count": 3,
      "metadata": {
        "id": "lzeBh2ijMqlI"
      },
      "outputs": [],
      "source": []
    },
    {
      "cell_type": "markdown",
      "metadata": {
        "id": "_jBrxMs2PLrl"
      },
      "source": [
        "### **Exercice 3** Nombre premier ?\n",
        "Ecrivez un code qui indique si un nombre entier est un nombre premier. Par exemple, pour `n = 15`, le programme affichera `15 n'est pas un nombre premier`, et pour `n = 7`, le programme affichera `7 est un nombre premier`."
      ]
    },
    {
      "cell_type": "code",
      "execution_count": null,
      "metadata": {
        "id": "OToEJ4lHPK6B"
      },
      "outputs": [],
      "source": []
    },
    {
      "cell_type": "markdown",
      "metadata": {
        "id": "Qwm6Dga2Uscx"
      },
      "source": [
        "### **Exercice 4**\n",
        "Avec les fonctions `list()` et `range()`, créez la liste des entiers contenant les nombres entiers pairs de 2 à 20 inclus. Calculez ensuite le produit des nombres consécutifs deux à deux des entiers en utilisant une boucle."
      ]
    },
    {
      "cell_type": "code",
      "execution_count": 3,
      "metadata": {
        "id": "rVt1lvLeUr0w"
      },
      "outputs": [],
      "source": [
        "\n"
      ]
    },
    {
      "cell_type": "markdown",
      "metadata": {
        "id": "4-SrlI21Vz1l"
      },
      "source": [
        "### **Exercice 5**\n",
        "Ecrivez un programme qui supprime toutes les répétitions d'éléments de la liste `L = [0, 5, 8, 0, 4, 6, 9, 0, 1, 4, 3, 5, 1, 7]`"
      ]
    },
    {
      "cell_type": "code",
      "execution_count": 3,
      "metadata": {
        "id": "DZN3tDydV0L9"
      },
      "outputs": [],
      "source": []
    },
    {
      "cell_type": "markdown",
      "source": [
        "### **Exercice 6**\n",
        "1.  Ecrivez une fonction `puissance(x, n)` qui retourne la puissance `n` d'un nombre `x`.\n",
        "2.  Ecrivez une fonction `surface(r)` qui retourne la surface d'une sphère de rayon `r`en appelant la fonction `puissance()`.\n",
        "3.  Ecrivez une fonction `volume(r)`qui retourne le volume d'une sphère de rayon `r`en appelant la fonction `puissance()`."
      ],
      "metadata": {
        "id": "CX9PYpkgCkpB"
      }
    },
    {
      "cell_type": "code",
      "source": [],
      "metadata": {
        "id": "fKhU6iChYtdo"
      },
      "execution_count": null,
      "outputs": []
    },
    {
      "cell_type": "markdown",
      "metadata": {
        "id": "Jt3dmPNMj9Rj"
      },
      "source": [
        "\n",
        "\n",
        "---\n",
        "# **Séance 2**"
      ]
    },
    {
      "cell_type": "markdown",
      "metadata": {
        "id": "bNYTQj92tMo8"
      },
      "source": [
        "# **Les fonctions**"
      ]
    },
    {
      "cell_type": "markdown",
      "metadata": {
        "id": "zD5puFZo1zba"
      },
      "source": [
        "## **Définition**"
      ]
    },
    {
      "cell_type": "markdown",
      "metadata": {
        "id": "csOUdreEr23U"
      },
      "source": [
        "Nous avons déjà rencontré plusieurs fonctions dans ce cours, telles que `min()`, `sorted()`, `print()` ou `range()`. Ces fonctions, qui sont intégrées à Python, permettent d'**exécuter des actions spécifiques**. Elles fonctionnent toutes de manière similaire : vous passez zéro, une ou plusieurs valeurs entre parenthèses, appelées **arguments**. Ensuite, la fonction exécute son action et peut renvoyer un nouvel objet en résultat.\n",
        "\n",
        "L'utilisation des fonctions est particulièrement bénéfique, car elle permet d'**éviter la répétition de lignes de code**. En organisant le code en blocs logiques, les fonctions rendent celui-ci plus lisible et maintenable.\n",
        "\n",
        "À présent, nous allons explorer comment créer nos propres fonctions !"
      ]
    },
    {
      "cell_type": "markdown",
      "metadata": {
        "id": "BijpjG3dthzb"
      },
      "source": [
        "Pour définir une fonction, on utilise le mot-clé `def` suivi du nom de la fonction. Les éventuels arguements sont placés entre parenthèses, séparés par une virgule. On utlise les deux points et l'indentation, comme dans les boucles `for` et `if`, pour séparer le corps de la fonction du reste du code. Le mot-clé `return`, placé à la fin mais toujours dans le bloc d'indentation, permet de définir quelle variable est renvoyée par la fonction.\n",
        "\n",
        "\n",
        "```\n",
        "def nom_fonction(argument1, argument2):\n",
        "  ...\n",
        "  return X\n",
        "```\n",
        "\n",
        "\n",
        "\n"
      ]
    },
    {
      "cell_type": "code",
      "execution_count": null,
      "metadata": {
        "colab": {
          "base_uri": "https://localhost:8080/"
        },
        "id": "Z85E2THo1ceO",
        "outputId": "6fb7816d-9a79-40f3-c0a9-2a35dae0e970"
      },
      "outputs": [
        {
          "data": {
            "text/plain": [
              "25"
            ]
          },
          "execution_count": 86,
          "metadata": {},
          "output_type": "execute_result"
        }
      ],
      "source": [
        "def carre(x):\n",
        "  x_carre = x**2\n",
        "  return x_carre\n",
        "\n",
        "carre(5)"
      ]
    },
    {
      "cell_type": "markdown",
      "metadata": {
        "id": "GKvwujROveZs"
      },
      "source": [
        "On peut avoir des fonctions qui ne prennent pas d'argument ou/et qui ne renvoient rien :"
      ]
    },
    {
      "cell_type": "code",
      "execution_count": 56,
      "metadata": {
        "colab": {
          "base_uri": "https://localhost:8080/"
        },
        "id": "4e0P2qkWvshv",
        "outputId": "0cb96064-3956-4a22-848c-4ecb41ff34b5"
      },
      "outputs": [
        {
          "output_type": "stream",
          "name": "stdout",
          "text": [
            "Bonjour !\n"
          ]
        }
      ],
      "source": [
        "def hi():\n",
        "  print('Bonjour !')\n",
        "\n",
        "hi()"
      ]
    },
    {
      "cell_type": "markdown",
      "metadata": {
        "id": "TGNgCwQywStu"
      },
      "source": [
        "Nous pouvons renvoyer plusieurs objets, ou plus exactement une séquence d'objet, ou *tuple* (et oui, encore un nouveau type !). \\\n",
        "C'est assez intuitif, il suffit de séparer les objets à renvoyer par des virgules après `return` :"
      ]
    },
    {
      "cell_type": "code",
      "execution_count": 57,
      "metadata": {
        "colab": {
          "base_uri": "https://localhost:8080/"
        },
        "id": "smyU03y0wyFJ",
        "outputId": "2bdfc325-f4f2-4298-cfba-5487cb0e8583"
      },
      "outputs": [
        {
          "output_type": "execute_result",
          "data": {
            "text/plain": [
              "(8, 2)"
            ]
          },
          "metadata": {},
          "execution_count": 57
        }
      ],
      "source": [
        "def somme_diff(a,b):\n",
        "  somme = a + b\n",
        "  diff = a - b\n",
        "  return somme, diff\n",
        "\n",
        "somme_diff(5,3)"
      ]
    },
    {
      "cell_type": "markdown",
      "metadata": {
        "id": "ACVE7rPiw-BS"
      },
      "source": [
        "On peut ensuite récupérer chaque résultat dans une variable indépendante si cela est plus pratique :"
      ]
    },
    {
      "cell_type": "code",
      "execution_count": 58,
      "metadata": {
        "colab": {
          "base_uri": "https://localhost:8080/"
        },
        "id": "4Z8XSwdew-KT",
        "outputId": "0de186d5-a285-47d7-a454-14cb69c24749"
      },
      "outputs": [
        {
          "output_type": "stream",
          "name": "stdout",
          "text": [
            "8\n",
            "2\n"
          ]
        }
      ],
      "source": [
        "somme, diff = somme_diff(5,3)\n",
        "print(somme)\n",
        "print(diff)"
      ]
    },
    {
      "cell_type": "markdown",
      "metadata": {
        "id": "hbigZbL0xZ9j"
      },
      "source": [
        " Notez qu'il faut toujours passer le nombre d'arguments que la fonction attend, sinon cela génère une erreur."
      ]
    },
    {
      "cell_type": "code",
      "source": [
        "somme_diff(5)"
      ],
      "metadata": {
        "colab": {
          "base_uri": "https://localhost:8080/",
          "height": 141
        },
        "id": "7nxDRq8j9v_-",
        "outputId": "7f4344ad-806f-4c28-bd90-9ad9c1f8fc65"
      },
      "execution_count": 59,
      "outputs": [
        {
          "output_type": "error",
          "ename": "TypeError",
          "evalue": "somme_diff() missing 1 required positional argument: 'b'",
          "traceback": [
            "\u001b[0;31m---------------------------------------------------------------------------\u001b[0m",
            "\u001b[0;31mTypeError\u001b[0m                                 Traceback (most recent call last)",
            "\u001b[0;32m<ipython-input-59-20a748251a0d>\u001b[0m in \u001b[0;36m<cell line: 1>\u001b[0;34m()\u001b[0m\n\u001b[0;32m----> 1\u001b[0;31m \u001b[0msomme_diff\u001b[0m\u001b[0;34m(\u001b[0m\u001b[0;36m5\u001b[0m\u001b[0;34m)\u001b[0m\u001b[0;34m\u001b[0m\u001b[0;34m\u001b[0m\u001b[0m\n\u001b[0m",
            "\u001b[0;31mTypeError\u001b[0m: somme_diff() missing 1 required positional argument: 'b'"
          ]
        }
      ]
    },
    {
      "cell_type": "markdown",
      "metadata": {
        "id": "fsm_zob86Ne7"
      },
      "source": [
        "## **Les arguments positionnels et arguments par mot-clé**"
      ]
    },
    {
      "cell_type": "markdown",
      "metadata": {
        "id": "XSBFrito3S2A"
      },
      "source": [
        "Les arguments de fonction peuvent être passés de différentes manières, principalement sous forme **d'arguments positionnels** et **d'arguments mots-clés**.\n",
        "\n",
        "Les **arguments positionnels**, `fonction(arg1, arg2)`, comme ceux que nous avons utilisés jusqu'à présent, sont passés à la fonction en fonction de leur position dans la définition de la fonction. L'ordre des arguments est donc crucial. Ils doivent systèmatiquement être précisés lors de l'appel d'une fonction.\n",
        "\n",
        "Les **arguments mots-clés**, en revanche, ont une valeur spécifiée à la création de la fonction: `fonction(arg1=val1, arg2=val2)`. Cela permet de définir une valeur 'par défault' pour certains arguments, il n'est donc pas nécessaire de le préciser au moment d'appeler la fonction (il prendront alors la valeur définie par défault), mais ils peuvent tout de même être modifiés.\n"
      ]
    },
    {
      "cell_type": "markdown",
      "metadata": {
        "id": "BA4NtseU5li3"
      },
      "source": [
        "Lorsqu'il y a un mélange d’arguments positionnels et par mot-clé, on place toujours les arguements positionnels en premier. On peut passer les arguments par mot-clé dans un ordre arbitraire à partir du moment où on précise leur\n",
        "nom."
      ]
    },
    {
      "cell_type": "code",
      "execution_count": 60,
      "metadata": {
        "colab": {
          "base_uri": "https://localhost:8080/"
        },
        "id": "tq5QmpkL5lKQ",
        "outputId": "fe82f0c1-03c5-4654-a45e-9d8fa2ce0b08"
      },
      "outputs": [
        {
          "output_type": "execute_result",
          "data": {
            "text/plain": [
              "25"
            ]
          },
          "metadata": {},
          "execution_count": 60
        }
      ],
      "source": [
        "def puissance(x, p=2):\n",
        "  return x**p\n",
        "\n",
        "puissance(5)"
      ]
    },
    {
      "cell_type": "code",
      "execution_count": 61,
      "metadata": {
        "colab": {
          "base_uri": "https://localhost:8080/"
        },
        "id": "RDbRPtZH5sPz",
        "outputId": "0faaaeab-b9ad-4588-d697-856b6ff3a614"
      },
      "outputs": [
        {
          "output_type": "execute_result",
          "data": {
            "text/plain": [
              "64"
            ]
          },
          "metadata": {},
          "execution_count": 61
        }
      ],
      "source": [
        "puissance(4, p=3)"
      ]
    },
    {
      "cell_type": "code",
      "execution_count": 62,
      "metadata": {
        "colab": {
          "base_uri": "https://localhost:8080/"
        },
        "id": "AKSpCFbf9rhM",
        "outputId": "c7158549-1c28-48f6-d91a-3267a56f0ee3"
      },
      "outputs": [
        {
          "output_type": "stream",
          "name": "stdout",
          "text": [
            "1 1 1\n",
            "1 2 3\n",
            "4 5 6\n",
            "1 5 1\n"
          ]
        }
      ],
      "source": [
        "def fct(a=1, b=1, c=1):\n",
        "  print(a, b, c)\n",
        "\n",
        "fct()\n",
        "fct(b=2, c=3, a=1)\n",
        "fct(4, 5, 6)\n",
        "fct(b = 5)"
      ]
    },
    {
      "cell_type": "markdown",
      "metadata": {
        "id": "YaaJN_fc_Tan"
      },
      "source": [
        "## **Variables locales VS variables globales**\n",
        "\n",
        "Pour bien manipuler les fonctions, il est important de comprendre la différence entre les **variables dites locales et celles dites globales**.\n",
        "\n",
        "Une **variable locale** est définie à l'intérieur d'une fonction. Sa portée est limitée à cette fonction, elle n'est donc pas accessible en dehors de cette fonction.\n",
        "\n",
        "Une **variable globale** est définie dans le programme principal. Elle est accessible depuis n'importe quelle fonction et dans tout le programme."
      ]
    },
    {
      "cell_type": "code",
      "execution_count": 66,
      "metadata": {
        "colab": {
          "base_uri": "https://localhost:8080/"
        },
        "id": "jXW4S8HHAhKh",
        "outputId": "bc56cb2e-0f2c-4926-abea-e0abe45a43ce"
      },
      "outputs": [
        {
          "output_type": "stream",
          "name": "stdout",
          "text": [
            "6\n"
          ]
        }
      ],
      "source": [
        "def somme(a, b):\n",
        "  # Corps de la fonction: a, b et s sont des variables locales\n",
        "  s = a + b\n",
        "  print(s)\n",
        "\n",
        "# Programme pricipal: c et d sont des variables globales\n",
        "c = 4\n",
        "d = 2\n",
        "somme(c, d)\n",
        "#print(s)\n"
      ]
    },
    {
      "cell_type": "markdown",
      "metadata": {
        "id": "ubi5SYxtBFcD"
      },
      "source": [
        "On peut visualiser les variables en mémoire, dans le volet *Variables* ou {x}, en haut à gauche de l'écran. Vous verrez alors toutes les variables globales, accessibles depuis tout le programme. Les variables locales ne sont elles pas répertoriées."
      ]
    },
    {
      "cell_type": "code",
      "execution_count": 67,
      "metadata": {
        "colab": {
          "base_uri": "https://localhost:8080/"
        },
        "id": "orXSAyFVAS-u",
        "outputId": "f9556b49-b758-4462-d927-aa4f50ba7579"
      },
      "outputs": [
        {
          "output_type": "stream",
          "name": "stdout",
          "text": [
            "14\n"
          ]
        }
      ],
      "source": [
        "def somme_2(a, b):\n",
        "  # Corps de la fonction: a, b et s sont des variables locales\n",
        "  s = a + b + c\n",
        "  print(s)\n",
        "\n",
        "c = 2\n",
        "somme_2(7, 5)"
      ]
    },
    {
      "cell_type": "markdown",
      "metadata": {
        "id": "5Ol2FhVSBzCf"
      },
      "source": [
        "*NB.* Si une variable locale a le même nom qu'une variable globale, la variable locale prendra le pas sur la variable globale à l'intérieur de la fonction.\n",
        "\n",
        "*NB.* Si vous souhaitez modifier une variable globale à l'intérieur d'une fonction, vous pouvez utiliser le mot-clé `global`, mais nous déconseillons cette pratique."
      ]
    },
    {
      "cell_type": "markdown",
      "metadata": {
        "id": "TeHE-pdVC9BB"
      },
      "source": [
        "## **Bonnes pratiques**"
      ]
    },
    {
      "cell_type": "markdown",
      "metadata": {
        "id": "AjZWD9K3CiCu"
      },
      "source": [
        "Gardez en tête ces quelques règles quand vous manipulez des fonctions :\n",
        "\n",
        "\n",
        "*   1 fonction = 1 action !\n",
        "*   Attention à ne pas modifier vos variables globales dans vos fonctions, en particulier les listes\n"
      ]
    },
    {
      "cell_type": "code",
      "execution_count": 68,
      "metadata": {
        "colab": {
          "base_uri": "https://localhost:8080/"
        },
        "id": "9e3ASc4SDi8X",
        "outputId": "3a425793-078e-4f62-dd86-1df768858be4"
      },
      "outputs": [
        {
          "output_type": "stream",
          "name": "stdout",
          "text": [
            "[1, 2, 3, 4]\n"
          ]
        }
      ],
      "source": [
        "def fct(liste):\n",
        "  liste.append(4)\n",
        "\n",
        "ma_liste = [1,2,3]\n",
        "fct(ma_liste)\n",
        "print(ma_liste)"
      ]
    },
    {
      "cell_type": "code",
      "execution_count": 69,
      "metadata": {
        "colab": {
          "base_uri": "https://localhost:8080/"
        },
        "id": "f2xZX8etEEJK",
        "outputId": "49decde5-e13a-434f-e6bc-a4b97b324611"
      },
      "outputs": [
        {
          "output_type": "stream",
          "name": "stdout",
          "text": [
            "[1, 2, 3]\n"
          ]
        }
      ],
      "source": [
        "def fct_bonne_pratique(liste):\n",
        "  liste2 = liste[:]\n",
        "  liste2.append(4)\n",
        "  return liste2\n",
        "\n",
        "ma_liste = [1,2,3]\n",
        "nouvelle_liste = fct_bonne_pratique(ma_liste)\n",
        "print(ma_liste)"
      ]
    },
    {
      "cell_type": "markdown",
      "metadata": {
        "id": "4Ztq0EVsCXfZ"
      },
      "source": [
        "# **Exercices** Fonctions\n",
        "Nous allons mettre en pratique ce que nous avons appris !"
      ]
    },
    {
      "cell_type": "markdown",
      "metadata": {
        "id": "04c4YyxDCa1P"
      },
      "source": [
        "### **Exercice 1**\n",
        "Ecrivez une fonction qui calcule le factoriel d'un nombre `n`."
      ]
    },
    {
      "cell_type": "code",
      "execution_count": 3,
      "metadata": {
        "id": "oUnYtzigXX2V"
      },
      "outputs": [],
      "source": []
    },
    {
      "cell_type": "markdown",
      "metadata": {
        "id": "p4k7v9hdXYCE"
      },
      "source": [
        "### **Exercice 2** ADN again\n",
        "Créez une fonction `adn_comp(adn_seq)`qui prend en argument une séquence d'ADN `adn_seq` et qui retourne sa séquence complémentaire."
      ]
    },
    {
      "cell_type": "code",
      "execution_count": 3,
      "metadata": {
        "id": "sdYM4fwVZIpz"
      },
      "outputs": [],
      "source": []
    },
    {
      "cell_type": "markdown",
      "metadata": {
        "id": "NcRyLJRtZJv0"
      },
      "source": [
        "### **Exercice 3** PGCD\n",
        "Ecrivez une fonction `calcul_pgcd(a, b)` qui prend deux nombres entiers positifs `a` et `b` en arguments et renvoie leur Plus Grand Commun Diviseur (PGCD).\n",
        "\n",
        "Méthode de l'algorithme d'Euclide :\n",
        "*  Si `b = 0`, alors le PGCD est `a`\n",
        "*  Sinon, remplacez `a` par `b` et `b` par le reste de la division de a par b, puis répétez\n",
        "*  Assurez vous que le programme fonctionne quelque soit `a` et `b` entiers positifs\n",
        "\n",
        "Résulats attendus:\n",
        "*  si `a = 48` et `b = 18`, `PGCD = 6`\n",
        "*  si `a = 36` et `b = 24`, `PGCD = 12`"
      ]
    },
    {
      "cell_type": "code",
      "execution_count": 3,
      "metadata": {
        "id": "Q7xZXaZzXy4o"
      },
      "outputs": [],
      "source": []
    },
    {
      "cell_type": "markdown",
      "metadata": {
        "id": "GRCRph7NXytJ"
      },
      "source": [
        "### **Exercice 4** Fonction récursive\n",
        "Ecrivez une fonction qui calcule la somme des nombres de 0 à n de manière récursive (i.e. en appelant la fonction dans le corps de la fonction)."
      ]
    },
    {
      "cell_type": "code",
      "execution_count": 3,
      "metadata": {
        "id": "HrsqqiyIXyT2"
      },
      "outputs": [],
      "source": []
    },
    {
      "cell_type": "markdown",
      "metadata": {
        "id": "poCno4ffXyfE"
      },
      "source": [
        "### **Exercice 5**  Devine le nombre!\n",
        "Écrivez un programme qui génère un nombre entier aléatoire et demande à l'utilisateur de le deviner.\n",
        "1.  Générez un nombre secret : Utilisez le module random pour générer un nombre entier aléatoire entre 1 et 100 (`rd.randint(1, 100)`)\n",
        "2.  Demandez à l'utilisateur de deviner un nombre. Utilisez `input()` pour permettre à l'utilisateur de rentrer un nombre. Il faut convertir la valeur saisie par l'utilisateur en nombre entier avec `int()`\n",
        "3.  Fournissez des indices `Trop grand` ou `Trop petit` pour aider l'utilisateur à trouver le nom>bre\n",
        "4.  Répétez jusqu'à ce que l'utilisateur trouve le bon nombre : Continuez à demander à l'utilisateur de deviner jusqu'à ce qu'il trouve le nombre secret.\n",
        "5.  Comptez les essais : Affichez le nombre d'essais qu'il a fallu à l'utilisateur pour trouver le bon nombre."
      ]
    },
    {
      "cell_type": "code",
      "execution_count": 3,
      "metadata": {
        "id": "Hv7VhwrGWlhh"
      },
      "outputs": [],
      "source": []
    },
    {
      "cell_type": "markdown",
      "metadata": {
        "id": "oTV-_ZDhkA5_"
      },
      "source": [
        "\n",
        "---\n",
        "# **Séance 3 & 4**"
      ]
    },
    {
      "cell_type": "markdown",
      "metadata": {
        "id": "NgWIR2uVtQRx"
      },
      "source": [
        "# **Les modules**"
      ]
    },
    {
      "cell_type": "markdown",
      "metadata": {
        "id": "OJcMF75xxZFC"
      },
      "source": [
        "Les **modules**, ou bibliothèques (*librairies* en anglais) sont des programmes Python qui contiennent des **fonctions déjà prêtes** pour une très large variété d'applications. Nous allons en explorer quelques unes ici, mais sachez qu'il en existe des centaines d'autres.\n",
        "\n",
        "Sur Google Colab, les modules sont déjà préinstallés, il suffit donc de les 'appeler' pour s'en servir. Sur des environnements locaux, les modules les plus courrants sont généralement déjà installés."
      ]
    },
    {
      "cell_type": "markdown",
      "metadata": {
        "id": "8OCNoLY0yrC6"
      },
      "source": [
        "## **Importation**"
      ]
    },
    {
      "cell_type": "markdown",
      "metadata": {
        "id": "MsJccP1nyuBZ"
      },
      "source": [
        "Pour pouvoir utiliser un module, il faut au préalable l'importer à l'aide de `import`.\n",
        "\n",
        "Il existe plusieurs moyens pour importer un module ou les fonctions d'un module :"
      ]
    },
    {
      "cell_type": "markdown",
      "metadata": {
        "id": "HIVYXAbt27bs"
      },
      "source": [
        "1.   Importer toutes les fonctions du module avec `import module`.\n",
        "Pour appeler une fonction du module, il faudra alors préciser le nom du module suivi de la fonction `module.fonction()`"
      ]
    },
    {
      "cell_type": "code",
      "execution_count": 70,
      "metadata": {
        "colab": {
          "base_uri": "https://localhost:8080/"
        },
        "id": "vWTI8OcT285Q",
        "outputId": "e987b154-7332-4402-ffd2-05fe252c8358"
      },
      "outputs": [
        {
          "output_type": "execute_result",
          "data": {
            "text/plain": [
              "3.0"
            ]
          },
          "metadata": {},
          "execution_count": 70
        }
      ],
      "source": [
        "import math\n",
        "math.sqrt(9) # Fonction racine carrée"
      ]
    },
    {
      "cell_type": "markdown",
      "metadata": {
        "id": "pJD-8rV43dnJ"
      },
      "source": [
        "2.  Importer toutes les fonctions du module en précisant un alias sous lequel  on appelle le module : `import module as mod`. Pour appeler une fonction, on utilisera l'alias du module suivi du nom de la fonction: `mod.fonction()`"
      ]
    },
    {
      "cell_type": "code",
      "execution_count": 71,
      "metadata": {
        "colab": {
          "base_uri": "https://localhost:8080/"
        },
        "id": "I4JUWi1A32q6",
        "outputId": "733d57ab-7fd1-4d91-d127-842e8e3586f2"
      },
      "outputs": [
        {
          "output_type": "execute_result",
          "data": {
            "text/plain": [
              "3.0"
            ]
          },
          "metadata": {},
          "execution_count": 71
        }
      ],
      "source": [
        "import math as m\n",
        "m.sqrt(9)"
      ]
    },
    {
      "cell_type": "markdown",
      "metadata": {
        "id": "qjyqrQhS39fU"
      },
      "source": [
        "3.  Importer des fonctions spécifiques du module avec `from module import fonction`. On pourra alors appeler directement la fonction sans préciser le module."
      ]
    },
    {
      "cell_type": "code",
      "execution_count": 72,
      "metadata": {
        "colab": {
          "base_uri": "https://localhost:8080/"
        },
        "id": "mFjpzuhs4a8F",
        "outputId": "062cdc59-9326-41e0-e0ea-81096ac534ad"
      },
      "outputs": [
        {
          "output_type": "execute_result",
          "data": {
            "text/plain": [
              "3.0"
            ]
          },
          "metadata": {},
          "execution_count": 72
        }
      ],
      "source": [
        "from math import sqrt\n",
        "sqrt(9)"
      ]
    },
    {
      "cell_type": "markdown",
      "metadata": {
        "id": "MiBIE2YO4gek"
      },
      "source": [
        "4.  Importer toutes les fonctions du module sans préciser d'alias avec `from module import *`. On peut alors appeler toutes les fonctions d'un module directement sans préciser son nom."
      ]
    },
    {
      "cell_type": "code",
      "execution_count": 73,
      "metadata": {
        "id": "gQR2mQ3v442y",
        "colab": {
          "base_uri": "https://localhost:8080/"
        },
        "outputId": "0feedcbf-598f-43c7-aace-90559e1e8944"
      },
      "outputs": [
        {
          "output_type": "execute_result",
          "data": {
            "text/plain": [
              "3.0"
            ]
          },
          "metadata": {},
          "execution_count": 73
        }
      ],
      "source": [
        "from math import *\n",
        "sqrt(9)"
      ]
    },
    {
      "cell_type": "code",
      "execution_count": 74,
      "metadata": {
        "id": "zsbjujvtyto_"
      },
      "outputs": [],
      "source": [
        "from math import *\n",
        "from math import sin\n",
        "import math\n",
        "import math as m"
      ]
    },
    {
      "cell_type": "markdown",
      "metadata": {
        "id": "cUvU6aw96eAg"
      },
      "source": [
        "En pratique, les modules sont toujours importés avec le même alias par les programmeurs. Cela permet plus de lisibilité entre les utilisateurs. Dans un programme Python, les modules sont en principe importés au début, dans les premières lignes de code.\n",
        "\n",
        "Nous allons maintenant passer en revue des modules courrament utilisés. Notez que vous trouverez des documentations détaillées sur les sites internet de ces bibliothèques."
      ]
    },
    {
      "cell_type": "markdown",
      "metadata": {
        "id": "hc6Pxba86jMZ"
      },
      "source": [
        "### `math`"
      ]
    },
    {
      "cell_type": "markdown",
      "metadata": {
        "id": "SOOgHrDh6ntF"
      },
      "source": [
        "Comme son nom l'indique, le module `math` contient beaucoup de fonctions mathématiques comme `sin()`, `cos()`, `sqrt()`, `pi()`...\n"
      ]
    },
    {
      "cell_type": "code",
      "execution_count": 75,
      "metadata": {
        "id": "iQs58ljSp54W"
      },
      "outputs": [],
      "source": [
        "import math"
      ]
    },
    {
      "cell_type": "markdown",
      "metadata": {
        "id": "B8-xmAID6_F9"
      },
      "source": [
        "### `random` pour l'aléatoire"
      ]
    },
    {
      "cell_type": "markdown",
      "metadata": {
        "id": "dLnpeR5F7CRV"
      },
      "source": [
        "Le module `random` permet de gérer l'aléatoire en Python, notamment pour créer des listes de nombres aléatoires."
      ]
    },
    {
      "cell_type": "code",
      "execution_count": 76,
      "metadata": {
        "colab": {
          "base_uri": "https://localhost:8080/"
        },
        "id": "eS7BqPGn7BwI",
        "outputId": "1803963d-9720-42e1-b84a-c2e2a4d2cc25"
      },
      "outputs": [
        {
          "output_type": "execute_result",
          "data": {
            "text/plain": [
              "41"
            ]
          },
          "metadata": {},
          "execution_count": 76
        }
      ],
      "source": [
        "import random as rd\n",
        "\n",
        "rd.randint(10,100) # Génère un nombre entier aléatoire entre 10 et 100"
      ]
    },
    {
      "cell_type": "markdown",
      "metadata": {
        "id": "-bA1H-8z7iYr"
      },
      "source": [
        "### `numpy` pour le calcul numérique et matriciel"
      ]
    },
    {
      "cell_type": "markdown",
      "metadata": {
        "id": "NwgNaeZZ8d-V"
      },
      "source": [
        "Le module`numpy` est une bibliothèque fondamentale pour le calcul numérique et la gestion de matrices. Il fournit une structure de données appelée *array*, similaire à des tableaux multidimensionnels.\n",
        "\n",
        "Nous y reviendrons plus en détail par la suite.\n",
        "\n",
        "On l'importe en général avec `np` :"
      ]
    },
    {
      "cell_type": "code",
      "execution_count": 77,
      "metadata": {
        "id": "9RLGBdXo7MDu"
      },
      "outputs": [],
      "source": [
        "import numpy as np"
      ]
    },
    {
      "cell_type": "markdown",
      "metadata": {
        "id": "nV914LgT9KFU"
      },
      "source": [
        "### `Matplolib` pour les graphiques"
      ]
    },
    {
      "cell_type": "markdown",
      "metadata": {
        "id": "W3NTVYa87pux"
      },
      "source": [
        "Le module `matplotlib` est utilisé pour générer des graphiques. Il permet de créer une large variété de graphes, les personnaliser etc. Nous y reviendrons également plus en détail.\n",
        "\n",
        "On l'importe en géréral avec l'alias `plt`:"
      ]
    },
    {
      "cell_type": "code",
      "execution_count": 78,
      "metadata": {
        "id": "Ygpfs2427p6p"
      },
      "outputs": [],
      "source": [
        "import matplotlib.pyplot as plt"
      ]
    },
    {
      "cell_type": "markdown",
      "source": [
        "### `pandas` pour la manipulation de données"
      ],
      "metadata": {
        "id": "GuY3Fz-3FGjk"
      }
    },
    {
      "cell_type": "markdown",
      "source": [
        "Le module `pandas` est utilisé pour gérer des tableaux de données 2D de structure similaire à une feuille de calcul (type .csv ou excel)."
      ],
      "metadata": {
        "id": "ddlE2ZmWJhLy"
      }
    },
    {
      "cell_type": "code",
      "source": [
        "import pandas as pd"
      ],
      "metadata": {
        "id": "2pSNS2meJW77"
      },
      "execution_count": 79,
      "outputs": []
    },
    {
      "cell_type": "markdown",
      "metadata": {
        "id": "rTvZ60b69ZTr"
      },
      "source": [
        "### Et d'autres..."
      ]
    },
    {
      "cell_type": "markdown",
      "metadata": {
        "id": "KMM2RREK9cf8"
      },
      "source": [
        "On peut aussi citer `time` pour la gestion du temps, `os` pour gérer les répertoires..."
      ]
    },
    {
      "cell_type": "markdown",
      "metadata": {
        "id": "QsVOpwL4BC4t"
      },
      "source": [
        "**Exercice**\n",
        "\n",
        "En utilisant les notations montrées précédemment :\n",
        "*  Importez le module `math`, affichez la valeur de π (`pi()`)\n",
        "*  Importez le module `random` et affichez un nombre aléatoire entre 20 et 150 (`randint()`)"
      ]
    },
    {
      "cell_type": "code",
      "execution_count": null,
      "metadata": {
        "id": "xtaQo-ajBCRU"
      },
      "outputs": [],
      "source": []
    },
    {
      "cell_type": "markdown",
      "metadata": {
        "id": "h0o-iLMJ_Gs3"
      },
      "source": [
        "## **`NumPy`**"
      ]
    },
    {
      "cell_type": "markdown",
      "metadata": {
        "id": "_4j0QTcAcG66"
      },
      "source": [
        "### **Création d'*array***"
      ]
    },
    {
      "cell_type": "markdown",
      "metadata": {
        "id": "LSS2wEnkq97n"
      },
      "source": [
        "[NumPy](https://numpy.org/doc/stable/reference/index.html#) permet de générer des objets de type *array*, qui correspond à des tableaux à n-dimensions. Au contraire des listes, les éléments des *array* doivent être de même type et la taille d'un *array* est définie à leur création.\n",
        "\n",
        "On peut créer un *array* à partir d'une liste :"
      ]
    },
    {
      "cell_type": "code",
      "execution_count": 80,
      "metadata": {
        "colab": {
          "base_uri": "https://localhost:8080/"
        },
        "id": "Hfeg286yrLvJ",
        "outputId": "9d0c8f63-d62e-46dc-e7ee-a083bd19df94"
      },
      "outputs": [
        {
          "output_type": "execute_result",
          "data": {
            "text/plain": [
              "array([1, 2, 3])"
            ]
          },
          "metadata": {},
          "execution_count": 80
        }
      ],
      "source": [
        "my_array = np.array([1, 2, 3])\n",
        "my_array"
      ]
    },
    {
      "cell_type": "markdown",
      "metadata": {
        "id": "Sy2EvrxFriAG"
      },
      "source": [
        "Sur cet exemple, on a créé un array 1D, similaire à un vecteur.\n",
        "\n",
        "On peut créer des objets 2D, comparables à une matrice :"
      ]
    },
    {
      "cell_type": "code",
      "execution_count": 81,
      "metadata": {
        "colab": {
          "base_uri": "https://localhost:8080/"
        },
        "id": "wM-GYVMsrzNs",
        "outputId": "4a022163-a8bd-4896-cd2d-126921981fee"
      },
      "outputs": [
        {
          "output_type": "execute_result",
          "data": {
            "text/plain": [
              "array([[1, 2, 3],\n",
              "       [4, 5, 6]])"
            ]
          },
          "metadata": {},
          "execution_count": 81
        }
      ],
      "source": [
        "my_2d_array = np.array([[1, 2, 3], [4, 5, 6]])\n",
        "my_2d_array"
      ]
    },
    {
      "cell_type": "markdown",
      "metadata": {
        "id": "G8CDdL4Hc1xV"
      },
      "source": [
        "On peut également utiliser la fonction `np.arange()` pour créer une *array* 1D contenant une séquence de nombres :"
      ]
    },
    {
      "cell_type": "code",
      "execution_count": 82,
      "metadata": {
        "colab": {
          "base_uri": "https://localhost:8080/"
        },
        "id": "Dux9PvBPc2BQ",
        "outputId": "1cf157be-d773-4d44-976e-3be7ab99e04c"
      },
      "outputs": [
        {
          "output_type": "execute_result",
          "data": {
            "text/plain": [
              "array([1, 2, 3, 4, 5, 6, 7, 8, 9])"
            ]
          },
          "metadata": {},
          "execution_count": 82
        }
      ],
      "source": [
        "np.arange(1,10)"
      ]
    },
    {
      "cell_type": "markdown",
      "metadata": {
        "id": "WueaRIONuTdS"
      },
      "source": [
        "Et créer des arrays ne contenant que des zéros :"
      ]
    },
    {
      "cell_type": "code",
      "execution_count": 83,
      "metadata": {
        "colab": {
          "base_uri": "https://localhost:8080/"
        },
        "id": "jbD8N1UauK8r",
        "outputId": "5d943077-5dd3-485d-e948-fabbdcd688a4"
      },
      "outputs": [
        {
          "output_type": "execute_result",
          "data": {
            "text/plain": [
              "array([[0., 0., 0.],\n",
              "       [0., 0., 0.]])"
            ]
          },
          "metadata": {},
          "execution_count": 83
        }
      ],
      "source": [
        "zero_array = np.zeros((2, 3))  # syntaxe: np.zeros( (nb_lignes, nb_colonnes) )\n",
        "zero_array"
      ]
    },
    {
      "cell_type": "markdown",
      "metadata": {
        "id": "vn5go6qoudo4"
      },
      "source": [
        "et de la même manière avec que des 1 en utilisant `np.ones()` à la place de `np.zeros()`."
      ]
    },
    {
      "cell_type": "markdown",
      "metadata": {
        "id": "f1JtqFSivJKG"
      },
      "source": [
        "Une autre méthode couramment utilisée est `np.linspace()` pour créer un array de valeurs linéairement distribuées dans un intervalle.\n",
        "\n",
        "Par exemple, pour créer 10 valeurs dans l'intervalle `[0, 1]`, on pourra utiliser :"
      ]
    },
    {
      "cell_type": "code",
      "execution_count": 84,
      "metadata": {
        "colab": {
          "base_uri": "https://localhost:8080/"
        },
        "id": "udHHjGAHvOQM",
        "outputId": "abd9f508-8ca7-4144-f8fd-91ae385da7bf"
      },
      "outputs": [
        {
          "output_type": "execute_result",
          "data": {
            "text/plain": [
              "array([0.        , 0.11111111, 0.22222222, 0.33333333, 0.44444444,\n",
              "       0.55555556, 0.66666667, 0.77777778, 0.88888889, 1.        ])"
            ]
          },
          "metadata": {},
          "execution_count": 84
        }
      ],
      "source": [
        "np.linspace(0, 1, 10)"
      ]
    },
    {
      "cell_type": "markdown",
      "metadata": {
        "id": "oyQIhQKR4mQU"
      },
      "source": [
        "### **Manipuler les *array***"
      ]
    },
    {
      "cell_type": "code",
      "execution_count": 85,
      "metadata": {
        "colab": {
          "base_uri": "https://localhost:8080/"
        },
        "id": "VA4JgJ6c5dfF",
        "outputId": "9be5239c-d697-4b27-ebfa-5852bd50f5ef"
      },
      "outputs": [
        {
          "output_type": "execute_result",
          "data": {
            "text/plain": [
              "array([[1, 2, 3],\n",
              "       [4, 5, 6]])"
            ]
          },
          "metadata": {},
          "execution_count": 85
        }
      ],
      "source": [
        "my_2d_array"
      ]
    },
    {
      "cell_type": "markdown",
      "metadata": {
        "id": "-kZMzYsAsVAc"
      },
      "source": [
        "On peut accéder aux éléments d'un *array* par ses indices. Pour un *array* 1D, le système est similaire aux listes. Dans un *array* 2D, on donne d'abord l'indice de la ligne puis l'indice de la colonne :"
      ]
    },
    {
      "cell_type": "code",
      "execution_count": 86,
      "metadata": {
        "colab": {
          "base_uri": "https://localhost:8080/"
        },
        "id": "4q8X86BbscPd",
        "outputId": "1fbbe753-69e5-4c02-f863-d1ac7ea8ffba"
      },
      "outputs": [
        {
          "output_type": "execute_result",
          "data": {
            "text/plain": [
              "6"
            ]
          },
          "metadata": {},
          "execution_count": 86
        }
      ],
      "source": [
        "my_2d_array[1, 2]"
      ]
    },
    {
      "cell_type": "markdown",
      "metadata": {
        "id": "OfVIKyxkTh0p"
      },
      "source": [
        "On peut accéder aux lignes"
      ]
    },
    {
      "cell_type": "code",
      "execution_count": 87,
      "metadata": {
        "colab": {
          "base_uri": "https://localhost:8080/"
        },
        "id": "CrKnDAtyTlYe",
        "outputId": "f1cffd0e-50e1-4bb7-af74-546607642434"
      },
      "outputs": [
        {
          "output_type": "execute_result",
          "data": {
            "text/plain": [
              "array([4, 5, 6])"
            ]
          },
          "metadata": {},
          "execution_count": 87
        }
      ],
      "source": [
        "my_2d_array[1]"
      ]
    },
    {
      "cell_type": "markdown",
      "metadata": {
        "id": "hskLBCp9ToCG"
      },
      "source": [
        "et aux colonnes"
      ]
    },
    {
      "cell_type": "code",
      "execution_count": 88,
      "metadata": {
        "colab": {
          "base_uri": "https://localhost:8080/"
        },
        "id": "MOOFsLHhTozX",
        "outputId": "39ea7ab5-b1be-48ff-8607-b2fc953328ad"
      },
      "outputs": [
        {
          "output_type": "execute_result",
          "data": {
            "text/plain": [
              "array([3, 6])"
            ]
          },
          "metadata": {},
          "execution_count": 88
        }
      ],
      "source": [
        "my_2d_array[:, 2]"
      ]
    },
    {
      "cell_type": "markdown",
      "metadata": {
        "id": "keWK_5PHr9Q2"
      },
      "source": [
        "Les arrays ont un attribut `.shape` pour accéder à leur dimension :"
      ]
    },
    {
      "cell_type": "code",
      "execution_count": 89,
      "metadata": {
        "colab": {
          "base_uri": "https://localhost:8080/"
        },
        "id": "5QIo7l1Yr8m7",
        "outputId": "6420cd02-fee7-4571-fc08-b72b484f2e52"
      },
      "outputs": [
        {
          "output_type": "stream",
          "name": "stdout",
          "text": [
            "(3,)\n",
            "(2, 3)\n"
          ]
        }
      ],
      "source": [
        "print(my_array.shape)\n",
        "print(my_2d_array.shape)"
      ]
    },
    {
      "cell_type": "markdown",
      "metadata": {
        "id": "WbcxAKobvgUT"
      },
      "source": [
        "Et on peut utiliser `.reshape()` pour changer la taille d'un array, à condition que les nouvelles dimensions soient compatibles :"
      ]
    },
    {
      "cell_type": "code",
      "execution_count": 90,
      "metadata": {
        "colab": {
          "base_uri": "https://localhost:8080/"
        },
        "id": "4FPzTuDlvlLO",
        "outputId": "a88716a4-6180-4db9-9977-f259859c94b3"
      },
      "outputs": [
        {
          "output_type": "execute_result",
          "data": {
            "text/plain": [
              "array([[1, 2],\n",
              "       [3, 4],\n",
              "       [5, 6]])"
            ]
          },
          "metadata": {},
          "execution_count": 90
        }
      ],
      "source": [
        "my_array = np.array([1, 2, 3, 4, 5, 6]) # 1 ligne, 6 colonnes\n",
        "my_array.reshape(3, 2)  # 3 lignes, 2 colonnes"
      ]
    },
    {
      "cell_type": "markdown",
      "source": [
        "**Exercice** Créez une matrice de 6 lignes et 3 colonnes contenant exculsivement des 1."
      ],
      "metadata": {
        "id": "EYmTJx-eSxAw"
      }
    },
    {
      "cell_type": "code",
      "source": [],
      "metadata": {
        "id": "sMDqTkj0SxVX"
      },
      "execution_count": 3,
      "outputs": []
    },
    {
      "cell_type": "markdown",
      "source": [
        "**Exercice** Créez un vecteur contenant 11 valeurs dans l'intervalle $[0, 100]$."
      ],
      "metadata": {
        "id": "b2SRzDWmTGW4"
      }
    },
    {
      "cell_type": "code",
      "source": [],
      "metadata": {
        "id": "-6j0y1TBTGxj"
      },
      "execution_count": null,
      "outputs": []
    },
    {
      "cell_type": "markdown",
      "source": [
        "**Exercice** Créez un vecteur contenant une séquence de nombre allant de 12 à 35."
      ],
      "metadata": {
        "id": "irNZ2JrtThR3"
      }
    },
    {
      "cell_type": "code",
      "source": [],
      "metadata": {
        "id": "alstlYjBT2WI"
      },
      "execution_count": null,
      "outputs": []
    },
    {
      "cell_type": "markdown",
      "metadata": {
        "id": "Ur1UlSFPTu6O"
      },
      "source": [
        "**Exercice** Créez un tableau 2D de forme (2, 2) contenant 4 valeurs puis un tableau 3D de forme (2, 2, 2), contenant 8 valeurs. Accédez aux éléments individuels et aux lignes."
      ]
    },
    {
      "cell_type": "code",
      "source": [],
      "metadata": {
        "id": "7w0YtG6FfTUT"
      },
      "execution_count": 3,
      "outputs": []
    },
    {
      "cell_type": "markdown",
      "metadata": {
        "id": "f9B0iCBlmfeY"
      },
      "source": [
        "### **Opérations de base**"
      ]
    },
    {
      "cell_type": "markdown",
      "metadata": {
        "id": "elQGgkqDxKLV"
      },
      "source": [
        "Le module NumPy est adapté à l'algèbre linéaire et manipule les opérations mathématiques entre *array* de manière très compacte."
      ]
    },
    {
      "cell_type": "markdown",
      "metadata": {
        "id": "hkCU1T8ixghX"
      },
      "source": [
        "On peut par exemple additionner les valeurs de deux *array* de même taille grâce à l'opérateur `+`:"
      ]
    },
    {
      "cell_type": "code",
      "execution_count": 91,
      "metadata": {
        "colab": {
          "base_uri": "https://localhost:8080/"
        },
        "id": "4AoiRq42x5mI",
        "outputId": "d8422475-346e-4346-cce0-f072ccf3e626"
      },
      "outputs": [
        {
          "output_type": "execute_result",
          "data": {
            "text/plain": [
              "array([5, 7, 9])"
            ]
          },
          "metadata": {},
          "execution_count": 91
        }
      ],
      "source": [
        "array_a = np.array([1, 2, 3])\n",
        "array_b = np.array([4, 5, 6])\n",
        "array_a + array_b"
      ]
    },
    {
      "cell_type": "markdown",
      "source": [
        "Ou multiplier leurs valeurs avec `*` (différent du produit matriciel ! ) :"
      ],
      "metadata": {
        "id": "XQMI2bkjIkNf"
      }
    },
    {
      "cell_type": "code",
      "source": [
        "array_a * array_b"
      ],
      "metadata": {
        "colab": {
          "base_uri": "https://localhost:8080/"
        },
        "id": "cVOBOqhLIucD",
        "outputId": "a5aaf69f-b6ae-4f5d-e5a1-22b34e4363de"
      },
      "execution_count": 92,
      "outputs": [
        {
          "output_type": "execute_result",
          "data": {
            "text/plain": [
              "array([ 4, 10, 18])"
            ]
          },
          "metadata": {},
          "execution_count": 92
        }
      ]
    },
    {
      "cell_type": "markdown",
      "metadata": {
        "id": "fPM6FwZ8EkDp"
      },
      "source": [
        "On peut aussi additionner, multiplier, soustraire ou diviser un nombre à chaque élément d'un *array* :"
      ]
    },
    {
      "cell_type": "code",
      "execution_count": 93,
      "metadata": {
        "colab": {
          "base_uri": "https://localhost:8080/"
        },
        "id": "PXAQi6I5Ev9E",
        "outputId": "062d903a-0859-4263-9337-da5d82f88766"
      },
      "outputs": [
        {
          "output_type": "execute_result",
          "data": {
            "text/plain": [
              "array([3, 6, 9])"
            ]
          },
          "metadata": {},
          "execution_count": 93
        }
      ],
      "source": [
        "array_a*3"
      ]
    },
    {
      "cell_type": "markdown",
      "metadata": {
        "id": "Qdn8MwpR0wX_"
      },
      "source": [
        "Il existe une multitude de méthodes applicables sur les *array*, comme `.mean()`, `.sum()`, `.max()`..."
      ]
    },
    {
      "cell_type": "code",
      "execution_count": 94,
      "metadata": {
        "colab": {
          "base_uri": "https://localhost:8080/"
        },
        "id": "e0MCarixHHoK",
        "outputId": "751290c5-ab65-42cb-f856-efb1f2fc85cf"
      },
      "outputs": [
        {
          "output_type": "execute_result",
          "data": {
            "text/plain": [
              "6"
            ]
          },
          "metadata": {},
          "execution_count": 94
        }
      ],
      "source": [
        "my_2d_array.max()"
      ]
    },
    {
      "cell_type": "markdown",
      "metadata": {
        "id": "9HpFmR9dHBOm"
      },
      "source": [
        "En général, on peut passer en argument de ces méthodes le paramètre `axis`, qui permet de définir sur quel axe effectuer l'opération si l'*array* est de dimension supérieure à 1. Pour un *array* à deux dimensions, si `axis=0`, l'opération se fera par ligne, et si `axis=1` par colonne."
      ]
    },
    {
      "cell_type": "code",
      "execution_count": 95,
      "metadata": {
        "colab": {
          "base_uri": "https://localhost:8080/"
        },
        "id": "kG9NioTnGuAS",
        "outputId": "1d063b93-4ed3-4837-da42-6dfc3e548e6c"
      },
      "outputs": [
        {
          "output_type": "execute_result",
          "data": {
            "text/plain": [
              "array([4, 5, 6])"
            ]
          },
          "metadata": {},
          "execution_count": 95
        }
      ],
      "source": [
        "my_2d_array.max(axis=0)"
      ]
    },
    {
      "cell_type": "code",
      "execution_count": 96,
      "metadata": {
        "colab": {
          "base_uri": "https://localhost:8080/"
        },
        "id": "hEoVxMLNHVVb",
        "outputId": "2a0b0aa2-54f3-4230-9f3a-aacf465d0585"
      },
      "outputs": [
        {
          "output_type": "execute_result",
          "data": {
            "text/plain": [
              "array([3, 6])"
            ]
          },
          "metadata": {},
          "execution_count": 96
        }
      ],
      "source": [
        "my_2d_array.max(axis=1)"
      ]
    },
    {
      "cell_type": "markdown",
      "metadata": {
        "id": "E_FH7GLhHtgM"
      },
      "source": [
        "Il existe un bon nombre de fonctions applicables aux *array* telles que `np.sin()`, `np.round()`..."
      ]
    },
    {
      "cell_type": "code",
      "execution_count": 97,
      "metadata": {
        "colab": {
          "base_uri": "https://localhost:8080/"
        },
        "id": "JoanjiMu1BH5",
        "outputId": "38e2aa17-844f-4382-e447-b9f46f2d8705"
      },
      "outputs": [
        {
          "output_type": "execute_result",
          "data": {
            "text/plain": [
              "array([0.84147098, 0.90929743, 0.14112001])"
            ]
          },
          "metadata": {},
          "execution_count": 97
        }
      ],
      "source": [
        "np.sin(array_a)"
      ]
    },
    {
      "cell_type": "markdown",
      "metadata": {
        "id": "IIkcXc3yIUWo"
      },
      "source": [
        "Il existe également de nombreux outils d'algèbre linéaire, comme l'attribut `.T`qui contient la transposée, la fonction `dot()`pour le produit matriciel..."
      ]
    },
    {
      "cell_type": "code",
      "execution_count": 98,
      "metadata": {
        "colab": {
          "base_uri": "https://localhost:8080/"
        },
        "id": "gvPe_JAO6mvF",
        "outputId": "8ccf12b7-283d-4857-c13d-e8a1668f3a14"
      },
      "outputs": [
        {
          "output_type": "execute_result",
          "data": {
            "text/plain": [
              "array([1, 2, 3])"
            ]
          },
          "metadata": {},
          "execution_count": 98
        }
      ],
      "source": [
        "array_a.T"
      ]
    },
    {
      "cell_type": "code",
      "execution_count": 99,
      "metadata": {
        "colab": {
          "base_uri": "https://localhost:8080/"
        },
        "id": "TphR8oIx5ob9",
        "outputId": "77361b5c-bac6-4778-8a65-6a3ebe327814"
      },
      "outputs": [
        {
          "output_type": "execute_result",
          "data": {
            "text/plain": [
              "32"
            ]
          },
          "metadata": {},
          "execution_count": 99
        }
      ],
      "source": [
        "np.dot(array_a, array_b)"
      ]
    },
    {
      "cell_type": "markdown",
      "metadata": {
        "id": "PKOjAJlOFDO8"
      },
      "source": [
        "**Exercice**\n",
        "*  Créez un tableau 2D de forme (3, 3) avec des valeurs aléatoires (aide: `np.random.rand()`)\n",
        "*  Calculez la somme de tous les éléments du tableau.\n",
        "*  Calculez la moyenne de chaque colonne."
      ]
    },
    {
      "cell_type": "code",
      "source": [],
      "metadata": {
        "id": "2NSCMxe-XOAw"
      },
      "execution_count": null,
      "outputs": []
    },
    {
      "cell_type": "markdown",
      "metadata": {
        "id": "JlWt3oFnE_E-"
      },
      "source": [
        "### **Tranches et masques**"
      ]
    },
    {
      "cell_type": "markdown",
      "metadata": {
        "id": "e4aKKe7bFA65"
      },
      "source": [
        "Tout comme les listes, les objets NumPy supportent le *slicing* :"
      ]
    },
    {
      "cell_type": "code",
      "execution_count": 101,
      "metadata": {
        "colab": {
          "base_uri": "https://localhost:8080/"
        },
        "id": "0kPhv2xcF1TP",
        "outputId": "5f342349-e5f0-41f4-cc70-cf2baee43864"
      },
      "outputs": [
        {
          "output_type": "stream",
          "name": "stdout",
          "text": [
            "[0 1 2 3 4 5 6 7 8 9]\n",
            "[5 6 7 8 9]\n"
          ]
        }
      ],
      "source": [
        "array = np.arange(10)\n",
        "print(array)\n",
        "print(array[5:])"
      ]
    },
    {
      "cell_type": "markdown",
      "metadata": {
        "id": "ITu2Wy4-GB2G"
      },
      "source": [
        "et on peut extraire certains éléments d'un *array*, par exemple en créant un masque booléen suivant une condition :"
      ]
    },
    {
      "cell_type": "code",
      "execution_count": 102,
      "metadata": {
        "colab": {
          "base_uri": "https://localhost:8080/"
        },
        "id": "8tlZzTB6GEyw",
        "outputId": "195d10ec-cd5f-46c7-a75c-34f4e5334831"
      },
      "outputs": [
        {
          "output_type": "stream",
          "name": "stdout",
          "text": [
            "[0 1 2 3 4 5 6 7 8 9]\n",
            "[False False False False False  True  True  True  True  True]\n"
          ]
        },
        {
          "output_type": "execute_result",
          "data": {
            "text/plain": [
              "array([5, 6, 7, 8, 9])"
            ]
          },
          "metadata": {},
          "execution_count": 102
        }
      ],
      "source": [
        "x = np.arange(10)\n",
        "print(x)\n",
        "\n",
        "mask = (x >= 5)  # Masque booléen de la dimension de x. True si la condition est vérifiée, False sinon.\n",
        "print(mask)\n",
        "\n",
        "x[mask]    # On applique le masque à x"
      ]
    },
    {
      "cell_type": "markdown",
      "metadata": {
        "id": "mEJ3lhV7Sj2v"
      },
      "source": [
        "Pour concaténer les *array* on utilisera la fonction `np.concatenate()`:"
      ]
    },
    {
      "cell_type": "code",
      "execution_count": 103,
      "metadata": {
        "colab": {
          "base_uri": "https://localhost:8080/"
        },
        "id": "UP0j1QAASrbb",
        "outputId": "042e971a-4f5c-4eb3-9f63-d911ef69ed38"
      },
      "outputs": [
        {
          "output_type": "stream",
          "name": "stdout",
          "text": [
            "Array 1 :\n",
            " [[37 24 30]\n",
            " [17  0 11]\n",
            " [45 12 35]]\n",
            "Array 2 :\n",
            " [[33 29  3]\n",
            " [27 47  3]\n",
            " [40  1  4]]\n",
            "Concaténation verticale :\n",
            " [[37 24 30]\n",
            " [17  0 11]\n",
            " [45 12 35]\n",
            " [33 29  3]\n",
            " [27 47  3]\n",
            " [40  1  4]]\n",
            "Concaténation horizontale :\n",
            " [[37 24 30 33 29  3]\n",
            " [17  0 11 27 47  3]\n",
            " [45 12 35 40  1  4]]\n"
          ]
        }
      ],
      "source": [
        "array1 = np.random.randint(0, 50, size=(3, 3))\n",
        "array2 = np.random.randint(0, 50, size=(3, 3))\n",
        "\n",
        "# Concaténation des deux arrays 2D verticalement (par lignes)\n",
        "array_concat_vertical = np.concatenate((array1, array2), axis=0)\n",
        "\n",
        "# Concaténation des deux arrays 2D horizontalement (par colonnes)\n",
        "array_concat_horizontal = np.concatenate((array1, array2), axis=1)\n",
        "\n",
        "print(\"Array 1 :\\n\", array1)\n",
        "print(\"Array 2 :\\n\", array2)\n",
        "print(\"Concaténation verticale :\\n\", array_concat_vertical)\n",
        "print(\"Concaténation horizontale :\\n\", array_concat_horizontal)"
      ]
    },
    {
      "cell_type": "markdown",
      "metadata": {
        "id": "eLAfmR0gFYLr"
      },
      "source": [
        "**Exercice**\n",
        "*  Créez un tableau 1D avec des valeurs allant de 1 à 30.\n",
        "*  Créez un masque pour extraire tous les nombres pairs du tableau.\n",
        "*  Créez un nouveau tableau contenant uniquement ces nombres pairs.\n"
      ]
    },
    {
      "cell_type": "code",
      "source": [],
      "metadata": {
        "id": "gTNxKh9eMLgC"
      },
      "execution_count": 3,
      "outputs": []
    },
    {
      "cell_type": "markdown",
      "metadata": {
        "id": "Eh6AKIyx_oty"
      },
      "source": [
        "**Récapitulatif sur NumPy et les *array***\n",
        "\n",
        "Création d'*array* :\n",
        "*  À partir d'une liste : `np.array([[1,2,3],[4,5,6],[7,8,9]])`\n",
        "*  Avec arange pour 1D : `np.arange(20)`\n",
        "*  Avec des 0 ou des 1 : `np.zeros((3,3))`\n",
        "*  Avec des valeurs distribuées sur un intervalle : `np.linspace(0,10,100)`\n",
        "\n",
        "Manipulation:\n",
        "*  Comme les liste, on peut utiliser les indices: `my_array[2,6]` : élément de la 2eme ligne, 6eme colonne.\n",
        "*  Redimensioner: `np.reshape(my_array, (5, 1))`\n",
        "\n",
        "Opérations:\n",
        "*  Opération mathématique sur un *array*: `my_array + 6`\n",
        "*  Opération mathématique entre plusieurs *array*: `my_array + my_array2`\n",
        "*  Utilisation de fonctions: `np.mean(my_array)`\n",
        "*  Filtrage: `my_array > 3`\n",
        "* Concaténation: `np.concatenate((my_array, my_array2), axis=1)`"
      ]
    },
    {
      "cell_type": "markdown",
      "source": [
        "### **Exercice 1**\n",
        "1.  Créez un tableau x contenant 41 valuers réparties sur l'intervalle $[-4, 4]$\n",
        "2.  Créez un tableau h contenant des valeurs telles que $h(x) = \\frac{1}{\\sqrt(2 \\times \\pi)} \\exp^{-\\frac{1}{2}x^2} $"
      ],
      "metadata": {
        "id": "eEBwFmbCXsKC"
      }
    },
    {
      "cell_type": "code",
      "source": [],
      "metadata": {
        "id": "qLKrjk2MXscZ"
      },
      "execution_count": 3,
      "outputs": []
    },
    {
      "cell_type": "markdown",
      "metadata": {
        "id": "FyN1O_V5Hmcu"
      },
      "source": [
        "### **Exercice 2**\n",
        "\n",
        "1.  Créez un tableau 2D de dimension (50,3) contenant des valeurs aléatoires entre 0 et 100.\n",
        "2.  Appliquez la normalisation min-max pour chaque colonne. La normalisation min-max est donnée par la formule :\n",
        "$x′=\\frac{x−min⁡(X)}{max⁡(X)−min⁡(X)}$\n",
        "3.  Appliquez la standardisation (z-score) pour chaque colonne. La standardisation est donnée par la formule :\n",
        "$ z=\\frac{x−μ}{σ}$\n",
        "   où $µ$ est la moyenne et $σ$ est l'écart type de la colonne.\n",
        "\n",
        "4.  Affichez les tableaux normalisés et standardisés."
      ]
    },
    {
      "cell_type": "code",
      "source": [],
      "metadata": {
        "id": "QNF6ll3-XTtj"
      },
      "execution_count": null,
      "outputs": []
    },
    {
      "cell_type": "markdown",
      "metadata": {
        "id": "7Jt6T3kJ8I2T"
      },
      "source": [
        "## **Matplotlib**"
      ]
    },
    {
      "cell_type": "markdown",
      "metadata": {
        "id": "UUSZoEZ_KsMN"
      },
      "source": [
        "Le module Matplolib est utilisé pour **générer des graphiques**. Nous allons explorer ici des représentations graphiques simples, mais n'hésitez pas à aller voir la [documentation](https://matplotlib.org/) pour voir l'ensemble des possibles.\n",
        "\n",
        "\n",
        "Le tracé des données est en général assez simple, quelques lignes de code suffisent. Vous verrez cependant que la personnalisation des graphes (nom des axes, titre du graphique, personnalisation des tailles et couleurs...) prend de la place !"
      ]
    },
    {
      "cell_type": "markdown",
      "metadata": {
        "id": "kQX8TiEOALkQ"
      },
      "source": [
        "### Quelques plots basiques"
      ]
    },
    {
      "cell_type": "markdown",
      "metadata": {
        "id": "Eom7t-m6-Uzb"
      },
      "source": [
        "Nous allons commencer par un plot simple pour illustrer l'utilisation des plots :"
      ]
    },
    {
      "cell_type": "code",
      "execution_count": 104,
      "metadata": {
        "colab": {
          "base_uri": "https://localhost:8080/",
          "height": 472
        },
        "id": "g21e5Ncm927z",
        "outputId": "28ec5134-27ca-4b6c-bf97-f95e59805954"
      },
      "outputs": [
        {
          "output_type": "display_data",
          "data": {
            "text/plain": [
              "<Figure size 640x480 with 1 Axes>"
            ],
            "image/png": "[encoded data removed]"
          },
          "metadata": {}
        }
      ],
      "source": [
        "from matplotlib import pyplot as plt\n",
        "\n",
        "x = np.linspace(-3, 3, 100) # Génère 100 points entre -3 et 3\n",
        "y = np.sin(x) # Calcul la valeur de sin(x) pour chaque point de x\n",
        "\n",
        "plt.figure()  # Initialise une figure vide\n",
        "plt.plot(x, y, label=\"Sinusoid\")  # Trace des données sur la figure\n",
        "plt.xlabel(\"x\")          # Nom axe x\n",
        "plt.ylabel(\"sin(x)\")     # Nom axe y\n",
        "plt.title(\"Exemple\")     # Titre du graphique\n",
        "plt.legend(loc=\"upper left\")   # Legend\n",
        "plt.show()   # Afficher le graphique"
      ]
    },
    {
      "cell_type": "markdown",
      "metadata": {
        "id": "E3LoqzgPLiVi"
      },
      "source": [
        "L'idée générale est de tracer des points `y` en fonction des valeurs `x`. Pour cela, on veut donc 2 arrays de même taille: `x`, ici généré par `np.linspace()` et `y`, la fonction sinus dont les valeurs sont calculées pour chaque valeur de `x`.\n",
        "\n",
        "La fonction `plt.plot(x, y)`permet ensuite de créer le plot, et `plt.show()` de l'afficher. Les autres commandes permettent d'ajouter le titre, le nom des axes, la légende..."
      ]
    },
    {
      "cell_type": "markdown",
      "metadata": {
        "id": "mKXhEX7uNKNJ"
      },
      "source": [
        "On peut tracer plusieurs éléments sur le même graphe:"
      ]
    },
    {
      "cell_type": "code",
      "execution_count": 105,
      "metadata": {
        "colab": {
          "base_uri": "https://localhost:8080/",
          "height": 472
        },
        "id": "57rD3k3xM3DV",
        "outputId": "c1ec736d-8969-4aa7-a9e4-70ed502ff8c7"
      },
      "outputs": [
        {
          "output_type": "display_data",
          "data": {
            "text/plain": [
              "<Figure size 640x480 with 1 Axes>"
            ],
            "image/png": "[encoded data removed]"
          },
          "metadata": {}
        }
      ],
      "source": [
        "x = np.linspace(0, 20, 100)\n",
        "\n",
        "plt.figure()\n",
        "plt.plot(x, np.sin(x), label=\"sin(x)\")\n",
        "plt.plot(x, np.cos(x), label=\"cos(x)\")\n",
        "plt.xlabel(\"x\")\n",
        "plt.title(\"Exemple\")\n",
        "plt.legend(loc=\"upper left\")\n",
        "plt.show()"
      ]
    },
    {
      "cell_type": "markdown",
      "metadata": {
        "id": "TIMqxkbPNTIe"
      },
      "source": [
        "Nous avons vu ici des plots de fonctions continues. Il est également possible de tracer des nuages de points grâce à la fonction `plt.scatter()`.\n",
        "\n",
        "Sur l'exemple ci-dessous, on trace une concentration en fonction du temps:"
      ]
    },
    {
      "cell_type": "code",
      "execution_count": 106,
      "metadata": {
        "colab": {
          "base_uri": "https://localhost:8080/",
          "height": 472
        },
        "id": "gVAxbYgRNxGq",
        "outputId": "f72c40bf-2068-4472-f304-7ba8fc7c863c"
      },
      "outputs": [
        {
          "output_type": "display_data",
          "data": {
            "text/plain": [
              "<Figure size 640x480 with 1 Axes>"
            ],
            "image/png": "[encoded data removed]"
          },
          "metadata": {}
        }
      ],
      "source": [
        "concentration = [0.12, 0.25, 0.31, 0.45, 0.52, 0.67, 0.71, 0.83, 0.95, 1.05]\n",
        "temps = [8, 17, 29, 37, 48, 61, 72, 85, 93, 102]\n",
        "\n",
        "plt.figure()\n",
        "plt.scatter(temps, concentration)\n",
        "plt.xlabel(\"Temps (s)\")\n",
        "plt.ylabel(\"Concentration (mg/L)\")\n",
        "plt.title(\"Concentration en fonction du temps\")\n",
        "plt.show()"
      ]
    },
    {
      "cell_type": "markdown",
      "metadata": {
        "id": "ltvlLwXF-eAH"
      },
      "source": [
        "Voici un exemple plus complexe, où on représente des données issues du dataset  [iris](https://scikit-learn.org/stable/modules/generated/sklearn.datasets.load_iris.html), en traçant deux paramètres. La couleur indique l'appartenance à une classe."
      ]
    },
    {
      "cell_type": "code",
      "execution_count": 107,
      "metadata": {
        "colab": {
          "base_uri": "https://localhost:8080/",
          "height": 433
        },
        "id": "sEzcJAmy-hbK",
        "outputId": "6780ea3b-4039-4e58-8152-4b5d5f218a85"
      },
      "outputs": [
        {
          "output_type": "display_data",
          "data": {
            "text/plain": [
              "<Figure size 640x480 with 1 Axes>"
            ],
            "image/png": "[encoded data removed]"
          },
          "metadata": {}
        }
      ],
      "source": [
        "from sklearn.datasets import load_iris\n",
        "X, y = load_iris(return_X_y=True)  # Importation de données, X représent des valeurs (taille pétale...), y une variété d'iris\n",
        "\n",
        "X_class0 = X[y == 0] # Variété 1\n",
        "X_class1 = X[y == 1] # Variété 2\n",
        "X_class2 = X[y == 2] # Variété 3\n",
        "\n",
        "plt.figure()\n",
        "plt.scatter(X_class0[:, 0], X_class0[:, 1], label=\"Class 0\", color=\"C0\")\n",
        "plt.scatter(X_class1[:, 0], X_class1[:, 1], label=\"Class 1\", color=\"C1\")\n",
        "plt.scatter(X_class2[:, 0], X_class2[:, 1], label=\"Class 2\", color=\"C2\")\n",
        "plt.show()"
      ]
    },
    {
      "cell_type": "markdown",
      "metadata": {
        "id": "vSlK3gC3PA-1"
      },
      "source": [
        "On peut également tracer des diagrammes batons assez rapidement avec la fonction `bar()`, ou des histogrammes avec `hist()`."
      ]
    },
    {
      "cell_type": "code",
      "execution_count": 108,
      "metadata": {
        "colab": {
          "base_uri": "https://localhost:8080/",
          "height": 430
        },
        "id": "li-zSbMsPVA6",
        "outputId": "5ad1b386-1fe3-4f27-b71e-67a359852035"
      },
      "outputs": [
        {
          "output_type": "display_data",
          "data": {
            "text/plain": [
              "<Figure size 640x480 with 1 Axes>"
            ],
            "image/png": "[encoded data removed]"
          },
          "metadata": {}
        }
      ],
      "source": [
        "x = ['Loups', 'Lapins', 'Oiseaux']\n",
        "nombre = [10, 20, 35]\n",
        "\n",
        "plt.figure()\n",
        "plt.bar(x, nombre)\n",
        "plt.show()"
      ]
    },
    {
      "cell_type": "code",
      "execution_count": 109,
      "metadata": {
        "colab": {
          "base_uri": "https://localhost:8080/",
          "height": 472
        },
        "id": "hp_7QFm-P0x1",
        "outputId": "26015a28-ab10-49a7-a042-c484150ac3a3"
      },
      "outputs": [
        {
          "output_type": "display_data",
          "data": {
            "text/plain": [
              "<Figure size 640x480 with 1 Axes>"
            ],
            "image/png": "[encoded data removed]"
          },
          "metadata": {}
        }
      ],
      "source": [
        "import random as rd\n",
        "tailles = [rd.randint(100, 200) for i in range(150)] # liste de 150 valeurs de taille générées aléatoirement entre 100 et 200\n",
        "\n",
        "plt.figure()\n",
        "plt.hist(tailles, bins=20)\n",
        "plt.xlabel(\"Taille (cm)\")\n",
        "plt.ylabel(\"Fréquence\")\n",
        "plt.title(\"Distribution des tailles\")\n",
        "plt.show()"
      ]
    },
    {
      "cell_type": "markdown",
      "metadata": {
        "id": "3mdiF8wQTWhH"
      },
      "source": [
        "Quelques *tips* pour la personnalisation des graphes:\n",
        "\n",
        "*  Choix du type de point: `marker=` `.` petit point, `o` gros point, `+` croix, `-` points reliés par segments\n",
        "*  Couleur: `color=` `b`, `g`, `r`, `y` pour bleu, vert, rouge, jaune..."
      ]
    },
    {
      "cell_type": "markdown",
      "metadata": {
        "id": "siMBBCUJLN-h"
      },
      "source": [
        "Il existe en fait 2 méthodes pour créer des graphes:\n",
        "*  celle que nous venons de voir qui utilise `plt`, qui permet de créer des graphiques rapidement avec des commandes simples. Elle a l'avantage d'être facile à utiliser et plus rapide à écrire, mais l'interface est moins flexible pour des graphiques complexes.\n",
        "*  Approche avec `fig` et `ax`: dans cette approche, vous créez explicitement une figure (`fig`) et un ou plusieurs axes (`ax`). Cela permet un contrôle plus fin sur le style et la disposition des graphiques. On peut notamment manipuler des `subplot` pour créer et manipuler plusieurs graphiques dans une seule figure.\n",
        "\n",
        "Les deux méthodes fonctionnent très bien. Privilégiez la seconde si vous souhaitez personaliser vos graphes de manière fine."
      ]
    },
    {
      "cell_type": "code",
      "execution_count": 110,
      "metadata": {
        "colab": {
          "base_uri": "https://localhost:8080/",
          "height": 491
        },
        "id": "-qOgQdCpMT8H",
        "outputId": "d9417149-443c-433c-c5d0-bcd841dbe548"
      },
      "outputs": [
        {
          "output_type": "display_data",
          "data": {
            "text/plain": [
              "<Figure size 640x480 with 2 Axes>"
            ],
            "image/png": "[encoded data removed]"
          },
          "metadata": {}
        }
      ],
      "source": [
        "dt = 0.01\n",
        "t = np.arange(0, 30, dt)  # Création d'un vecteur avec des valeurs entre 0 et 30, espacées d'un pas dt\n",
        "nse1 = np.random.randn(len(t))                 # white noise 1\n",
        "nse2 = np.random.randn(len(t))                 # white noise 2\n",
        "\n",
        "# Two signals with a coherent part at 10 Hz and a random part\n",
        "s1 = np.sin(2 * np.pi * 10 * t) + nse1\n",
        "s2 = np.sin(2 * np.pi * 10 * t) + nse2\n",
        "\n",
        "fig, axs = plt.subplots(2, 1, layout='constrained')\n",
        "axs[0].plot(t, s1, t, s2)\n",
        "axs[0].set_xlim(0, 2)\n",
        "axs[0].set_xlabel('Time (s)')\n",
        "axs[0].set_ylabel('s1 and s2')\n",
        "axs[0].grid(True)\n",
        "\n",
        "axs[1].plot(t, s1+s2, color = 'green')\n",
        "axs[1].set_xlim(0, 2)\n",
        "axs[1].set_xlabel('Time (s)')\n",
        "axs[1].set_ylabel('s1 + s2')\n",
        "axs[1].grid(True)\n",
        "plt.show()"
      ]
    },
    {
      "cell_type": "markdown",
      "metadata": {
        "id": "uVWuIUs2AQ5a"
      },
      "source": [
        "## **Exercices**\n",
        "\n"
      ]
    },
    {
      "cell_type": "markdown",
      "metadata": {
        "id": "1X6-g6zgCwJd"
      },
      "source": [
        "### **Exercice 1**\n",
        "\n",
        "Trace sur un graphe une fonction $f(x) = 2x^2 + 3x + 4$ pour $x$ allant de -10 à 10.\n",
        "\n",
        "Aide: créez d'abord un vecteur $x$ avec numpy, puis un vecteur $y$ prenant les valeurs de la fonction $f(x)$ avant de tracer le graphe."
      ]
    },
    {
      "cell_type": "code",
      "execution_count": 3,
      "metadata": {
        "id": "Ob6HZUX0DJ8y"
      },
      "outputs": [],
      "source": []
    },
    {
      "cell_type": "markdown",
      "metadata": {
        "id": "j7blDTTAONNV"
      },
      "source": [
        "### **Exercice 2** Mon Coeur\n",
        "\n",
        "Nous allons créer un graphique en forme de coeur:\n",
        "1.  Définissez les équations paramétriques :\n",
        "$$x = 16 sin^3(t)$$\n",
        "$$y=13cos(t)−5cos(2t)−2cos(3t)−cos(4t)$$\n",
        "Aide: créez d'abord un vecteur $t \\in [0, 2\\pi]$\n",
        "2.  Tracez le graphique\n",
        "3.  Personalisez le graphique: un coeur rouge par exemple?"
      ]
    },
    {
      "cell_type": "code",
      "execution_count": 3,
      "metadata": {
        "id": "2R6neIbgPBAC"
      },
      "outputs": [],
      "source": []
    },
    {
      "cell_type": "markdown",
      "source": [
        "### **Exercice 3**  Marche aléatoire\n",
        "\n",
        "1.  Demandez à l’utilisateur de saisir un entier n.\n",
        "2.  Créez une liste `X` de taille n contenant les entiers de 0 à n−1.\n",
        "3.  Créez une liste `Y` de taille n dont chaque élément est choisi aléatoirement parmi {−1,1}.\n",
        "4.  Créez une liste `Z` de taille n telle que `Z[i]` représente la somme cumulative des éléments de `Y` de l'indice 0 à i.\n",
        "5.  Tracez la liste `Z` sur un graphique.\n",
        "6.  Répétez l'expérience pour des valeurs de n de plus en plus grandes afin d'observer l'évolution de la courbe."
      ],
      "metadata": {
        "id": "v5SG3obs3jLC"
      }
    },
    {
      "cell_type": "code",
      "source": [],
      "metadata": {
        "id": "foC2eTwq4NvE"
      },
      "execution_count": 3,
      "outputs": []
    },
    {
      "cell_type": "markdown",
      "metadata": {
        "id": "a4i9p14PQulL"
      },
      "source": [
        "## **Pandas**"
      ]
    },
    {
      "cell_type": "markdown",
      "metadata": {
        "id": "Q8YPRSYqQzyh"
      },
      "source": [
        "Le module [Pandas](https://pandas.pydata.org/docs/index.html) est extrêmement puissant pour **manipuler des jeux de données**. Il propose une structure de données appelée *DataFrame*, qui représente des tableaux à deux dimensions. Imaginez un grand tableau Excel avec des noms de colonnes et de lignes. Grâce à cette structure, vous pouvez facilement manipuler vos données : tracer une colonne en fonction d'une autre, modifier les valeurs d'une colonne, extraire des lignes selon des critères sur une ou plusieurs colonnes, etc.\n",
        "\n",
        "Nous n'aurons pas le temps d'explorer en détail toutes les fonctionnalités de Pandas ici, mais nous allons vous montrer quelques exemples pour vous permettre d'entrevoir son potentiel et imaginer comment il peut être utilisé dans vos projets."
      ]
    },
    {
      "cell_type": "markdown",
      "metadata": {
        "id": "gU3DR3JhQHHK"
      },
      "source": [
        "On l'importe en général sous l'alias `pd` :"
      ]
    },
    {
      "cell_type": "code",
      "execution_count": 111,
      "metadata": {
        "colab": {
          "base_uri": "https://localhost:8080/"
        },
        "id": "C5uRU5guQzGn",
        "outputId": "24834a2f-e52a-4a33-a2de-eb82e4fc1306"
      },
      "outputs": [
        {
          "output_type": "stream",
          "name": "stdout",
          "text": [
            "       Nom  Âge      Ville\n",
            "0    Alice   25      Paris\n",
            "1      Bob   30       Lyon\n",
            "2  Charlie   35  Marseille\n"
          ]
        }
      ],
      "source": [
        "import pandas as pd\n",
        "\n",
        "# Création à partir d'un dictionnare\n",
        "data = {\n",
        "    'Nom': ['Alice', 'Bob', 'Charlie'],\n",
        "    'Âge': [25, 30, 35],\n",
        "    'Ville': ['Paris', 'Lyon', 'Marseille']\n",
        "}\n",
        "df = pd.DataFrame(data)\n",
        "\n",
        "# Affichage du DataFrame\n",
        "print(df)"
      ]
    },
    {
      "cell_type": "code",
      "execution_count": 112,
      "metadata": {
        "colab": {
          "base_uri": "https://localhost:8080/",
          "height": 178
        },
        "id": "esztws20QjFG",
        "outputId": "875b5798-62c9-4c9d-acaf-9556c0c8e370"
      },
      "outputs": [
        {
          "output_type": "execute_result",
          "data": {
            "text/plain": [
              "0      Alice\n",
              "1        Bob\n",
              "2    Charlie\n",
              "Name: Nom, dtype: object"
            ],
            "text/html": [
              "<div>\n",
              "<style scoped>\n",
              "    .dataframe tbody tr th:only-of-type {\n",
              "        vertical-align: middle;\n",
              "    }\n",
              "\n",
              "    .dataframe tbody tr th {\n",
              "        vertical-align: top;\n",
              "    }\n",
              "\n",
              "    .dataframe thead th {\n",
              "        text-align: right;\n",
              "    }\n",
              "</style>\n",
              "<table border=\"1\" class=\"dataframe\">\n",
              "  <thead>\n",
              "    <tr style=\"text-align: right;\">\n",
              "      <th></th>\n",
              "      <th>Nom</th>\n",
              "    </tr>\n",
              "  </thead>\n",
              "  <tbody>\n",
              "    <tr>\n",
              "      <th>0</th>\n",
              "      <td>Alice</td>\n",
              "    </tr>\n",
              "    <tr>\n",
              "      <th>1</th>\n",
              "      <td>Bob</td>\n",
              "    </tr>\n",
              "    <tr>\n",
              "      <th>2</th>\n",
              "      <td>Charlie</td>\n",
              "    </tr>\n",
              "  </tbody>\n",
              "</table>\n",
              "</div><br><label><b>dtype:</b> object</label>"
            ]
          },
          "metadata": {},
          "execution_count": 112
        }
      ],
      "source": [
        "# Accès à une colonne par son nom\n",
        "df['Nom']"
      ]
    },
    {
      "cell_type": "markdown",
      "metadata": {
        "id": "pPe7jwE0Qu0b"
      },
      "source": [
        "On peut importer des fichier .csv avec la commande  `pd.read_csv('nom_du_fichier.csv')`."
      ]
    },
    {
      "cell_type": "markdown",
      "metadata": {
        "id": "ApncYgRFQ5E_"
      },
      "source": [
        "On va utiliser des bases de données déjà présentes dans Python pour visualiser un peu ce qu'on peut faire avec ces Dataframes."
      ]
    },
    {
      "cell_type": "code",
      "execution_count": 113,
      "metadata": {
        "colab": {
          "base_uri": "https://localhost:8080/"
        },
        "id": "vYqC11opRG6Y",
        "outputId": "baf58fea-caae-4b90-bde9-9fa14b9f8388"
      },
      "outputs": [
        {
          "output_type": "stream",
          "name": "stdout",
          "text": [
            "   year month  passengers\n",
            "0  1949   Jan         112\n",
            "1  1949   Feb         118\n",
            "2  1949   Mar         132\n",
            "3  1949   Apr         129\n",
            "4  1949   May         121\n"
          ]
        }
      ],
      "source": [
        "import seaborn as sns\n",
        "df = sns.load_dataset('flights')  # Importation du jeu de données 'flights' qui représente le nombre de passager du traffic aérien par mois sur plusieurs années\n",
        "print(df.head())  # Affiche les premières lignes des données"
      ]
    },
    {
      "cell_type": "code",
      "execution_count": 114,
      "metadata": {
        "colab": {
          "base_uri": "https://localhost:8080/",
          "height": 494
        },
        "id": "fCQHA4ccRqZy",
        "outputId": "5c26b36f-967b-4bc6-fadf-41c5e6590f48"
      },
      "outputs": [
        {
          "output_type": "display_data",
          "data": {
            "text/plain": [
              "<Figure size 640x480 with 1 Axes>"
            ],
            "image/png": "[encoded data removed]"
          },
          "metadata": {}
        }
      ],
      "source": [
        "passengers_per_year = df.groupby('year')['passengers'].sum()  # Regroupe les passagers ayant voyagé la même année et somme\n",
        "\n",
        "# Tracer un graphique en barres pour montrer le nombre total de passagers par année\n",
        "passengers_per_year.plot(kind='bar', color='skyblue')\n",
        "plt.title('Nombre total de passagers par année')\n",
        "plt.xlabel('Année')\n",
        "plt.ylabel('Nombre de passagers')\n",
        "plt.show()"
      ]
    },
    {
      "cell_type": "markdown",
      "source": [
        "Pour les représentations graphiques, le module Pandas est souvent utilisé avec le module [Seaborn](https://seaborn.pydata.org/), qui est basé sur matplolib, et qui permet de visualiser des données de manière extrêmement puissante."
      ],
      "metadata": {
        "id": "R3Q7CqCFRKUM"
      }
    },
    {
      "cell_type": "code",
      "execution_count": 115,
      "metadata": {
        "colab": {
          "base_uri": "https://localhost:8080/"
        },
        "id": "j2KXIil_R-1g",
        "outputId": "120bff06-8828-45d2-ac18-74bff12599f1"
      },
      "outputs": [
        {
          "output_type": "stream",
          "name": "stdout",
          "text": [
            "  species     island  bill_length_mm  bill_depth_mm  flipper_length_mm  \\\n",
            "0  Adelie  Torgersen            39.1           18.7              181.0   \n",
            "1  Adelie  Torgersen            39.5           17.4              186.0   \n",
            "2  Adelie  Torgersen            40.3           18.0              195.0   \n",
            "3  Adelie  Torgersen             NaN            NaN                NaN   \n",
            "4  Adelie  Torgersen            36.7           19.3              193.0   \n",
            "\n",
            "   body_mass_g     sex  \n",
            "0       3750.0    Male  \n",
            "1       3800.0  Female  \n",
            "2       3250.0  Female  \n",
            "3          NaN     NaN  \n",
            "4       3450.0  Female  \n"
          ]
        }
      ],
      "source": [
        "# Charger les données 'penguins'\n",
        "df = sns.load_dataset('penguins')\n",
        "\n",
        "# Afficher les premières lignes du DataFrame\n",
        "print(df.head())"
      ]
    },
    {
      "cell_type": "code",
      "execution_count": 116,
      "metadata": {
        "colab": {
          "base_uri": "https://localhost:8080/",
          "height": 472
        },
        "id": "kw2eGvnZSRUB",
        "outputId": "4187cf9b-6aee-445e-c5e4-19b4dceba630"
      },
      "outputs": [
        {
          "output_type": "display_data",
          "data": {
            "text/plain": [
              "<Figure size 640x480 with 1 Axes>"
            ],
            "image/png": "[encoded data removed]"
          },
          "metadata": {}
        }
      ],
      "source": [
        "# Tracer un nuage de points avec la longueur des nageoires vs le poids, coloré par espèce\n",
        "sns.scatterplot(x='flipper_length_mm', y='body_mass_g', hue='species', data=df)\n",
        "plt.title('Relation entre la longueur des nageoires et le poids des manchots')\n",
        "plt.xlabel('Longueur des nageoires (mm)')\n",
        "plt.ylabel('Masse corporelle (g)')\n",
        "plt.grid(True)\n",
        "plt.show()"
      ]
    },
    {
      "cell_type": "markdown",
      "source": [
        "## **Exercices**"
      ],
      "metadata": {
        "id": "-WkTnnNy6oGZ"
      }
    },
    {
      "cell_type": "markdown",
      "source": [
        "### **Exercice 1**\n",
        "\n",
        "1.  Importer les données `penguins` avec `seaborn`: `df = sns.load_dataset('penguins')`\n",
        "2.  Affichez un histogramme pour la colonne `body_mass_g` grâce à `plt.hist(data)`\n",
        "3. Créez un diagramme de dispersion (scatterplot) pour visualiser la relation entre la longueur du bec (`bill_length_mm`) et la longueur de la nageoire (`flipper_length_mm`) avec `plt.scatter(X, Y)` puis `sns.scatterplot(df, x, y, hue)`\n"
      ],
      "metadata": {
        "id": "0T8gd6OP6sSg"
      }
    },
    {
      "cell_type": "code",
      "source": [],
      "metadata": {
        "id": "0S4RE_gn6xtg"
      },
      "execution_count": 3,
      "outputs": []
    },
    {
      "cell_type": "markdown",
      "source": [
        "### **Exercice 2**\n",
        "\n",
        "1.  Importez le jeu de données `flights` de `seaborn` et affichez les premières lignes\n",
        "2.  Tracez un graphe montrant l'évolution du nombre de passager chaque mois"
      ],
      "metadata": {
        "id": "hylWJppVC1PH"
      }
    },
    {
      "cell_type": "code",
      "source": [],
      "metadata": {
        "id": "NaSTX0UIDGKA"
      },
      "execution_count": 3,
      "outputs": []
    },
    {
      "cell_type": "markdown",
      "source": [
        "### **Exercice 3**\n",
        "\n",
        "Nous allons maintenant utiliser des datasets disponibles sur internet, par exemple [les emissions de gaz à effet de serre dans les pays européens](https://www.eea.europa.eu/en/datahub/featured-data/statistical-data/datahubitem-view/d22b842a-53f7-4c63-aa94-74d5fa1f4d40).\n",
        "\n",
        "Ces data ont été téléchargées dans le répertoire gitHub, on peut les importer avec leur URL.\n",
        "\n",
        "1.  Explorez le dataset\n",
        "2.  Tracez l'emission de gaz à effet de serre par pays au cours du temps. On pourra ne pas prendre en compte les valeurs de l'UE.\n",
        "3. Tracez la production de la France, l'Allemagne, l'Italie et la Grèce.\n",
        "4.  Identifiez les pays les plus emmetteurs de gaz à effet de serre de 2010 à 2020.\n",
        "4.  Calculez et tracez en fonction de l'année la production cumulée des 5 pays les plus emmetteurs de gaz à effet de 2000 à 2010.\n",
        "5.  Calculez et tracez sur le même graphe les émissions des autres pays (en excluant les 5 plus emmetteurs)."
      ],
      "metadata": {
        "id": "7D-na6OBYYqx"
      }
    },
    {
      "cell_type": "code",
      "source": [
        "import pandas as pd\n",
        "\n",
        "url = 'https://raw.githubusercontent.com/cparent3/SMD1_2024_25/refs/heads/main/data/greenhouse_gases_eea_s_eu-sdg-13-10_p_1990-2022_v02_r00.csv'\n",
        "data = pd.read_csv(url)\n",
        "\n",
        "data.head()"
      ],
      "metadata": {
        "id": "HReBGFcoW5gE",
        "outputId": "3ebc7cb7-a8cd-4d06-8204-5718ea2a619f",
        "colab": {
          "base_uri": "https://localhost:8080/",
          "height": 573
        }
      },
      "execution_count": 117,
      "outputs": [
        {
          "output_type": "execute_result",
          "data": {
            "text/plain": [
              "  eu_sdg dimension               dimension_label    unit         unit_label  \\\n",
              "0  13_10    GGCO2E  Net greenhouse gas emissions  GGCO2E  Gg CO2 equivalent   \n",
              "1  13_10    GGCO2E  Net greenhouse gas emissions  GGCO2E  Gg CO2 equivalent   \n",
              "2  13_10    GGCO2E  Net greenhouse gas emissions  GGCO2E  Gg CO2 equivalent   \n",
              "3  13_10    GGCO2E  Net greenhouse gas emissions  GGCO2E  Gg CO2 equivalent   \n",
              "4  13_10    GGCO2E  Net greenhouse gas emissions  GGCO2E  Gg CO2 equivalent   \n",
              "\n",
              "         geo                                  geo_label  time    obs_value  \\\n",
              "0  EU27_2020  European Union - 27 countries (from 2020)  1990  4649770.440   \n",
              "1  EU27_2020  European Union - 27 countries (from 2020)  1991  4320714.824   \n",
              "2  EU27_2020  European Union - 27 countries (from 2020)  1992  4214004.125   \n",
              "3  EU27_2020  European Union - 27 countries (from 2020)  1993  4304232.584   \n",
              "4  EU27_2020  European Union - 27 countries (from 2020)  1994  4190637.451   \n",
              "\n",
              "   obs_status  \n",
              "0         NaN  \n",
              "1         NaN  \n",
              "2         NaN  \n",
              "3         NaN  \n",
              "4         NaN  "
            ],
            "text/html": [
              "\n",
              "  <div id=\"df-0a3a28bf-1e4f-4bc1-884a-d1a3f7abf2bb\" class=\"colab-df-container\">\n",
              "    <div>\n",
              "<style scoped>\n",
              "    .dataframe tbody tr th:only-of-type {\n",
              "        vertical-align: middle;\n",
              "    }\n",
              "\n",
              "    .dataframe tbody tr th {\n",
              "        vertical-align: top;\n",
              "    }\n",
              "\n",
              "    .dataframe thead th {\n",
              "        text-align: right;\n",
              "    }\n",
              "</style>\n",
              "<table border=\"1\" class=\"dataframe\">\n",
              "  <thead>\n",
              "    <tr style=\"text-align: right;\">\n",
              "      <th></th>\n",
              "      <th>eu_sdg</th>\n",
              "      <th>dimension</th>\n",
              "      <th>dimension_label</th>\n",
              "      <th>unit</th>\n",
              "      <th>unit_label</th>\n",
              "      <th>geo</th>\n",
              "      <th>geo_label</th>\n",
              "      <th>time</th>\n",
              "      <th>obs_value</th>\n",
              "      <th>obs_status</th>\n",
              "    </tr>\n",
              "  </thead>\n",
              "  <tbody>\n",
              "    <tr>\n",
              "      <th>0</th>\n",
              "      <td>13_10</td>\n",
              "      <td>GGCO2E</td>\n",
              "      <td>Net greenhouse gas emissions</td>\n",
              "      <td>GGCO2E</td>\n",
              "      <td>Gg CO2 equivalent</td>\n",
              "      <td>EU27_2020</td>\n",
              "      <td>European Union - 27 countries (from 2020)</td>\n",
              "      <td>1990</td>\n",
              "      <td>4649770.440</td>\n",
              "      <td>NaN</td>\n",
              "    </tr>\n",
              "    <tr>\n",
              "      <th>1</th>\n",
              "      <td>13_10</td>\n",
              "      <td>GGCO2E</td>\n",
              "      <td>Net greenhouse gas emissions</td>\n",
              "      <td>GGCO2E</td>\n",
              "      <td>Gg CO2 equivalent</td>\n",
              "      <td>EU27_2020</td>\n",
              "      <td>European Union - 27 countries (from 2020)</td>\n",
              "      <td>1991</td>\n",
              "      <td>4320714.824</td>\n",
              "      <td>NaN</td>\n",
              "    </tr>\n",
              "    <tr>\n",
              "      <th>2</th>\n",
              "      <td>13_10</td>\n",
              "      <td>GGCO2E</td>\n",
              "      <td>Net greenhouse gas emissions</td>\n",
              "      <td>GGCO2E</td>\n",
              "      <td>Gg CO2 equivalent</td>\n",
              "      <td>EU27_2020</td>\n",
              "      <td>European Union - 27 countries (from 2020)</td>\n",
              "      <td>1992</td>\n",
              "      <td>4214004.125</td>\n",
              "      <td>NaN</td>\n",
              "    </tr>\n",
              "    <tr>\n",
              "      <th>3</th>\n",
              "      <td>13_10</td>\n",
              "      <td>GGCO2E</td>\n",
              "      <td>Net greenhouse gas emissions</td>\n",
              "      <td>GGCO2E</td>\n",
              "      <td>Gg CO2 equivalent</td>\n",
              "      <td>EU27_2020</td>\n",
              "      <td>European Union - 27 countries (from 2020)</td>\n",
              "      <td>1993</td>\n",
              "      <td>4304232.584</td>\n",
              "      <td>NaN</td>\n",
              "    </tr>\n",
              "    <tr>\n",
              "      <th>4</th>\n",
              "      <td>13_10</td>\n",
              "      <td>GGCO2E</td>\n",
              "      <td>Net greenhouse gas emissions</td>\n",
              "      <td>GGCO2E</td>\n",
              "      <td>Gg CO2 equivalent</td>\n",
              "      <td>EU27_2020</td>\n",
              "      <td>European Union - 27 countries (from 2020)</td>\n",
              "      <td>1994</td>\n",
              "      <td>4190637.451</td>\n",
              "      <td>NaN</td>\n",
              "    </tr>\n",
              "  </tbody>\n",
              "</table>\n",
              "</div>\n",
              "    <div class=\"colab-df-buttons\">\n",
              "\n",
              "  <div class=\"colab-df-container\">\n",
              "    <button class=\"colab-df-convert\" onclick=\"convertToInteractive('df-0a3a28bf-1e4f-4bc1-884a-d1a3f7abf2bb')\"\n",
              "            title=\"Convert this dataframe to an interactive table.\"\n",
              "            style=\"display:none;\">\n",
              "\n",
              "  <svg xmlns=\"http://www.w3.org/2000/svg\" height=\"24px\" viewBox=\"0 -960 960 960\">\n",
              "    <path d=\"M120-120v-720h720v720H120Zm60-500h600v-160H180v160Zm220 220h160v-160H400v160Zm0 220h160v-160H400v160ZM180-400h160v-160H180v160Zm440 0h160v-160H620v160ZM180-180h160v-160H180v160Zm440 0h160v-160H620v160Z\"/>\n",
              "  </svg>\n",
              "    </button>\n",
              "\n",
              "  <style>\n",
              "    .colab-df-container {\n",
              "      display:flex;\n",
              "      gap: 12px;\n",
              "    }\n",
              "\n",
              "    .colab-df-convert {\n",
              "      background-color: #E8F0FE;\n",
              "      border: none;\n",
              "      border-radius: 50%;\n",
              "      cursor: pointer;\n",
              "      display: none;\n",
              "      fill: #1967D2;\n",
              "      height: 32px;\n",
              "      padding: 0 0 0 0;\n",
              "      width: 32px;\n",
              "    }\n",
              "\n",
              "    .colab-df-convert:hover {\n",
              "      background-color: #E2EBFA;\n",
              "      box-shadow: 0px 1px 2px rgba(60, 64, 67, 0.3), 0px 1px 3px 1px rgba(60, 64, 67, 0.15);\n",
              "      fill: #174EA6;\n",
              "    }\n",
              "\n",
              "    .colab-df-buttons div {\n",
              "      margin-bottom: 4px;\n",
              "    }\n",
              "\n",
              "    [theme=dark] .colab-df-convert {\n",
              "      background-color: #3B4455;\n",
              "      fill: #D2E3FC;\n",
              "    }\n",
              "\n",
              "    [theme=dark] .colab-df-convert:hover {\n",
              "      background-color: #434B5C;\n",
              "      box-shadow: 0px 1px 3px 1px rgba(0, 0, 0, 0.15);\n",
              "      filter: drop-shadow(0px 1px 2px rgba(0, 0, 0, 0.3));\n",
              "      fill: #FFFFFF;\n",
              "    }\n",
              "  </style>\n",
              "\n",
              "    <script>\n",
              "      const buttonEl =\n",
              "        document.querySelector('#df-0a3a28bf-1e4f-4bc1-884a-d1a3f7abf2bb button.colab-df-convert');\n",
              "      buttonEl.style.display =\n",
              "        google.colab.kernel.accessAllowed ? 'block' : 'none';\n",
              "\n",
              "      async function convertToInteractive(key) {\n",
              "        const element = document.querySelector('#df-0a3a28bf-1e4f-4bc1-884a-d1a3f7abf2bb');\n",
              "        const dataTable =\n",
              "          await google.colab.kernel.invokeFunction('convertToInteractive',\n",
              "                                                    [key], {});\n",
              "        if (!dataTable) return;\n",
              "\n",
              "        const docLinkHtml = 'Like what you see? Visit the ' +\n",
              "          '<a target=\"_blank\" href=https://colab.research.google.com/notebooks/data_table.ipynb>data table notebook</a>'\n",
              "          + ' to learn more about interactive tables.';\n",
              "        element.innerHTML = '';\n",
              "        dataTable['output_type'] = 'display_data';\n",
              "        await google.colab.output.renderOutput(dataTable, element);\n",
              "        const docLink = document.createElement('div');\n",
              "        docLink.innerHTML = docLinkHtml;\n",
              "        element.appendChild(docLink);\n",
              "      }\n",
              "    </script>\n",
              "  </div>\n",
              "\n",
              "\n",
              "<div id=\"df-7b80d55c-5c6d-42c3-a394-88c1f2d9c291\">\n",
              "  <button class=\"colab-df-quickchart\" onclick=\"quickchart('df-7b80d55c-5c6d-42c3-a394-88c1f2d9c291')\"\n",
              "            title=\"Suggest charts\"\n",
              "            style=\"display:none;\">\n",
              "\n",
              "<svg xmlns=\"http://www.w3.org/2000/svg\" height=\"24px\"viewBox=\"0 0 24 24\"\n",
              "     width=\"24px\">\n",
              "    <g>\n",
              "        <path d=\"M19 3H5c-1.1 0-2 .9-2 2v14c0 1.1.9 2 2 2h14c1.1 0 2-.9 2-2V5c0-1.1-.9-2-2-2zM9 17H7v-7h2v7zm4 0h-2V7h2v10zm4 0h-2v-4h2v4z\"/>\n",
              "    </g>\n",
              "</svg>\n",
              "  </button>\n",
              "\n",
              "<style>\n",
              "  .colab-df-quickchart {\n",
              "      --bg-color: #E8F0FE;\n",
              "      --fill-color: #1967D2;\n",
              "      --hover-bg-color: #E2EBFA;\n",
              "      --hover-fill-color: #174EA6;\n",
              "      --disabled-fill-color: #AAA;\n",
              "      --disabled-bg-color: #DDD;\n",
              "  }\n",
              "\n",
              "  [theme=dark] .colab-df-quickchart {\n",
              "      --bg-color: #3B4455;\n",
              "      --fill-color: #D2E3FC;\n",
              "      --hover-bg-color: #434B5C;\n",
              "      --hover-fill-color: #FFFFFF;\n",
              "      --disabled-bg-color: #3B4455;\n",
              "      --disabled-fill-color: #666;\n",
              "  }\n",
              "\n",
              "  .colab-df-quickchart {\n",
              "    background-color: var(--bg-color);\n",
              "    border: none;\n",
              "    border-radius: 50%;\n",
              "    cursor: pointer;\n",
              "    display: none;\n",
              "    fill: var(--fill-color);\n",
              "    height: 32px;\n",
              "    padding: 0;\n",
              "    width: 32px;\n",
              "  }\n",
              "\n",
              "  .colab-df-quickchart:hover {\n",
              "    background-color: var(--hover-bg-color);\n",
              "    box-shadow: 0 1px 2px rgba(60, 64, 67, 0.3), 0 1px 3px 1px rgba(60, 64, 67, 0.15);\n",
              "    fill: var(--button-hover-fill-color);\n",
              "  }\n",
              "\n",
              "  .colab-df-quickchart-complete:disabled,\n",
              "  .colab-df-quickchart-complete:disabled:hover {\n",
              "    background-color: var(--disabled-bg-color);\n",
              "    fill: var(--disabled-fill-color);\n",
              "    box-shadow: none;\n",
              "  }\n",
              "\n",
              "  .colab-df-spinner {\n",
              "    border: 2px solid var(--fill-color);\n",
              "    border-color: transparent;\n",
              "    border-bottom-color: var(--fill-color);\n",
              "    animation:\n",
              "      spin 1s steps(1) infinite;\n",
              "  }\n",
              "\n",
              "  @keyframes spin {\n",
              "    0% {\n",
              "      border-color: transparent;\n",
              "      border-bottom-color: var(--fill-color);\n",
              "      border-left-color: var(--fill-color);\n",
              "    }\n",
              "    20% {\n",
              "      border-color: transparent;\n",
              "      border-left-color: var(--fill-color);\n",
              "      border-top-color: var(--fill-color);\n",
              "    }\n",
              "    30% {\n",
              "      border-color: transparent;\n",
              "      border-left-color: var(--fill-color);\n",
              "      border-top-color: var(--fill-color);\n",
              "      border-right-color: var(--fill-color);\n",
              "    }\n",
              "    40% {\n",
              "      border-color: transparent;\n",
              "      border-right-color: var(--fill-color);\n",
              "      border-top-color: var(--fill-color);\n",
              "    }\n",
              "    60% {\n",
              "      border-color: transparent;\n",
              "      border-right-color: var(--fill-color);\n",
              "    }\n",
              "    80% {\n",
              "      border-color: transparent;\n",
              "      border-right-color: var(--fill-color);\n",
              "      border-bottom-color: var(--fill-color);\n",
              "    }\n",
              "    90% {\n",
              "      border-color: transparent;\n",
              "      border-bottom-color: var(--fill-color);\n",
              "    }\n",
              "  }\n",
              "</style>\n",
              "\n",
              "  <script>\n",
              "    async function quickchart(key) {\n",
              "      const quickchartButtonEl =\n",
              "        document.querySelector('#' + key + ' button');\n",
              "      quickchartButtonEl.disabled = true;  // To prevent multiple clicks.\n",
              "      quickchartButtonEl.classList.add('colab-df-spinner');\n",
              "      try {\n",
              "        const charts = await google.colab.kernel.invokeFunction(\n",
              "            'suggestCharts', [key], {});\n",
              "      } catch (error) {\n",
              "        console.error('Error during call to suggestCharts:', error);\n",
              "      }\n",
              "      quickchartButtonEl.classList.remove('colab-df-spinner');\n",
              "      quickchartButtonEl.classList.add('colab-df-quickchart-complete');\n",
              "    }\n",
              "    (() => {\n",
              "      let quickchartButtonEl =\n",
              "        document.querySelector('#df-7b80d55c-5c6d-42c3-a394-88c1f2d9c291 button');\n",
              "      quickchartButtonEl.style.display =\n",
              "        google.colab.kernel.accessAllowed ? 'block' : 'none';\n",
              "    })();\n",
              "  </script>\n",
              "</div>\n",
              "\n",
              "    </div>\n",
              "  </div>\n"
            ],
            "application/vnd.google.colaboratory.intrinsic+json": {
              "type": "dataframe",
              "variable_name": "data",
              "summary": "{\n  \"name\": \"data\",\n  \"rows\": 1287,\n  \"fields\": [\n    {\n      \"column\": \"eu_sdg\",\n      \"properties\": {\n        \"dtype\": \"category\",\n        \"num_unique_values\": 1,\n        \"samples\": [\n          \"13_10\"\n        ],\n        \"semantic_type\": \"\",\n        \"description\": \"\"\n      }\n    },\n    {\n      \"column\": \"dimension\",\n      \"properties\": {\n        \"dtype\": \"category\",\n        \"num_unique_values\": 1,\n        \"samples\": [\n          \"GGCO2E\"\n        ],\n        \"semantic_type\": \"\",\n        \"description\": \"\"\n      }\n    },\n    {\n      \"column\": \"dimension_label\",\n      \"properties\": {\n        \"dtype\": \"category\",\n        \"num_unique_values\": 1,\n        \"samples\": [\n          \"Net greenhouse gas emissions\"\n        ],\n        \"semantic_type\": \"\",\n        \"description\": \"\"\n      }\n    },\n    {\n      \"column\": \"unit\",\n      \"properties\": {\n        \"dtype\": \"category\",\n        \"num_unique_values\": 1,\n        \"samples\": [\n          \"GGCO2E\"\n        ],\n        \"semantic_type\": \"\",\n        \"description\": \"\"\n      }\n    },\n    {\n      \"column\": \"unit_label\",\n      \"properties\": {\n        \"dtype\": \"category\",\n        \"num_unique_values\": 1,\n        \"samples\": [\n          \"Gg CO2 equivalent\"\n        ],\n        \"semantic_type\": \"\",\n        \"description\": \"\"\n      }\n    },\n    {\n      \"column\": \"geo\",\n      \"properties\": {\n        \"dtype\": \"category\",\n        \"num_unique_values\": 39,\n        \"samples\": [\n          \"ME\"\n        ],\n        \"semantic_type\": \"\",\n        \"description\": \"\"\n      }\n    },\n    {\n      \"column\": \"geo_label\",\n      \"properties\": {\n        \"dtype\": \"category\",\n        \"num_unique_values\": 39,\n        \"samples\": [\n          \"Montenegro\"\n        ],\n        \"semantic_type\": \"\",\n        \"description\": \"\"\n      }\n    },\n    {\n      \"column\": \"time\",\n      \"properties\": {\n        \"dtype\": \"number\",\n        \"std\": 9,\n        \"min\": 1990,\n        \"max\": 2022,\n        \"num_unique_values\": 33,\n        \"samples\": [\n          2021\n        ],\n        \"semantic_type\": \"\",\n        \"description\": \"\"\n      }\n    },\n    {\n      \"column\": \"obs_value\",\n      \"properties\": {\n        \"dtype\": \"number\",\n        \"std\": 671761.1558465319,\n        \"min\": -2336.1837,\n        \"max\": 4649770.44,\n        \"num_unique_values\": 912,\n        \"samples\": [\n          64334.05996\n        ],\n        \"semantic_type\": \"\",\n        \"description\": \"\"\n      }\n    },\n    {\n      \"column\": \"obs_status\",\n      \"properties\": {\n        \"dtype\": \"number\",\n        \"std\": null,\n        \"min\": null,\n        \"max\": null,\n        \"num_unique_values\": 0,\n        \"samples\": [],\n        \"semantic_type\": \"\",\n        \"description\": \"\"\n      }\n    }\n  ]\n}"
            }
          },
          "metadata": {},
          "execution_count": 117
        }
      ]
    },
    {
      "cell_type": "markdown",
      "metadata": {
        "id": "F7D2PR-sEbSu"
      },
      "source": [
        "\n",
        "\n",
        "---\n",
        "\n"
      ]
    },
    {
      "cell_type": "markdown",
      "metadata": {
        "id": "LkpwbQEVMys2"
      },
      "source": [
        "# **Exercices pour aller plus loin**"
      ]
    },
    {
      "cell_type": "markdown",
      "metadata": {
        "id": "J2oYsrMGXnyj"
      },
      "source": [
        "### **Exercice 1**  Pierre Feuille Ciseaux\n",
        "Créez un jeu où l'utilisateur joue contre l'ordinateur au jeu classique de Pierre-Papier-Ciseaux.\n",
        "\n",
        "Aide:\n",
        "\n",
        "Options du jeu :\n",
        "*    L'utilisateur doit pouvoir choisir entre trois options : Pierre, Papier, ou Ciseaux (utiliser `input()`).\n",
        "*    L'ordinateur choisit également de manière aléatoire l'une des trois options.\n",
        "\n",
        "Règles du jeu :\n",
        "\n",
        "*    Pierre bat Ciseaux.\n",
        "*    Ciseaux battent Papier.\n",
        "*    Papier bat Pierre.\n",
        "*    Si les deux choix sont identiques, c'est un match nul.\n",
        "\n",
        "Interaction avec l'utilisateur :\n",
        "\n",
        "*    Demandez à l'utilisateur de faire un choix.\n",
        "*    Affichez le choix de l'ordinateur.\n",
        "*    Annoncez le résultat (gagnant, perdant, ou match nul).\n",
        "\n",
        "Rejouer :\n",
        "\n",
        "*    À la fin de chaque partie, demandez à l'utilisateur s'il souhaite jouer à nouveau."
      ]
    },
    {
      "cell_type": "code",
      "execution_count": 3,
      "metadata": {
        "id": "xd34wMYDYA9S"
      },
      "outputs": [],
      "source": []
    },
    {
      "cell_type": "markdown",
      "source": [
        "### **Exercice 2** Fractale de Mandelbrot (***)\n",
        "\n",
        "Une fractale est une structure qui présente une complexité infinie à toutes les échelles. La fractale de Mandelbrot est l'une des plus célèbres. Elle est définie à partir de la suite suivante :\n",
        "$z_{n+1} = z_n^2 + c$ où $z_0 = 0$ et $c$ est un point complexe du plan. Si la suite diverge (la valeur de $z_n$ devient infinie), le point $c$ ne fait pas partie de l'ensemble de Mandelbrot.\n",
        "\n",
        "L'objectif est de tester pour chaque point $c$ du plan complexe s'il appartient ou non à cet ensemble.\n",
        "\n",
        "1.  Avec `linespace` de `numpy`, créez deux ensembles de coordonnées complexes : l'axe des abscisses $x$ et des ordonnées $x$. On peut fixer les dimensions des axes: $x \\in [-2 , 1]$ et $y \\in [-1.5, 1.5]$\n",
        "2.  Créer une grille complexe avec `np.meshgrid(x, y)`\n",
        "3.  Ecrivez une fonction `mandelbrot(c, max_iter)` qui prend en paramètre un nombre complexe `c` et renvoie le nombre d'itérations avant divergence, ou bien renvoie `max_iter` si le point ne diverge pas.\n",
        "4.  Parcourez chaque point de la grille avec deux boucles imbriquées et appliquez la fonction `mandelbrot` pour chaque point $Z[i,j]$. Enregistrez le résultat dans une matrice.\n",
        "5.  Utilisez `plt.imshow()` pour visualiser le tableau des résultats."
      ],
      "metadata": {
        "id": "O7N8rKEiONf6"
      }
    },
    {
      "cell_type": "code",
      "source": [],
      "metadata": {
        "id": "_oTtSLTmOMCw"
      },
      "execution_count": 3,
      "outputs": []
    },
    {
      "cell_type": "markdown",
      "source": [
        "### **Exercice 3** Courbes de Gauss\n",
        "\n",
        "Vous allez tracer plusieurs courbes de distribution normale (ou courbes de Gauss) en modifiant les paramètres de la moyenne $\\mu$ et de l'écart-type $\\sigma$.\n",
        " 1. Créez une liste de 3 valeurs pour $\\mu$ et 3 valeurs pour $\\sigma$.\n",
        " 2. Ecrivez une fonction ` gauss(x, m, sigma)` qui renvoie les valeurs de la gaussienne correspondante aux paramètres donnés\n",
        " 3.  Tracez, pour chaque combinaison de $\\mu$ et $\\sigma$, la courbe correspondant avec toutes les courbes sur le même graphique. Vous veillerez à indiquer en légende les paramètres correspondants à chaque courbe.\n",
        " Aide: ajustez l'intervalle de x par rapport aux valeurs des paramètres  $\\mu$ et $\\sigma$."
      ],
      "metadata": {
        "id": "kla5l5aPmlEv"
      }
    },
    {
      "cell_type": "code",
      "source": [],
      "metadata": {
        "id": "E8DKX0MtQAQl"
      },
      "execution_count": 3,
      "outputs": []
    },
    {
      "cell_type": "markdown",
      "source": [
        "### **Exercice 4** Jeu de dés\n",
        "Ecrivez une fonction qui, pour une valeur donnée, renvoie toutes les solutions de 3 dés (dés classiques allant de 1 à 6) pouvant donner cette valeur. Attention, les solutions doivent être uniques. Si la solution (1, 2, 3) convient pour la valeur 6 alors la solution (2, 3, 1) ne peut plus convenir (les dés sont interchangeables)."
      ],
      "metadata": {
        "id": "9Orjy40uobsQ"
      }
    },
    {
      "cell_type": "code",
      "source": [],
      "metadata": {
        "id": "VtZwyBPblJvn"
      },
      "execution_count": 3,
      "outputs": []
    },
    {
      "cell_type": "markdown",
      "source": [
        "### **Exercice 5** Codage et encodage\n",
        "\n",
        "Créez un programme en Python qui permet de coder et décoder un message en utilisant un algorithme simple de chiffrement par décalage (chiffrement de César). Le chiffrement de César consiste à décaler chaque lettre du message d'un certain nombre de positions dans l'alphabet. Par exemple, avec un décalage de 3 ; A devient D ; B devient E ; et ainsi de suite.\n",
        "\n",
        "Pour cela :\n",
        "1.  Ecrivez une fonction `cesar_coder(message, shift)` qui pour chaque caractère du message:\n",
        "*  Si le caractère est une lettre majuscule (`.isupper()`), change sa valeur par `chr((ord(char) + shift - 65) % 26 + 65)`\n",
        "*   Si le caractère est une lettre minuscule (`.islower()`), change sa valeur par `chr((ord(char) + shift - 97) % 26 + 97)`\n",
        "*  Si c'est un caractère alphanumérique, ne change pas sa valeur.\n",
        "\n",
        "Et qui renvoe le message encodé.\n",
        "\n",
        "2. Ecrivez une fonction `cesar_decoder(message, shift)` pour décoder un message (aide: on peut appeler la fonction définie juste avant)\n",
        "\n",
        "3.  On a reçu le message suivant: \"Hxgbu ! Buay ygbkf jmiujkx at skyygmk.\", mais impossible de se souvenir de la valeur du décalage. Pouvez-vous le décoder?\n",
        "\n",
        "\n",
        "\n",
        "\n"
      ],
      "metadata": {
        "id": "VbXXnTlRqn-E"
      }
    },
    {
      "cell_type": "code",
      "source": [],
      "metadata": {
        "id": "ONZSRLCPqzEZ"
      },
      "execution_count": 3,
      "outputs": []
    }
  ],
  "metadata": {
    "colab": {
      "provenance": [],
      "include_colab_link": true
    },
    "kernelspec": {
      "display_name": "Python 3",
      "name": "python3"
    }
  },
  "nbformat": 4,
  "nbformat_minor": 0
}